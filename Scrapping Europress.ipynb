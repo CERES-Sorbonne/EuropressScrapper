{
 "cells": [
  {
   "cell_type": "code",
   "execution_count": 1,
   "id": "27891d7c",
   "metadata": {},
   "outputs": [],
   "source": [
    "import requests\n",
    "from bs4 import BeautifulSoup as bs\n",
    "import os\n",
    "requests.packages.urllib3.disable_warnings() \n"
   ]
  },
  {
   "cell_type": "code",
   "execution_count": 12,
   "id": "71637c2b",
   "metadata": {},
   "outputs": [],
   "source": [
    "def parse_cookies(c_string, sep=\";\"):\n",
    "    key_values = c_string.split(sep)\n",
    "    return {key_value.split('=')[0]: key_value.split('=')[1] for key_value in key_values}"
   ]
  },
  {
   "cell_type": "code",
   "execution_count": 102,
   "id": "7b105a6c",
   "metadata": {},
   "outputs": [],
   "source": [
    "def get_all_results(cookies, step=1000):\n",
    "    url = \"https://nouveau-europresse-com.accesdistant.sorbonne-universite.fr/DocumentList/GetNextPage\"\n",
    "\n",
    "    params = {\n",
    "        'listType': 1,\n",
    "        'pageNo': 0,\n",
    "        'docPerPage': step\n",
    "    }\n",
    "    res = requests.get('https://nouveau-europresse-com.accesdistant.sorbonne-universite.fr/DocumentList/GetNextPage', \n",
    "                       cookies=cookies, \n",
    "                       params=params, verify=False)\n",
    "    return res.content.decode()"
   ]
  },
  {
   "cell_type": "code",
   "execution_count": 60,
   "id": "b656a4d9",
   "metadata": {},
   "outputs": [],
   "source": [
    "def get_validation_token(c_string):\n",
    "    url = \"https://nouveau-europresse-com.accesdistant.sorbonne-universite.fr/Search/AdvancedMobile\"\n",
    "    res = requests.get(url, verify=False, cookies=parse_cookies(c_string))\n",
    "    return res.content.decode().split('hidden\" value=\"')[1].split('\" />')[0]"
   ]
  },
  {
   "cell_type": "code",
   "execution_count": 68,
   "id": "3aa9ca33",
   "metadata": {},
   "outputs": [
    {
     "name": "stdout",
     "output_type": "stream",
     "text": [
      "200\n"
     ]
    },
    {
     "data": {
      "text/plain": [
       "b'<!DOCTYPE html>\\r\\n<html class=\"no-js\">\\r\\n<head>\\r\\n\\t<meta http-equiv=\"X-UA-Compatible\" content=\"IE=edge\" />\\r\\n\\t<title>Europresse</title>\\r\\n\\t<meta name=\"description\" content=\"Diffusion d&#39;information de presse sur Internet\" />\\r\\n\\t<meta name=\"keywords\" content=\"Cision, articles, archives, journaux, moteur, recherche, revue, presse\" />\\r\\n\\t<meta name=\"viewport\" content=\"width=device-width, initial-scale=1\" />\\r\\n\\r\\n\\t<link href=\"/bundles/css?v=M1oJwUmwT7scpFflRL3WEk2nizlbFllMjWeyGAJL54Y1\" rel=\"stylesheet\"/>\\r\\n<link href=\"/bundles/css/jquery-ui?v=q99EwJe4nVNrtf0dn1Ij_yo4_qnk-09bpJ3tw9qtLu01\" rel=\"stylesheet\"/>\\r\\n\\r\\n\\t<link href=\"https://fonts.googleapis.com/css?family=Montserrat:300,400,500,600\" rel=\"stylesheet\">\\r\\n\\t\\r\\n\\t<link href=\"/bundles/css/result/mobile?v=kVxxlVGiA2ndSYsJPuwLdVdpd8_nqSQnc34sp8eygig1\" rel=\"stylesheet\"/>\\r\\n<link href=\"/bundles/css/document?v=Fb-PC6CsDFryoN1wTA2DHZ2r7XDqc4epUC7ShquOvnA1\" rel=\"stylesheet\"/>\\r\\n<link href=\"/bundles/css/stats?v=1zIKMcnOMMpPSNVEy8ncu10TaQ0kekUUGsNcoN2-9j81\" rel=\"stylesheet\"/>\\r\\n\\r\\n\\r\\n\\t<link rel=\"stylesheet\" href=\"https://pro.fontawesome.com/releases/v5.3.1/css/all.css\" integrity=\"sha384-9ralMzdK1QYsk4yBY680hmsb4/hJ98xK3w0TIaJ3ll4POWpWUYaA2bRjGGujGT8w\" crossorigin=\"anonymous\">\\r\\n\\t<script src=\"/Scripts/vendor/modernizr.js\"></script>\\r\\n\\t<!--[if lt IE 9]>\\r\\n\\t\\t<script src=\"//ajax.googleapis.com/ajax/libs/jquery/1.12.4/jquery.min.js\"></script>\\r\\n\\t\\t<script>window.jQuery || document.write(\\'<script src=\"/Scripts/vendor/jquery-1.12.4.min.js\"><\\\\/script>\\')</script>\\r\\n\\t<![endif]-->\\r\\n\\t<!--[if gte IE 9]><!-->\\r\\n\\t<script src=\"//ajax.googleapis.com/ajax/libs/jquery/3.5.1/jquery.min.js\"></script>\\r\\n\\t<script>window.jQuery || document.write(\\'<script src=\"/Scripts/vendor/jquery-3.5.1.min.js\"><\\\\/script>\\')</script>\\r\\n\\t<!--<![endif]-->\\r\\n\\t<script>(function(e,a){if(!a.__SV){var b=window;try{var c,l,i,j=b.location,g=j.hash;c=function(a,b){return(l=a.match(RegExp(b+\" = ([^ &] *)\")))?l[1]:null};g&&c(g,\"state\")&&(i=JSON.parse(decodeURIComponent(c(g,\"state\"))),\"mpeditor\"===i.action&&(b.sessionStorage.setItem(\"_mpcehash\",g),history.replaceState(i.desiredHash||\"\",e.title,j.pathname+j.search)))}catch(m){}var k,h;window.mixpanel=a;a._i=[];a.init=function(b,c,f){function e(b,a){var c=a.split(\".\");2==c.length&&(b=b[c[0]],a=c[1]);b[a]=function(){b.push([a].concat(Array.prototype.slice.call(arguments,0)))}}var d=a;\"undefined\"!==typeof f?d=a[f]=[]:f=\"mixpanel\";d.people=d.people||[];d.toString=function(b){var a=\"mixpanel\";\"mixpanel\"!==f&&(a+=\".\"+f);b||(a+=\" (stub)\");return a};d.people.toString=function(){return d.toString(1)+\".people(stub)\"};k=\"disable time_event track track_pageview track_links track_forms register register_once alias unregister identify name_tag set_config reset people.set people.set_once people.increment people.append people.union people.track_charge people.clear_charges people.delete_user\".split(\" \");for(h=0;h<k.length;h++)e(d,k[h]);a._i.push([b,c,f])};a.__SV=1.2;b=e.createElement(\"script\");b.type=\"text/javascript\";b.async=!0;b.src=\"undefined\"!==typeof MIXPANEL_CUSTOM_LIB_URL?MIXPANEL_CUSTOM_LIB_URL:\"file:\"===e.location.protocol&&\"//cdn.mxpnl.com/libs/mixpanel-2-latest.min.js\".match(/^\\\\/\\\\//)?\"https://cdn.mxpnl.com/libs/mixpanel-2-latest.min.js\":\"//cdn.mxpnl.com/libs/mixpanel-2-latest.min.js\";c=e.getElementsByTagName(\"script\")[0];c.parentNode.insertBefore(b,c)}})(document,window.mixpanel||[]);mixpanel.init(\\'116bb615db02bfd2800b004362b744fe\\'); mixpanel.identify(\\'54510\\'); mixpanel.people.set({\"$first_name\": \"\", \"$last_name\": \"\", \"$email\": \"\"});</script>\\r\\n</head>\\r\\n<body class=\"module-search resultmobile\">\\r\\n\\t<div id=\"sidenav-overlay\"></div>\\r\\n\\r\\n\\t<header id=\"topNav\">\\r\\n        \\r\\n\\r\\n\\r\\n\\t<div id=\"welcomeText\">Bonjour  Sorbonne Universit&#233;</div>\\r\\n\\r\\n<div id=\"nav\">\\r\\n\\t<span id=\"logoIcon\">\\r\\n\\t\\t<img src=\"/images/Interface/Logos/Europresse_FR_reverse.svg\" />\\r\\n\\t</span>\\r\\n\\t\\r\\n<div id=\"topNavTitle\">\\r\\n\\t\\t<div class=\"clearfix\">\\r\\n\\t\\t\\t\\t<a id=\"topNavSearch\" href=\"/Search/Reading\" class=\"topnav2  topnav3\">RECHERCHER</a>\\r\\n\\t\\t\\t\\t<a id=\"topNavFolder\" href=\"/Folder/\" class=\"topnav2 \">DOSSIERS</a>\\r\\n\\t\\t\\t\\t<a id=\"topNavPdf\" href=\"/Pdf\" class=\"topnav2 \">PUBLICATIONS PDF</a>\\r\\n\\t\\t</div>\\r\\n\\t\\t<div id=\"menu-user-mobile\" class=\"bordersection\">\\r\\n\\t\\t\\t<a class=\"users-mobile\">&#201;tudiant </a>\\r\\n\\t\\t\\t\\t\\t\\t\\t<a id=\"switchVersion\" href=\"/Search/Result\" class=\"topnav2 \">Version classique</a>\\r\\n\\t\\t\\t\\t<a id=\"logout\" href=\"/Logout\" class=\"topnav2 \">D&#233;connexion</a>\\r\\n\\t\\t</div>\\r\\n</div>\\r\\n\\r\\n<div id=\"sidenav-mobile\">\\r\\n\\t\\t<ul class=\"sidenav-menu-list\">\\r\\n\\r\\n\\t\\t\\t\\t<li class=\"sidenav-menu-list-item \">\\r\\n\\t\\t\\t\\t\\t<a id=\"topNavSearch\"\\r\\n\\t\\t\\t\\t\\t   href=\"/Search/Reading\"\\r\\n\\t\\t\\t\\t\\t   class=\" active\">\\r\\n\\t\\t\\t\\t\\t\\tRECHERCHER\\r\\n\\t\\t\\t\\t\\t</a>\\r\\n\\r\\n\\t\\t\\t\\t</li>\\r\\n\\t\\t\\t\\t<li class=\"sidenav-menu-list-item \">\\r\\n\\t\\t\\t\\t\\t<a id=\"topNavFolder\"\\r\\n\\t\\t\\t\\t\\t   href=\"/Folder/\"\\r\\n\\t\\t\\t\\t\\t   class=\"\">\\r\\n\\t\\t\\t\\t\\t\\tDOSSIERS\\r\\n\\t\\t\\t\\t\\t</a>\\r\\n\\r\\n\\t\\t\\t\\t</li>\\r\\n\\t\\t\\t\\t<li class=\"sidenav-menu-list-item \">\\r\\n\\t\\t\\t\\t\\t<a id=\"topNavPdf\"\\r\\n\\t\\t\\t\\t\\t   href=\"/Pdf\"\\r\\n\\t\\t\\t\\t\\t   class=\"\">\\r\\n\\t\\t\\t\\t\\t\\tPUBLICATIONS PDF\\r\\n\\t\\t\\t\\t\\t</a>\\r\\n\\r\\n\\t\\t\\t\\t</li>\\r\\n\\t\\t</ul>\\r\\n\\t\\t<div class=\"sidenav-menu-user\">\\r\\n\\t\\t\\t<a id=\"sidenav-user\">\\r\\n\\t\\t\\t\\t<table style=\"width:180px\">\\r\\n\\t\\t\\t\\t\\t<tr>\\r\\n\\t\\t\\t\\t\\t\\t<td>\\r\\n\\t\\t\\t\\t\\t\\t\\t<span class=\"sidenav-username\">&#201;tudiant</span>\\r\\n\\t\\t\\t\\t\\t\\t</td>\\r\\n\\t\\t\\t\\t\\t</tr>\\r\\n\\t\\t\\t\\t</table>\\r\\n\\t\\t\\t</a>\\r\\n\\r\\n\\t\\t\\t\\t<ul id=\"sidenav-user-profiles\" style=\"display: none\">\\r\\n\\t\\t\\t\\t</ul>\\r\\n\\t\\t\\t\\r\\n\\t\\t\\t<ul id=\"sidenav-user-responsive-menu\">\\r\\n\\t\\t\\t\\t\\t<li>\\r\\n\\t\\t\\t\\t\\t\\t<a id=\"switchVersion\" href=\"/Search/Result\" class=\"\">Version classique</a>\\r\\n\\t\\t\\t\\t\\t</li>\\r\\n\\t\\t\\t\\t\\t<li>\\r\\n\\t\\t\\t\\t\\t\\t<a id=\"logout\" href=\"/Logout\" class=\"\">D&#233;connexion</a>\\r\\n\\t\\t\\t\\t\\t</li>\\r\\n\\t\\t\\t</ul>\\r\\n\\t\\t</div>\\r\\n</div>\\r\\n\\r\\n\\t\\t<div id=\"menu-user\">\\r\\n\\t\\t\\t<span id=\"menu-title\" data-target=\"dropdown-menu-user\"><span class=\"signature-account\">&#201;tudiant</span></span> \\r\\n\\t\\t\\t<ul id=\"dropdown-menu-user\" class=\"dropdown-menu\" style=\"display: none;\">\\r\\n\\t\\t\\t\\t\\r\\n\\r\\n\\t\\t\\t\\t\\t\\t\\t\\t\\t<li>\\r\\n\\t\\t\\t\\t\\t\\t<a id=\"switchVersion\" href=\"/Search/Result\" class=\"topnav\">Version classique</a>\\r\\n\\t\\t\\t\\t\\t</li>\\r\\n\\t\\t\\t\\t\\t<li>\\r\\n\\t\\t\\t\\t\\t\\t<a id=\"logout\" href=\"/Logout\" class=\"topnav\">D&#233;connexion</a>\\r\\n\\t\\t\\t\\t\\t</li>\\r\\n\\t\\t\\t</ul>\\r\\n\\t\\t</div>\\r\\n\\r\\n\\r\\n\\r\\n\\t<span id=\"helpIcon\">\\r\\n\\t\\t<i id=\"imgHelpIcon\" class=\"fa fa-question\" title=\"Aide\"></i>\\r\\n\\t</span>\\r\\n\\t\\r\\n\\t\\r\\n\\t\\t<span id=\"toggleLang\" class=\"toggle-full-text\">\\r\\n\\t\\t\\t<a href=\"/Navigation/ToggleLanguage\" class=\"topnav\">English</a>\\r\\n\\t\\t</span>\\r\\n\\t\\t<span id=\"toggleLang\" class=\"toggle-small-text\">\\r\\n\\t\\t\\t<a href=\"/Navigation/ToggleLanguage\">En</a>\\r\\n\\t\\t</span>\\r\\n\\r\\n\\r\\n\\r\\n\\t\\t<span id=\"myBasketText\">\\r\\n\\t\\t\\t(<span id=\"basketCount\">0</span>)\\r\\n\\t\\t</span>\\r\\n\\t\\t<span id=\"myBasketIcon\">\\r\\n\\t\\t\\t<a href=\"/Topic/Pinned?url=/Search/ResultMobile\"><i class=\"fa fa-thumbtack\" title=\"Documents &#233;pingl&#233;s\"></i></a>\\r\\n\\t\\t</span>\\r\\n\\t\\r\\n\\t\\r\\n\\t\\t<span id=\"menuIcon\">\\r\\n\\t\\t\\t<i id=\"imgMenuIcon\" class=\"fa fa-bars\"></i>\\r\\n\\t\\t</span>\\r\\n</div>\\r\\n\\r\\n\\t<div id=\"topNavHelp\">\\r\\n\\t\\t\\t<a href=\"http://www.europresse.com/wp-content/uploads/sites/2/2021/12/guide-europresse-usager-bpe_-dec_-2021.pdf\" target=\"_blank\" class=\"help-link\">Guide d\\xe2\\x80\\x99utilisation</a>\\r\\n\\t\\t\\t<a href=\"https://www.youtube.com/watch?v=_KUVhL7ITgo\" target=\"_blank\" class=\"help-link\">Comment effectuer une recherche simple</a>\\r\\n\\t\\t\\t<a href=\"https://www.youtube.com/watch?v=V3-SDk86NKY\" target=\"_blank\" class=\"help-link\">Comment effectuer une recherche avanc\\xc3\\xa9e</a>\\r\\n\\t\\t\\t<a href=\"https://www.youtube.com/watch?v=0HtOKvihZKw\" target=\"_blank\" class=\"help-link\">Comment visualiser les r\\xc3\\xa9sultats de recherche</a>\\r\\n\\t\\t\\t<a href=\"https://www.youtube.com/watch?v=1vF2siVNrLs\" target=\"_blank\" class=\"help-link\">Comment sauvegarder un document</a>\\r\\n\\t\\t\\t<a href=\"https://www.youtube.com/watch?v=zLh8NhDF5G4\" target=\"_blank\" class=\"help-link\">Comment imprimer un document</a>\\r\\n\\t\\t\\t<a href=\"https://www.youtube.com/watch?v=vSkLo9jWtGg\" target=\"_blank\" class=\"help-link\">Comment utiliser les publications PDF</a>\\r\\n\\t\\t\\t<a href=\"https://www.youtube.com/watch?v=9ykmH8vch-8\" target=\"_blank\" class=\"help-link\">Comment \\xc3\\xa9pingler un document</a>\\r\\n\\t\\t\\t<a href=\"http://nouveau.eureka.cc/WebPages/Sources/SourceSearch.aspx\" target=\"_blank\" class=\"help-link\">Notre contenu</a>\\r\\n\\t\\t\\t<a href=\"https://nouveau-europresse-com.accesdistant.sorbonne-universite.fr/Login/PrivatePolicy\" target=\"_blank\" class=\"help-link\">Politique de confidentialit\\xc3\\xa9</a>\\r\\n\\t</div>\\r\\n\\r\\n<script>\\r\\n\\tvar _UIlangId = 1;\\r\\n\\tvar _isMsgActivate = false;\\r\\n\\tvar _isCheckBoxHide = false;\\r\\n\\tvar lbl_closePopup = \"Fermer\";\\r\\n\\tvar _lbl_pleaseWait = \"Veuillez patienter...\";\\r\\n\\r\\n\\tvar _CheckBoxHide = !_isCheckBoxHide;\\r\\n\\tif (_CheckBoxHide) {\\r\\n\\t\\tvar _lblDoNotShow = \"Ne plus afficher ce message\";\\r\\n\\t}\\r\\n\\r\\n    var lbl_continueSite = \"Continuer vers le site\";\\r\\n\\tvar _lblPar = \\'par\\';\\r\\n\\r\\n\\t $(document).on(\\'click\\', \\'#switchVersion\\', function (){ mixpanel.track(\\'Passage entre versions\\', {\\'event\\':\\'/Search/Result\\'});});\\t\\r\\n\\t $(document).on(\\'click\\', \\'#topNavSearch\\', function (){ mixpanel.track(\\'Recherche\\', {\\'event\\':\\'/Search/Reading\\'});});\\r\\n\\t $(document).on(\\'click\\', \\'#topNavFolder\\', function (){ mixpanel.track(\\'Dossiers\\', {\\'event\\':\\'/Folder/\\'});});\\r\\n\\t $(document).on(\\'click\\', \\'#topNavPdf\\', function (){ mixpanel.track(\\'Publications PDF\\', {\\'event\\':\\'/Pdf\\'});});\\r\\n</script>\\r\\n\\r\\n\\r\\n    </header>\\r\\n\\r\\n    <section id=\"main\" class=\"\">\\r\\n        \\r\\n\\r\\n\\r\\n\\r\\n\\r\\n\\r\\n\\r\\n\\r\\n\\r\\n<div id=\"loading\"></div>\\r\\n<form action=\"/Search/Reading\" method=\"post\"><input name=\"__RequestVerificationToken\" type=\"hidden\" value=\"JgZWOjxfsVIz0Y25w188htFhJ44ghQSF8bVuH2D59NHHXwrr7SKzmt1bT830klgPua2EHWqm-qVKEpOC0\" />    <div id=\"headerInfo\" class=\"header-info\">\\r\\n        <div id=\"divQuerySearch\" class=\"query-search\">\\r\\n            <div class=\"query-wrapper\">\\r\\n                <div id=\"divQuery\" class=\"query\">\\r\\n                    <div class=\"logo360-container\">\\r\\n                        <?xml version=\"1.0\" encoding=\"utf-8\"?>\\r\\n<!-- Generator: Adobe Illustrator 19.1.0, SVG Export Plug-In . SVG Version: 6.00 Build 0)  -->\\r\\n<svg version=\"1.1\" id=\"imgSearch360\" class=\"img-search-360\" xmlns=\"http://www.w3.org/2000/svg\" xmlns:xlink=\"http://www.w3.org/1999/xlink\" x=\"0px\" y=\"0px\"\\r\\n\\t viewBox=\"-208 357.2 195 79.8\" style=\"enable-background:new -208 357.2 195 79.8;\" xml:space=\"preserve\">\\r\\n<style type=\"text/css\">\\r\\n\\t.st0{fill:#2D2520;}\\r\\n\\t.st1{fill:#00B3CF;}\\r\\n\\t.st2{fill:#E94C70;}\\r\\n\\t.st3{fill:#114C96;}\\r\\n\\t.st4{fill:#539E43;}\\r\\n\\t.st5{fill:#602C7F;}\\r\\n</style>\\r\\n<path class=\"st0\" d=\"M-20.7,372.6c-4.2,0-7.7-3.4-7.7-7.7c0-4.2,3.4-7.7,7.7-7.7c4.2,0,7.7,3.4,7.7,7.7\\r\\n\\tC-13,369.2-16.4,372.6-20.7,372.6z M-20.7,360.6c-2.4,0-4.3,1.9-4.3,4.3s1.9,4.3,4.3,4.3s4.3-1.9,4.3-4.3\\r\\n\\tC-16.3,362.5-18.3,360.6-20.7,360.6z\"/>\\r\\n<path class=\"st0\" d=\"M-184.8,436.7c-11.8,0-21.5-8.4-23.2-20.1h8.2c1.7,7.2,7.9,11.8,15.2,11.8c8.5-0.1,15.3-7.5,15.2-16\\r\\n\\tc-0.2-11-12.7-15.6-12.9-15.6c0.4,0,10.2-3.3,9.7-14c-0.3-6.4-5.6-11.2-11.7-11.2c-5.6,0-11.7,4.4-12.4,10.6h-8\\r\\n\\tc0.7-10.7,10-19,20.7-18.8c10.8,0.2,19.7,8.7,19.9,19.4c0.1,5.5-1.2,9.4-4.7,13.4c5.3,4.8,7.6,9.9,7.6,17.1\\r\\n\\tC-161.1,426.2-172,436.7-184.8,436.7z\"/>\\r\\n<path class=\"st0\" d=\"M-130.6,437c-13.7-0.4-24.6-12-24.6-25.7c0-7.1,3.4-11.9,7.3-18.6l16.1-27.5h9.4l-13.4,23.2\\r\\n\\tc2.6-1,4.4-1.7,7.4-1.7c13.3-0.2,24.1,11.2,24.4,24.6C-103.8,425.5-116.3,437.5-130.6,437z M-128.9,394.6\\r\\n\\tc-9.5-0.3-17.7,7.3-17.8,16.7c-0.1,9.5,7.7,17.4,17,17.4c9.5,0,17.2-8,17-17.5C-112.8,402.3-120,394.9-128.9,394.6z\"/>\\r\\n<g>\\r\\n\\t<g>\\r\\n\\t\\t<path class=\"PrintMedia st1\" d=\"M-79.6,376.9c9.4-6.9,21.6-7.2,31.1-1.9l5.9-1l-0.9-5.6c-12.4-7.5-28.6-7.2-41,1.9c-0.1,0.1-0.2,0.1-0.3,0.2\\r\\n\\t\\t\\tl6,0.9L-79.6,376.9z\"/>\\r\\n\\t\\t<path class=\"AudioVisual st2\" d=\"M-34.4,405.6l2.7,5.2l5.1-2.7c2.3-10.1,0.3-21.1-6.3-30.1c-2.4-3.2-5.2-6-8.3-8.2l1,5.8l-5.7,0.9\\r\\n\\t\\t\\tc2.4,1.7,4.6,3.8,6.5,6.3C-34.5,389.8-32.9,398-34.4,405.6z\"/>\\r\\n\\t\\t<path class=\"SocialNetworks st3\" d=\"M-32.6,413.6l-2.6-5c-1.7,5.7-5.2,10.8-10.4,14.6c-4.2,3.1-9,4.9-13.9,5.4l-4,4.1l4.2,4.2\\r\\n\\t\\t\\tc6.5-0.6,12.9-2.9,18.5-7.1c6.6-4.9,11.2-11.6,13.4-19L-32.6,413.6z\"/>\\r\\n\\t\\t<path class=\"References st4\" d=\"M-85.7,417.1c-1.2-1.7-2.2-3.4-3-5.2l-5.1-2.5l-2.7,5.4c1.1,2.5,2.5,4.9,4.2,7.2c7.4,10,18.9,15.2,30.4,15\\r\\n\\t\\t\\tl-4.4-4.3l3.8-3.9C-71.3,428.8-80,424.8-85.7,417.1z\"/>\\r\\n\\t\\t<path class=\"Report st5\" d=\"M-86.9,372.3c-11.5,10.1-15.4,26-10.6,39.9l2.8-5.5l4.9,2.4c-3.5-10.6-0.6-22.6,7.9-30.3l0.9-5.7L-86.9,372.3\\r\\n\\t\\t\\tz\"/>\\r\\n\\t</g>\\r\\n</g>\\r\\n</svg>\\r\\n\\r\\n                        <span id=\"arrow\" class=\"arrow360 arrow_dropup\"></span>\\r\\n                    </div>\\r\\n                    <div class=\"input-search\">\\r\\n                        <div class=\"align-center\">\\r\\n                            <div class=\"input-container\">\\r\\n\\t                            <input class=\"keywords invalidRequest\" id=\"Keywords\" name=\"NativeQuery\" type=\"text\" value=\"\" />\\r\\n\\t                            <button type=\"button\" id=\"btnSpeakStart\" class=\"bt-speak-start\">\\r\\n                                    <img id=\"imgSpeakStart\" class=\"img-speak-start\" src=\"/images/mic.gif\" onclick=\"startButton(event)\"/>\\r\\n                                </button>\\r\\n                            </div>\\r\\n                            <button type=\"submit\" id=\"btnSearch\" class=\"bt-search\"><span class=\"loupe_grand\"></span></button>\\r\\n                            <span class=\"lnk\"><a href=\"/Search/AdvancedMobile\" class=\"lnk-href\"><span class=\"lnk-text\">Recherche avanc&#233;e</span><i class=\"far fa-arrow-circle-right\"></i></a></span>\\r\\n                        </div>\\r\\n                    </div>\\r\\n                    <span class=\"img-criteria-container\">\\r\\n                        <button id=\"imgCriteria\" type=\"button\"><span class=\"bouton_filtre_desactif\"></span></button>\\r\\n                    </span>\\r\\n                </div>\\r\\n                <span id=\"filterOption\" class=\"criteria-hidden hidden\"></span>\\r\\n                <div id=\"divCriteria\" class=\"criteria filter-container\">\\r\\n                    <div id=\"titleAccordion\" class=\"accordion title-accordion\">\\r\\n                        <span>Filtrer les documents par ...</span>\\r\\n                        <span id=\"imgClosePopup\" class=\"btn_close\"></span>\\r\\n                    </div>\\r\\n                    <div class=\"text-filters\">\\r\\n                        <div class=\"accordion\">\\r\\n                            <span class=\"date-filter\">\\r\\n                                <select id=\"DateRange\" name=\"DateFilter.DateRange\"><option value=\"1\">Aujourd&#39;hui</option>\\r\\n<option value=\"2\">Depuis hier</option>\\r\\n<option value=\"11\">Depuis 3 jours</option>\\r\\n<option value=\"3\">Depuis 7 jours</option>\\r\\n<option selected=\"selected\" value=\"4\">Depuis 30 jours</option>\\r\\n<option value=\"5\">Depuis 3 mois</option>\\r\\n<option value=\"6\">Depuis 6 mois</option>\\r\\n<option value=\"7\">Depuis 1 an</option>\\r\\n<option value=\"8\">Depuis 2 ans</option>\\r\\n<option value=\"9\">Dans toutes les archives</option>\\r\\n</select>\\r\\n\\t                            <input type=\"hidden\" name=\"SearchType\" value=\"AdvancedMobile\" />\\r\\n\\t                            \\r\\n                                <input type=\"hidden\" name=\"DateFilter.DateStart\" value=\"2022-03-23\" />\\r\\n                                <input type=\"hidden\" name=\"DateFilter.DateStop\" value=\"2022-03-23\" />\\r\\n                            </span>\\r\\n                        </div>\\r\\n                        <div class=\"accordion\">\\r\\n                            <span class=\"criteria-filter\">\\r\\n                                <select id=\"CriteriaSet\" name=\"CriteriaSet\"><optgroup>\\r\\n<option selected=\"selected\" value=\"0\">Tout le contenu</option>\\r\\n<option value=\"198485\">France</option>\\r\\n<option value=\"198486\">France - Presse nationale</option>\\r\\n<option value=\"198481\">Afrique </option>\\r\\n<option value=\"198482\">Am&#233;rique</option>\\r\\n<option value=\"198483\">Asie</option>\\r\\n<option value=\"198484\">Europe</option>\\r\\n<option value=\"198487\">Moyen-Orient</option>\\r\\n<option value=\"198488\">Oc&#233;anie</option>\\r\\n<option value=\"198489\">Rapports</option>\\r\\n<option value=\"198495\">Sources en fran&#231;ais</option>\\r\\n<option value=\"198493\">Sources en anglais</option>\\r\\n<option value=\"198494\">Sources en espagnol</option>\\r\\n<option value=\"198492\">Sources en allemand</option>\\r\\n<option value=\"198496\">Sources en portugais</option>\\r\\n<option value=\"198490\">R&#233;seaux sociaux-Parlementaires(Canada)</option>\\r\\n<option value=\"198491\">R&#233;seaux sociaux-Parlementaires(France)</option>\\r\\n<option value=\"213179\">R&#233;seaux sociaux</option>\\r\\n</optgroup>\\r\\n</select>\\r\\n                            </span>\\r\\n                        </div>\\r\\n                    </div>\\r\\n                </div>\\r\\n            </div>\\r\\n        </div>\\r\\n        <div id=\"divSpeakSearch\">\\r\\n\\r\\n<span id=\"final_span\" class=\"final\"></span>\\r\\n<span id=\"interim_span\" class=\"interim\"></span>\\r\\n<div>\\r\\n    \\r\\n    <div id=\"info\" class=\"info\">\\r\\n        \\r\\n        <p id=\"info_speak_now\">Parlez.</p>\\r\\n        <p id=\"info_no_speech\">Aucun son n\\xe2\\x80\\x99a \\xc3\\xa9t\\xc3\\xa9 d\\xc3\\xa9tect\\xc3\\xa9. V\\xc3\\xa9rifiez les r\\xc3\\xa9glages de votre <a href=\"//support.google.com/chrome/bin/answer.py?hl=fr&amp;answer=1407892\">micro</a>.</p>\\r\\n        <p id=\"info_no_microphone\" style=\"display:none\">Aucun micro n\\xe2\\x80\\x99a \\xc3\\xa9t\\xc3\\xa9 d\\xc3\\xa9tect\\xc3\\xa9. Assurez-vous que votre <a href=\"//support.google.com/chrome/bin/answer.py?hl=fr&amp;answer=1407892\">micro</a> soit bien install\\xc3\\xa9 et que ses r\\xc3\\xa9glages soient correctement configur\\xc3\\xa9s.</p>\\r\\n        <p id=\"info_allow\">Cliquez sur le bouton &#171;&#160;Autoriser&#160;&#187; pour activer votre micro.</p>\\r\\n        <p id=\"info_denied\">Autorisation d\\xe2\\x80\\x99utiliser le micro refus&#233;e.</p>\\r\\n        <p id=\"info_blocked\">Autorisation d\\xe2\\x80\\x99utiliser le micro bloqu\\xc3\\xa9e. Pour changer vos r\\xc3\\xa9glages, rendez-vous \\xc3\\xa0 l\\xe2\\x80\\x99adresse <i>chrome://settings/contentExceptions#media-stream</i></p>\\r\\n        <p id=\"info_upgrade\">L\\xe2\\x80\\x99API de reconnaissance vocale n\\xe2\\x80\\x99est pas compatible avec ce navigateur. Optez pour la version 25 ou une version plus r\\xc3\\xa9cente de <a href=\"//www.google.com/chrome\">Chrome</a>.</p>\\r\\n    </div>\\r\\n    <div>\\r\\n        <span class=\"mic-listen\"></span>\\r\\n    </div>\\r\\n</div>\\r\\n<div id=\"divCancelSpeakSearch\" class=\"cancel-speak-search\">\\r\\n    <button type=\"button\" id=\"btnCancelSpeakSearch\" class=\"WhiteButton\">Annuler</button>\\r\\n</div>\\r\\n\\r\\n        </div>\\r\\n    </div>\\r\\n    <div id=\"divResultFilters\">\\r\\n\\r\\n<div id=\"divFilters\" class=\"filters\">\\r\\n    <div class=\"sourceFilter\" style=\"float:left;\"><input checked=\"checked\" id=\"PostedFilters_FiltersIDs10165\" name=\"PostedFilters.FiltersIDs\" type=\"checkbox\" value=\"8001\" /><label for=\"PostedFilters_FiltersIDs10165\"><div class=\"PrintMedia filter\" data-tooltip=\"Journaux<br/>Magazines et revues<br/>Presse web<br/>Presse web r\\xc3\\xa9f\\xc3\\xa9renc\\xc3\\xa9<br/>Communiqu\\xc3\\xa9s de presse<br/>Fils de presse;Contenu de presse \\xc3\\xa9crite publi\\xc3\\xa9 sous une marque reconnue\" ><span class=\"filterLabel\">Presse</span></div></label><br/></div> <div class=\"sourceFilter\" style=\"float:left;\"><input checked=\"checked\" id=\"PostedFilters_FiltersIDs10166\" name=\"PostedFilters.FiltersIDs\" type=\"checkbox\" value=\"8000\" /><label for=\"PostedFilters_FiltersIDs10166\"><div class=\"AudioVisual filter\" data-tooltip=\"T\\xc3\\xa9l\\xc3\\xa9vision<br/>Radio<br/>Webt\\xc3\\xa9l\\xc3\\xa9; Contenu audio/vid\\xc3\\xa9o diffus\\xc3\\xa9 sur les cha\\xc3\\xaenes de radio et de t\\xc3\\xa9l\\xc3\\xa9 ou sur Internet\" ><span class=\"filterLabel\">T\\xc3\\xa9l\\xc3\\xa9vision et radio</span></div></label><br/></div> <div class=\"sourceFilter\" style=\"float:left;\"><input checked=\"checked\" id=\"PostedFilters_FiltersIDs10167\" name=\"PostedFilters.FiltersIDs\" type=\"checkbox\" value=\"403\" /><label for=\"PostedFilters_FiltersIDs10167\"><div class=\"SocialNetworks filter\" data-tooltip=\"R\\xc3\\xa9seaux Sociaux<br/>Forums<br/>Blogues<br/>Blogues r\\xc3\\xa9f\\xc3\\xa9renc\\xc3\\xa9s<br/>Wiki sociaux;Contenu ax\\xc3\\xa9 sur la collaboration et les interactions sociales telles que les commentaires, les partages, etc..\" ><span class=\"filterLabel\">M\\xc3\\xa9dias sociaux</span></div></label><br/></div> <div class=\"sourceFilter\" style=\"float:left;\"><input checked=\"checked\" id=\"PostedFilters_FiltersIDs10168\" name=\"PostedFilters.FiltersIDs\" type=\"checkbox\" value=\"5355\" /><label for=\"PostedFilters_FiltersIDs10168\"><div class=\"Report filter\" data-tooltip=\"Rapports, \\xc3\\xa9tudes, pr\\xc3\\xa9sentations PowerPoint\\xc2\\xae, tableaux de donn\\xc3\\xa9es provenant d\\xe2\\x80\\x99organismes et d\\xe2\\x80\\x99entreprises reconnus\" ><span class=\"filterLabel\">\\xc3\\x89tudes et rapports</span></div></label><br/></div> <div class=\"sourceFilter\" style=\"float:left;\"><input checked=\"checked\" id=\"PostedFilters_FiltersIDs10169\" name=\"PostedFilters.FiltersIDs\" type=\"checkbox\" value=\"8002\" /><label for=\"PostedFilters_FiltersIDs10169\"><div class=\"References filter\" data-tooltip=\"Fiches biographiques<br/>Fiches entreprises<br/>Encyclop\\xc3\\xa9dies<br/>Sites web de r\\xc3\\xa9f\\xc3\\xa9rence;Banques de connaissances r\\xc3\\xa9guli\\xc3\\xa8rement mises \\xc3\\xa0 jour provenant de sources faisant autorit\\xc3\\xa9\" ><span class=\"filterLabel\">R\\xc3\\xa9pertoires et r\\xc3\\xa9f\\xc3\\xa9rences</span></div></label><br/></div>  <div style=\"clear:both;\"></div>\\r\\n    <div id=\"divSelectAll\" class=\"select-all\">\\r\\n        <span>Tous</span>\\r\\n    </div>\\r\\n</div>\\r\\n\\r\\n    </div>\\r\\n</form>\\r\\n\\r\\n\\r\\n\\r\\n<div id=\"goToTop\" class=\"docButton icon_anchor\"></div>\\r\\n\\r\\n    </section>\\r\\n    \\r\\n    <nav id=\"topicNav\">\\r\\n        \\r\\n    </nav>\\r\\n\\r\\n    <aside id=\"docList\" class=\"mainPanel\">\\r\\n        \\r\\n    <div id=\"resultList\" class=\"panel\">\\r\\n            <div class=\"invalidRequest\">\\r\\n                <span>\\r\\n                    <img src=\"/images/warning.png\"> Requ&#234;te invalide.<br/><br />\\r\\n                    Utilisation incorrecte de l&#39;op&#233;rateur [+] &#224; la position [8]. Cet op&#233;rateur doit &#234;tre pr&#233;c&#233;d&#233; d&#39;au moins 1 caract&#232;re alphanum&#233;rique et suivi de 1 caract&#232;re non-alphanum&#233;rique.\\r\\n                </span>\\r\\n            </div>\\r\\n    </div>\\r\\n\\r\\n<div id=\"chartMessage\" class=\"doc-Stats\"></div>\\r\\n\\r\\n<div id=\"docStats\" class=\"doc-Stats\">\\r\\n    \\r\\n\\r\\n\\t<div class=\"charts-header\">\\r\\n\\t\\t<h4>Tableau de bord</h4><span data-popup=\"Repr&#233;sentation graphique des r&#233;sultats d\\xe2\\x80\\x99une recherche bas&#233;e sur des indicateurs cl&#233;s.&lt;p/&gt;Les contenus des cat&#233;gories Soci&#233;t&#233;s, Biographies et Bing ne sont pas pris en compte pour cette repr&#233;sentation.\" class=\"icon-help-stats\"></span>\\r\\n\\t</div>\\r\\n\\r\\n    <div class=\"charts-wrapper\">\\r\\n        <div class=\"chart-box chart-box-60\">\\r\\n            <div class=\"chart-box-mix\">\\r\\n                <span data-popup=\"R&#233;partition des m&#233;dias qui traitent du sujet recherch&#233;.\" class=\"icon-help-stats icon-Help-Mixmedia-fr\"></span>\\r\\n                <div class=\"chartStats\" aggstype=\"0\"><span class=\"chartWaiting\"></span></div>\\r\\n            </div>\\r\\n        </div><div class=\"chart-box chart-box-40\">\\r\\n            <div class=\"chart-box-tone\">\\r\\n                <span data-popup=\"R&#233;partition de la tonalit&#233; des r&#233;sultats de la recherche (Positif \\xe2\\x80\\x93 Neutre \\xe2\\x80\\x93 N&#233;gatif).\" class=\"icon-help-stats icon-Help-Tone-fr\"></span>\\r\\n                <div class=\"chartStats\" aggstype=\"1\"><span class=\"chartWaiting\"></span></div>\\r\\n            </div>\\r\\n        </div>\\r\\n        <div class=\"chart-box chart-box-100\">\\r\\n            <span data-popup=\"&#201;volution de la couverture m&#233;diatique du sujet sur la p&#233;riode recherch&#233;e.\" class=\"icon-help-stats icon-Help-Evolutionmedia-en\"></span>\\r\\n            <div class=\"chartStats\" aggstype=\"2\"><span class=\"chartWaiting\"></span></div>\\r\\n        </div>\\r\\n        <div class=\"chart-box chart-box-50\">\\r\\n            <span data-popup=\"Classement des sources ayant diffus&#233; le plus grand nombre de documents relatifs &#224; la recherche.\" class=\"icon-help-stats icon-Help-Topsource-en\"></span>\\r\\n            <div class=\"chartStats chart-height-350\" aggstype=\"4\"><span class=\"chartWaiting\"></span></div>\\r\\n        </div><div class=\"chart-box chart-box-author\">\\r\\n            <span data-popup=\"Classement des auteurs traitant du sujet recherch&#233;, selon le nombre de documents publi&#233;s.\" class=\"icon-help-stats icon-Help-author-fr\"></span>\\r\\n            <div class=\"chartStats chart-height-350\" aggstype=\"3\"><span class=\"chartWaiting\"></span></div>\\r\\n        </div>\\r\\n        <div id=\"chart-Toptrending\" style=\"width:100%;\" class=\"chart-box chart-box-100\">\\r\\n            <span data-popup=\"Nuage de termes les plus fr&#233;quemment associ&#233;s au sujet recherch&#233;.\" class=\"icon-help-stats icon-Help-Toptrending-fr\"></span>\\r\\n            <div class=\"chartStats\" aggstype=\"5\"><span class=\"chartWaiting\"></span></div>\\r\\n        </div>\\r\\n    </div>\\r\\n</div>\\r\\n<style>\\r\\n    #chart-Toptrending svg:not(:root) {\\r\\n        overflow: visible !important;\\r\\n    }\\r\\n    #chart-Toptrending .word-cloud{\\r\\n        /*width: 100% !important;*/\\r\\n        overflow: visible !important;\\r\\n    }\\r\\n</style>\\r\\n\\r\\n<script>\\r\\n    var lbl_ChartError = \\'<i class=\"fa fa-info-circle orange\"></i> Une erreur inattendue est survenue, veuillez relancer votre recherche.<p/>Si le probl\\xc3\\xa8me persiste, r\\xc3\\xa9essayez plus tard ou contactez le service \\xc3\\xa0 la client\\xc3\\xa8le.\\';\\r\\n\\tvar errorMsg = \\'Une erreur inattendue est survenue, veuillez contacter le service \\xc3\\xa0 la client\\xc3\\xa8le.\\';\\r\\n\\tvar excelSearchResultGenerationSuccessMsg = \\'Le fichier sera envoy\\xc3\\xa9 \\xc3\\xa0\\';\\r\\n\\tvar userEmail = \\'\\';\\r\\n\\r\\n    var lbl_Title = function (aggstype) {\\r\\n        if (aggstype == 0)\\r\\n            return \"M\\xc3\\xa9dias\";\\r\\n        if (aggstype == 1)\\r\\n            return \"Tonalit\\xc3\\xa9\";\\r\\n        if (aggstype == 2)\\r\\n            return \"\\xc3\\x89volution\";\\r\\n        if (aggstype == 3)\\r\\n            return \"Influenceurs\";\\r\\n        if (aggstype == 4)\\r\\n            return \"Sources\";\\r\\n        if (aggstype == 5)\\r\\n            return \"Concepts cl\\xc3\\xa9s\";\\r\\n        return \"\";\\r\\n    }\\r\\n</script>\\r\\n\\r\\n\\r\\n    </aside>\\r\\n\\r\\n    <article id=\"doc\" class=\"mainPanel\">\\r\\n        \\r\\n\\t<div id=\"prevDoc\" class=\"center prev\"></div>\\r\\n\\t<div id=\"currentDoc\" class=\"panel\"></div>\\r\\n\\t<div id=\"nextDoc\" class=\"center next\"></div>\\r\\n\\r\\n\\r\\n\\r\\n    </article>\\r\\n    \\r\\n    <footer id=\"footer\">\\r\\n\\t\\t<div class=\"copyRight\">&copy; Cision inc., 2022</div>\\r\\n    </footer>\\r\\n\\r\\n    <script src=\"/Scripts/jquery-ui.min.js\"></script>\\r\\n    <script src=\"/bundles/js?v=URmdlZMxtVnyALwyHf9Y7_-z4JSyJGQ-VQEbpNgOKDM1\"></script>\\r\\n<script src=\"/bundles/js/jquery-plugins?v=U4kD05eq_D3z6aR9m-Pkywr22MBa-Bs45OFCrLBGmAY1\"></script>\\r\\n\\r\\n    <script type=\"text/javascript\" src=\"/JavaScriptResourceHandler.js?ui=1\"></script>\\r\\n    <script>\\r\\n        var _UIlangId = 1;     \\r\\n        if (typeof _isMsgActivate !== \\'undefined\\' && _isMsgActivate)\\r\\n            openCommunication(_UIlangId);\\r\\n        $(document).ready(function () {\\r\\n        var _UIlangId = 1;\\r\\n        var isComm =0;\\r\\n        var isCSession = false;\\r\\n        if (isComm == 3 && !isCSession)\\r\\n        openCommunication(_UIlangId);\\r\\n    });\\r\\n    </script>\\r\\n    \\r\\n<script>\\r\\n\\t    _MVCPath = \"/Result/\";\\r\\n\\t    var _docKeyPos =  -1;\\r\\n\\t    var _docKeyList = [];\\r\\n\\t    var _maxDoc = 0;\\r\\n\\t    var _lblDate = \"Date\";\\r\\n\\t    var _lblDomain = \"Domaine couvert\";\\r\\n\\t    var _lblAdvCriteria = \"Crit\\xc3\\xa8re avanc\\xc3\\xa9\";\\r\\n\\t\\tvar _lblAdvCriteriaGrp = \"Crit\\xc3\\xa8res avanc\\xc3\\xa9s\";\\r\\n        var txt_title_send = \\'Envoi de r\\xc3\\xa9f\\xc3\\xa9rences\\';\\r\\n        var btn_Cancel = \\'Annuler\\';\\r\\n        var lbl_Send = \\'Envoyer\\';\\r\\n\\t    var _nrDoc = 0;\\r\\n\\t\\tvar _codeFact = \"\";\\r\\n\\t\\tvar _isInBasket = {\"$type\":\"System.Collections.Generic.Dictionary`2[[System.String, mscorlib],[System.Boolean, mscorlib]], mscorlib\"};\\r\\n\\t\\tvar lbl_noData = \\'<div class=\"noDataNews\"><img src=\"/images/interface/search/no_data_available_fr.svg\"/></div>\\';\\r\\n\\t\\tvar _toolType = 1;\\r\\n\\t\\tvar PreferencesPresentation = 1;\\r\\n\\t</script>\\r\\n    <script src=\"/Scripts/player/jwplayer.js?v=6.12.4956\"></script>\\r\\n    <script src=\"/JavaScriptVideoHandler.js?ui=1\"></script>\\r\\n\\t\\r\\n\\t<script src=\"https://code.highcharts.com/highcharts.js\"></script>\\r\\n\\t<script src=\"https://code.highcharts.com/highcharts-more.js\"></script> \\r\\n\\t<script src=\"https://code.highcharts.com/modules/exporting.js\"></script>\\r\\n\\r\\n\\t<script src=\"/bundles/js/minisite?v=Bsznir_4JOLY5Hfm6R6_CJ9ansSChozj4GhJ1XPLLyc1\"></script>\\r\\n<script src=\"/bundles/js/result/mobile?v=BkWnJdzvZ0bhV_APv_h5POVpQZ07MgGqPbkRRoti5Ws1\"></script>\\r\\n<script src=\"/bundles/js/document?v=QqTpAfLnZZxusWS2xvXA_13YH397G4i16oifb18NP0Y1\"></script>\\r\\n<script src=\"/bundles/js/document/mobile?v=yXKyyLFKBR9LkMOEHXybh_O9UFM_1D9IqbScFgjBQ_E1\"></script>\\r\\n<script src=\"/bundles/js/video?v=HKPtVxBLxnbREVzTUHQtNKjFl_zqEBa481_T7dTpu1g1\"></script>\\r\\n<script src=\"/bundles/js/stats?v=-IPuqDDno6E6IUk1-b1T7rxxEggmhRI9uaPj5c9yh0s1\"></script>\\r\\n\\r\\n\\r\\n\\t\\r\\n\\t<script async>\\r\\n\\t\\t(function($){\\r\\n\\t\\t\\tvar $span = $(\\'<span class=\"fa\" style=\"display:none\">`</span>\\').appendTo(\\'body\\');\\t\\t\\t\\r\\n\\t\\t\\tif ($span.css(\\'font-family\\') !== \\'\"Font Awesome 5 Pro\"\\' ) {\\r\\n\\t\\t\\t\\t$(\\'head\\').append(\\'<link href=\"/Content/vendor/FontAwesome/css/all.min.css\" rel=\"stylesheet\">\\');\\r\\n\\t\\t\\t}\\r\\n\\t\\t\\t$span.remove();\\r\\n\\t\\t})(window.jQuery);\\r\\n\\t</script>\\r\\n</body>\\r\\n</html>'"
      ]
     },
     "execution_count": 68,
     "metadata": {},
     "output_type": "execute_result"
    }
   ],
   "source": [
    "form = {'__RequestVerificationToken': 'wBDlazGXTAj1jqy9F60YkGQ9ygnm7S1YjLf4eBkKh7R6OerQMU4pq5so05qW_5tsJtqyVvr0zLt4WgMh0',\n",
    " 'Keywords': 'TEXT%3D+Meat+%26+Livestock',\n",
    " 'CriteriaKeys%5B0%5D.Operator': '%26',\n",
    " 'CriteriaKeys%5B0%5D.Key': 'TIT_HEAD',\n",
    " 'CriteriaKeys%5B0%5D.Text': '',\n",
    " 'CriteriaKeys%5B1%5D.Operator': '%26',\n",
    " 'CriteriaKeys%5B1%5D.Key': 'LEAD',\n",
    " 'CriteriaKeys%5B1%5D.Text': '',\n",
    " 'CriteriaKeys%5B2%5D.Operator': '%26',\n",
    " 'CriteriaKeys%5B2%5D.Key': 'AUT_BY',\n",
    " 'CriteriaKeys%5B2%5D.Text': '',\n",
    " 'sources': '0',\n",
    " 'CriteriaSet': '198495',\n",
    " 'sourcesFilter': '',\n",
    " 'PostedFilters.FiltersIDs': '8002',\n",
    " 'DateFilter.DateRange': '10',\n",
    " 'DateFilter.DateStart': '2012-5-23',\n",
    " 'DateFilter.DateStop': '2022-03-23',\n",
    " 'SourcesForm': '0'}\n",
    "url = \"https://nouveau-europresse-com.accesdistant.sorbonne-universite.fr/Search/AdvancedMobile\"\n",
    "# url = \"http://localhost:8000\"\n",
    "res = requests.post(url, data=form, cookies=parse_cookies(cookie_string), verify=False)\n",
    "print(res.status_code)\n",
    "res.content"
   ]
  },
  {
   "cell_type": "code",
   "execution_count": 50,
   "id": "71f01a9e",
   "metadata": {},
   "outputs": [],
   "source": [
    "def parse_body(body_str):\n",
    "    key_values = body_str.split(\"&\")\n",
    "    return {key_value.split('=')[0]: key_value.split('=')[1] for key_value in key_values}"
   ]
  },
  {
   "cell_type": "markdown",
   "id": "b7e45ea2",
   "metadata": {},
   "source": [
    "### Try with selenium instead"
   ]
  },
  {
   "cell_type": "markdown",
   "id": "6a22b9ac",
   "metadata": {},
   "source": [
    "First perform a request manually on the website, set a start and en date and sort by older first\n",
    "Then get the 1000 elements\n",
    "Then we'll try to change the date automatically and start again"
   ]
  },
  {
   "cell_type": "code",
   "execution_count": 3,
   "id": "a56589a4",
   "metadata": {},
   "outputs": [],
   "source": [
    "from selenium import webdriver\n",
    "from selenium.webdriver.common.by import By\n",
    "from selenium.webdriver.support.ui import WebDriverWait\n",
    "from selenium.webdriver.support import expected_conditions as EC\n",
    "from selenium.webdriver.support.ui import Select"
   ]
  },
  {
   "cell_type": "code",
   "execution_count": 4,
   "id": "01a50ae4",
   "metadata": {},
   "outputs": [
    {
     "name": "stderr",
     "output_type": "stream",
     "text": [
      "C:\\Users\\Utilisateur\\AppData\\Local\\Temp\\ipykernel_5760\\483745394.py:2: DeprecationWarning: firefox_profile has been deprecated, please use an Options object\n",
      "  profile = webdriver.FirefoxProfile()\n",
      "C:\\Users\\Utilisateur\\AppData\\Local\\Temp\\ipykernel_5760\\483745394.py:3: DeprecationWarning: firefox_profile has been deprecated, please pass in an Options object\n",
      "  driver = webdriver.Firefox(profile)\n"
     ]
    }
   ],
   "source": [
    "# create a new firefox driver\n",
    "profile = webdriver.FirefoxProfile()\n",
    "driver = webdriver.Firefox(profile)"
   ]
  },
  {
   "cell_type": "code",
   "execution_count": 5,
   "id": "c1b22111",
   "metadata": {},
   "outputs": [],
   "source": [
    "driver.get('https://accesdistant.sorbonne-universite.fr/login?url=https://nouveau.europresse.com/access/ip/default.aspx?un=UPMCT_1')"
   ]
  },
  {
   "cell_type": "code",
   "execution_count": 115,
   "id": "22e7c3f4",
   "metadata": {},
   "outputs": [
    {
     "data": {
      "text/plain": [
       "{'SUAGIMUS': 'TRACEAGIMUS-12223-7AM-CBdCrufqage-M8a6VGCiRXYSVKj5inDx-fx3-auth3.ent.upmc.fr',\n",
       " 'ezproxy': 'nYpaksoV2XltQOV',\n",
       " 'mp_116bb615db02bfd2800b004362b744fe_mixpanel': '%7B%22distinct_id%22%3A%20%2254510%22%2C%22%24device_id%22%3A%20%2217fb7e184f2216-0552f6d6de35cf-4c3e2d72-384000-17fb7e184f3c7a%22%2C%22%24initial_referrer%22%3A%20%22https%3A%2F%2Fauth.sorbonne-universite.fr%2F%22%2C%22%24initial_referring_domain%22%3A%20%22auth.sorbonne-universite.fr%22%2C%22__mps%22%3A%20%7B%7D%2C%22__mpso%22%3A%20%7B%7D%2C%22__mpus%22%3A%20%7B%7D%2C%22__mpa%22%3A%20%7B%7D%2C%22__mpu%22%3A%20%7B%7D%2C%22__mpr%22%3A%20%5B%5D%2C%22__mpap%22%3A%20%5B%5D%2C%22%24user_id%22%3A%20%2254510%22%7D'}"
      ]
     },
     "execution_count": 115,
     "metadata": {},
     "output_type": "execute_result"
    }
   ],
   "source": [
    "# on fait les manips de connexion et la première recherche à la main\n",
    "# puis on récupère les cookies  pour stocker les  résultats\n",
    "all_cookies = driver.get_cookies()\n",
    "cookies = {}\n",
    "for cookie in all_cookies:\n",
    "    cookies[cookie['name']] = cookie['value']\n",
    "cookies"
   ]
  },
  {
   "cell_type": "code",
   "execution_count": 134,
   "id": "89966631",
   "metadata": {},
   "outputs": [],
   "source": [
    "# on récupère les résultats\n",
    "soup = bs(get_all_results(cookies))                #make BeautifulSoup\n",
    "prettyHTML = soup.prettify()\n",
    "prettyHTML\n",
    "mydivs = soup.find_all(\"span\", {\"class\": \"details\"})"
   ]
  },
  {
   "cell_type": "code",
   "execution_count": 159,
   "id": "2b70b7a9",
   "metadata": {},
   "outputs": [
    {
     "data": {
      "text/plain": [
       "1000"
      ]
     },
     "execution_count": 159,
     "metadata": {},
     "output_type": "execute_result"
    }
   ],
   "source": [
    "import re\n",
    "reg = re.compile('checkbox-container selection-visible.*')\n",
    "all_el = soup.find_all(\"div\", {\"class\" : reg})\n",
    "len(all_el)"
   ]
  },
  {
   "cell_type": "code",
   "execution_count": 160,
   "id": "e644db81",
   "metadata": {},
   "outputs": [],
   "source": [
    "all_names = [el.get('name') for el in all_el]"
   ]
  },
  {
   "cell_type": "code",
   "execution_count": 161,
   "id": "cedafbc5",
   "metadata": {},
   "outputs": [
    {
     "data": {
      "text/plain": [
       "1000"
      ]
     },
     "execution_count": 161,
     "metadata": {},
     "output_type": "execute_result"
    }
   ],
   "source": [
    "len(all_names)"
   ]
  },
  {
   "cell_type": "code",
   "execution_count": 135,
   "id": "c5c1cc23",
   "metadata": {},
   "outputs": [
    {
     "name": "stdout",
     "output_type": "stream",
     "text": [
      "2021 8 8\n"
     ]
    }
   ],
   "source": [
    "year, month, day = mydivs[-1].contents[0].strip().split('-')\n",
    "# this gets rid of trailing 0\n",
    "month = str(int(month))\n",
    "day = str(int(month))\n",
    "print(year, month, day)"
   ]
  },
  {
   "cell_type": "code",
   "execution_count": 124,
   "id": "2e848af0",
   "metadata": {},
   "outputs": [],
   "source": [
    "# ensuite on modifie la recherche\n",
    "driver.get('https://nouveau-europresse-com.accesdistant.sorbonne-universite.fr/Search/AdvancedMobile')"
   ]
  },
  {
   "cell_type": "code",
   "execution_count": 130,
   "id": "2762b7d2",
   "metadata": {},
   "outputs": [],
   "source": [
    "select_day = Select(driver.find_element(By.XPATH, '/html/body/section/form/div/div[2]/div[1]/div[5]/div[3]/div/div[2]/span[1]/span/select[1]'))\n",
    "select_month = Select(driver.find_element(By.XPATH, '/html/body/section/form/div/div[2]/div[1]/div[5]/div[3]/div/div[2]/span[1]/span/select[2]'))\n",
    "select_year = Select(driver.find_element(By.XPATH, '/html/body/section/form/div/div[2]/div[1]/div[5]/div[3]/div/div[2]/span[1]/span/select[3]'))"
   ]
  },
  {
   "cell_type": "code",
   "execution_count": 131,
   "id": "c9777c1f",
   "metadata": {},
   "outputs": [],
   "source": [
    "# change values\n",
    "select_day.select_by_value(day)\n",
    "select_month.select_by_value(month)\n",
    "select_year.select_by_value(year)"
   ]
  },
  {
   "cell_type": "code",
   "execution_count": 132,
   "id": "8b9a47e3",
   "metadata": {},
   "outputs": [
    {
     "name": "stderr",
     "output_type": "stream",
     "text": [
      "C:\\Users\\Utilisateur\\AppData\\Local\\Temp\\ipykernel_6312\\3584794680.py:2: DeprecationWarning: find_element_by_* commands are deprecated. Please use find_element() instead\n",
      "  btn = driver.find_element_by_id('btnSearch')\n"
     ]
    }
   ],
   "source": [
    "# submit new form\n",
    "btn = driver.find_element_by_id('btnSearch')\n",
    "btn.click()\n"
   ]
  },
  {
   "cell_type": "code",
   "execution_count": 103,
   "id": "5fc3d29d",
   "metadata": {},
   "outputs": [],
   "source": [
    "from bs4 import BeautifulSoup as bs\n"
   ]
  },
  {
   "cell_type": "code",
   "execution_count": 101,
   "id": "8b6192f2",
   "metadata": {},
   "outputs": [
    {
     "data": {
      "text/plain": [
       "b'   <div class=\"pageSeparator\"></div>        <div class=\"docListItem\" data-item-id=\"0\" id=\"doc0\" themeId=\"0\">   <div id=\"chbdoc-0-0\" class=\"checkbox-container selection-visible\" name=\"news&#183;20120423&#183;FBUR&#183;005\" index=\"0\"></div>  <div class=\"docContent\"> <div class=\"docList-header\"> <span class=\"icon-logo-container\"><img src=\"/images/interface/result/ico_pressecrite_small.png\" vspace=\"10\" /></span>&nbsp;<span class=\"source-type pressecrite\">Journaux</span> <input id=\"doc-name\" type=\"hidden\" value=\"news&#183;20120423&#183;FBUR&#183;005\" />     <span class=\"source-name\">Business Recorder</span>   </div> <div class=\"content-wrapper\"> <div class=\"docLink docList-body\">  <span class=\"Z3988\" style=\"display:none\" title=\"ctx_ver=Z39.88-2004&amp;rft_val_fmt=info%3Aofi%2Ffmt%3Akev%3Amtx%3Ajournal&amp;rft.genre=article&amp;rft.atitle=Halal%20meat%20exporters%20oppose%20live%20animals%27%20export&amp;rft.jtitle=Business%20Recorder&amp;rft.title=Business%20Recorder&amp;rft.description=Exporters%20of%20Halal%20%20meat%20have%20strongly%20opposed%20the%20government%20decision%20to%20allow%20live%20animals%27%20export%20to%20Iran%20and%20Afghanistan%2c%20saying%20that%20it%20would%20depress%20hide%20and%20skin%20and%20value-added%20leather%20...&amp;rft.au=M%20RAFIQUE%20GORAYA&amp;rft.date=2012-04-23&amp;rft.language=ENG&amp;rft.volume=XLVIII%2c%20No%20113&amp;rft.issue=XLVIII%2c%20No%20113&amp;rft_id=https://nouveau.europresse.com/Link/mnhnT_20211/news%c2%b720120423%c2%b7FBUR%c2%b7005\"></span>    <a href=\"/Document/View?viewEvent=1&docRefId=0&docName=news%C2%B720120423%C2%B7FBUR%C2%B7005&docIndex=0\"  target=\"iFrameViewDoc\" class=\"docList-links\" >Halal meat exporters oppose live animals\\' export</a>   </div> <div class=\"docList-footer\">    <div class=\"doclist-details\"> <span class=\"details\"> 2012-04-23 <span class=\"source-type-name-separator source-type-name-separator-details\">&bull;</span> 456 mots </span>    </div> <div class=\"kwicResult clearfix\">  <span class=\"tile-details\"> <span class=\"details\"> 2012-04-23  <span class=\"source-type-name-separator source-type-name-separator-details\">&bull;</span> 456 mots<span>&nbsp;-&nbsp;</span>  </span> </span>       <span class=\"doclist-author\">M RAFIQUE GORAYA</span> -   Exporters of Halal <mark> meat</mark> have strongly opposed the government decision to allow live animals\\' export to Iran and Afghanistan, saying that it would depress hide and skin and value-added leather ...  </div>   <div class=\"Date\"></div>  </div> <div class=\"tile-shadow\"></div> </div>  <div class=\"tile-footer\"> <div class=\"left-container\">    <span class=\"source-name\">Business Recorder</span>  </div> <div class=\"right-container\">        </div> </div>   </div> </div>       <div class=\"docListItem\" data-item-id=\"1\" id=\"doc1\" themeId=\"0\">   <div id=\"chbdoc-1-0\" class=\"checkbox-container selection-visible\" name=\"news&#183;20120423&#183;GF&#183;20120423l103&#215;2369\" index=\"1\"></div>  <div class=\"docContent\"> <div class=\"docList-header\"> <span class=\"icon-logo-container\"><img src=\"/images/interface/result/ico_pressecrite_small.png\" vspace=\"10\" /></span>&nbsp;<span class=\"source-type pressecrite\">Journaux</span> <input id=\"doc-name\" type=\"hidden\" value=\"news&#183;20120423&#183;GF&#183;20120423l103&#215;2369\" />     <span class=\"source-name\">Financial Times - London Ed1</span>   </div> <div class=\"content-wrapper\"> <div class=\"docLink docList-body\">  <span class=\"Z3988\" style=\"display:none\" title=\"ctx_ver=Z39.88-2004&amp;rft_val_fmt=info%3Aofi%2Ffmt%3Akev%3Amtx%3Ajournal&amp;rft.genre=article&amp;rft.atitle=Change%20in%20global%20tastes%20sustains%20demand&amp;rft.jtitle=Financial%20Times&amp;rft.title=Financial%20Times&amp;rft.description=The%20rising%20price%20of%20%20meat%20may%20be%20a%20fact%20of%20life%20for%20years%20to%20come%20because%20of%20changing%20global%20appetites%2c%20%20writes%20Norma%20Cohen%20%20.%20Higher%20living%20standards%20in%20parts%20of%20the%20world%20...&amp;rft.au=By%20Norma%20Cohen&amp;rft.date=2012-04-23&amp;rft.language=ENG&amp;rft.spage=3&amp;rft.epage=3&amp;rft_id=https://nouveau.europresse.com/Link/mnhnT_20211/news%c2%b720120423%c2%b7GF%c2%b720120423l103%c3%972369\"></span>    <a href=\"/Document/View?viewEvent=1&docRefId=0&docName=news%C2%B720120423%C2%B7GF%C2%B720120423l103%C3%972369&docIndex=1\"  target=\"iFrameViewDoc\" class=\"docList-links\" >Change in global tastes sustains demand</a>   </div> <div class=\"docList-footer\">    <div class=\"doclist-details\"> <span class=\"details\"> 2012-04-23 <span class=\"source-type-name-separator source-type-name-separator-details\">&bull;</span> 208 mots </span>    </div> <div class=\"kwicResult clearfix\">  <span class=\"tile-details\"> <span class=\"details\"> 2012-04-23  <span class=\"source-type-name-separator source-type-name-separator-details\">&bull;</span> 208 mots<span>&nbsp;-&nbsp;</span>  </span> </span>       <span class=\"doclist-author\">By Norma Cohen</span> -   The rising price of <mark> meat</mark> may be a fact of life for years to come because of changing global appetites,  writes Norma Cohen  . Higher living standards in parts of the world ...  </div>   <div class=\"Date\"></div>  </div> <div class=\"tile-shadow\"></div> </div>  <div class=\"tile-footer\"> <div class=\"left-container\">  <img class=\"source-logo\" src=\"/Docviewer.aspx?DocName=gf_small.gif\" title=\"Financial Times\" />   </div> <div class=\"right-container\">        </div> </div>   </div> </div>       <div class=\"docListItem\" data-item-id=\"2\" id=\"doc2\" themeId=\"0\">   <div id=\"chbdoc-2-0\" class=\"checkbox-container selection-visible\" name=\"news&#183;20120423&#183;GF&#183;20120423l303&#215;2469\" index=\"2\"></div>  <div class=\"docContent\"> <div class=\"docList-header\"> <span class=\"icon-logo-container\"><img src=\"/images/interface/result/ico_pressecrite_small.png\" vspace=\"10\" /></span>&nbsp;<span class=\"source-type pressecrite\">Journaux</span> <input id=\"doc-name\" type=\"hidden\" value=\"news&#183;20120423&#183;GF&#183;20120423l303&#215;2469\" />     <span class=\"source-name\">Financial Times - London Ed3</span>   </div> <div class=\"content-wrapper\"> <div class=\"docLink docList-body\">  <span class=\"Z3988\" style=\"display:none\" title=\"ctx_ver=Z39.88-2004&amp;rft_val_fmt=info%3Aofi%2Ffmt%3Akev%3Amtx%3Ajournal&amp;rft.genre=article&amp;rft.atitle=Rise%20in%20meat%20prices%20fuels%20organised%20crime&amp;rft.jtitle=Financial%20Times&amp;rft.title=Financial%20Times&amp;rft.description=Brightly%20lit%20and%20often%20packed%20with%20shoppers%2c%20chilly%20supermarket%20%20meat%20aisles%20may%20not%20appear%20the%20obvious%20setting%20for%20a%20criminal%20heist%2c%20but%20they%20are%20fast%20becoming%20the%20scene%20of%20choice%20for%20...&amp;rft.au=By%20Helen%20Warrell%20and%20Andrea%20Felsted&amp;rft.date=2012-04-23&amp;rft.language=ENG&amp;rft.spage=3&amp;rft.epage=3&amp;rft_id=https://nouveau.europresse.com/Link/mnhnT_20211/news%c2%b720120423%c2%b7GF%c2%b720120423l303%c3%972469\"></span>    <a href=\"/Document/View?viewEvent=1&docRefId=0&docName=news%C2%B720120423%C2%B7GF%C2%B720120423l303%C3%972469&docIndex=2\"  target=\"iFrameViewDoc\" class=\"docList-links\" >Rise in meat prices fuels organised crime</a>   </div> <div class=\"docList-footer\">    <div class=\"doclist-details\"> <span class=\"details\"> 2012-04-23 <span class=\"source-type-name-separator source-type-name-separator-details\">&bull;</span> 597 mots </span>    </div> <div class=\"kwicResult clearfix\">  <span class=\"tile-details\"> <span class=\"details\"> 2012-04-23  <span class=\"source-type-name-separator source-type-name-separator-details\">&bull;</span> 597 mots<span>&nbsp;-&nbsp;</span>  </span> </span>       <span class=\"doclist-author\">By Helen Warrell and Andrea Felsted</span> -   Brightly lit and often packed with shoppers, chilly supermarket <mark> meat</mark> aisles may not appear the obvious setting for a criminal heist, but they are fast becoming the scene of choice for ...  </div>   <div class=\"Date\"></div>  </div> <div class=\"tile-shadow\"></div> </div>  <div class=\"tile-footer\"> <div class=\"left-container\">  <img class=\"source-logo\" src=\"/Docviewer.aspx?DocName=gf_small.gif\" title=\"Financial Times\" />   </div> <div class=\"right-container\">        </div> </div>   </div> </div>       <div class=\"docListItem\" data-item-id=\"3\" id=\"doc3\" themeId=\"0\">   <div id=\"chbdoc-3-0\" class=\"checkbox-container selection-visible\" name=\"news&#183;20120423&#183;GFM&#183;287313123\" index=\"3\"></div>  <div class=\"docContent\"> <div class=\"docList-header\"> <span class=\"icon-logo-container\"><img src=\"/images/interface/result/ico_pressecrite_small.png\" vspace=\"10\" /></span>&nbsp;<span class=\"source-type pressecrite\">Journaux</span> <input id=\"doc-name\" type=\"hidden\" value=\"news&#183;20120423&#183;GFM&#183;287313123\" />     <span class=\"source-name\">The Journal (Newcastle, UK)</span>   </div> <div class=\"content-wrapper\"> <div class=\"docLink docList-body\">  <span class=\"Z3988\" style=\"display:none\" title=\"ctx_ver=Z39.88-2004&amp;rft_val_fmt=info%3Aofi%2Ffmt%3Akev%3Amtx%3Ajournal&amp;rft.genre=article&amp;rft.atitle=Networking%20opportunity%20for%20livestock%20and%20dairy%20sectors.&amp;rft.jtitle=The%20Journal%20(Newcastle%2c%20UK)&amp;rft.title=The%20Journal%20(Newcastle%2c%20UK)&amp;rft.description=EXPERTS%20from%20the%20%20livestock%20and%20dairy%20sectors%20will%20be%20discussing%20the%20main%20issues%20affecting%20their%20industries%20in%20a%20conference%20in%20London%20next%20month.%20The%20annual%20Outlook%20event%2c%20organised%20by%20the%20British%20...&amp;rft.date=2012-04-23&amp;rft.language=ENG&amp;rft.spage=32&amp;rft.epage=32&amp;rft_id=https://nouveau.europresse.com/Link/mnhnT_20211/news%c2%b720120423%c2%b7GFM%c2%b7287313123\"></span>    <a href=\"/Document/View?viewEvent=1&docRefId=0&docName=news%C2%B720120423%C2%B7GFM%C2%B7287313123&docIndex=3\"  target=\"iFrameViewDoc\" class=\"docList-links\" >Networking opportunity for livestock and dairy sectors.</a>   </div> <div class=\"docList-footer\">    <div class=\"doclist-details\"> <span class=\"details\"> 2012-04-23 <span class=\"source-type-name-separator source-type-name-separator-details\">&bull;</span> 137 mots </span>    </div> <div class=\"kwicResult clearfix\">  <span class=\"tile-details\"> <span class=\"details\"> 2012-04-23  <span class=\"source-type-name-separator source-type-name-separator-details\">&bull;</span> 137 mots<span>&nbsp;-&nbsp;</span>  </span> </span>       EXPERTS from the <mark> livestock</mark> and dairy sectors will be discussing the main issues affecting their industries in a conference in London next month. The annual Outlook event, organised by the British ...  </div>   <div class=\"Date\"></div>  </div> <div class=\"tile-shadow\"></div> </div>  <div class=\"tile-footer\"> <div class=\"left-container\">    <span class=\"source-name\">The Journal (Newcastle, UK)</span>  </div> <div class=\"right-container\">        </div> </div>   </div> </div>       <div class=\"docListItem\" data-item-id=\"4\" id=\"doc4\" themeId=\"0\">   <div id=\"chbdoc-4-0\" class=\"checkbox-container selection-visible\" name=\"news&#183;20120423&#183;NY&#183;035980\" index=\"4\"></div>  <div class=\"docContent\"> <div class=\"docList-header\"> <span class=\"icon-logo-container\"><img src=\"/images/interface/result/ico_pressecrite_small.png\" vspace=\"10\" /></span>&nbsp;<span class=\"source-type pressecrite\">Journaux</span> <input id=\"doc-name\" type=\"hidden\" value=\"news&#183;20120423&#183;NY&#183;035980\" />     <span class=\"source-name\">The New York Times - Late Edition - Final</span>   </div> <div class=\"content-wrapper\"> <div class=\"docLink docList-body\">  <span class=\"Z3988\" style=\"display:none\" title=\"ctx_ver=Z39.88-2004&amp;rft_val_fmt=info%3Aofi%2Ffmt%3Akev%3Amtx%3Ajournal&amp;rft.genre=article&amp;rft.atitle=John%20A.%20Hoyt%2c%20Champion%20For%20Animals%2c%20Is%20Dead%20at%2080&amp;rft.jtitle=The%20New%20York%20Times&amp;rft.title=The%20New%20York%20Times&amp;rft.description=John%20A.%20Hoyt%2c%20who%20made%20the%20Humane%20Society%20of%20the%20United%20States%20the%20largest%20anticruelty%20organization%20in%20the%20country%20during%20an%20era%20when%20changing%20cultural%20attitudes%20were%20greatly%20expanding%20the%20number%20...&amp;rft.au=By%20PAUL%20VITELLO&amp;rft.date=2012-04-23&amp;rft.language=ENG&amp;rft.spage=B%208&amp;rft.epage=B%208&amp;rft_id=https://nouveau.europresse.com/Link/mnhnT_20211/news%c2%b720120423%c2%b7NY%c2%b7035980\"></span>    <a href=\"/Document/View?viewEvent=1&docRefId=0&docName=news%C2%B720120423%C2%B7NY%C2%B7035980&docIndex=4\"  target=\"iFrameViewDoc\" class=\"docList-links\" >John A. Hoyt, Champion For Animals, Is Dead at 80</a>   </div> <div class=\"docList-footer\">    <div class=\"doclist-details\"> <span class=\"details\"> 2012-04-23 <span class=\"source-type-name-separator source-type-name-separator-details\">&bull;</span> 708 mots </span>    </div> <div class=\"kwicResult clearfix\">  <span class=\"tile-details\"> <span class=\"details\"> 2012-04-23  <span class=\"source-type-name-separator source-type-name-separator-details\">&bull;</span> 708 mots<span>&nbsp;-&nbsp;</span>  </span> </span>       <span class=\"doclist-author\">By PAUL VITELLO</span> -   John A. Hoyt, who made the Humane Society of the United States the largest anticruelty organization in the country during an era when changing cultural attitudes were greatly expanding the number ...  </div>   <div class=\"Date\"></div>  </div> <div class=\"tile-shadow\"></div> </div>  <div class=\"tile-footer\"> <div class=\"left-container\">  <img class=\"source-logo\" src=\"/Docviewer.aspx?DocName=ny_small.gif\" title=\"The New York Times\" />   </div> <div class=\"right-container\">        </div> </div>   </div> </div>       <div class=\"docListItem\" data-item-id=\"5\" id=\"doc5\" themeId=\"0\">   <div id=\"chbdoc-5-0\" class=\"checkbox-container selection-visible\" name=\"news&#183;20120423&#183;GFM&#183;287313116\" index=\"5\"></div>  <div class=\"docContent\"> <div class=\"docList-header\"> <span class=\"icon-logo-container\"><img src=\"/images/interface/result/ico_pressecrite_small.png\" vspace=\"10\" /></span>&nbsp;<span class=\"source-type pressecrite\">Journaux</span> <input id=\"doc-name\" type=\"hidden\" value=\"news&#183;20120423&#183;GFM&#183;287313116\" />     <span class=\"source-name\">The Journal (Newcastle, UK)</span>   </div> <div class=\"content-wrapper\"> <div class=\"docLink docList-body\">  <span class=\"Z3988\" style=\"display:none\" title=\"ctx_ver=Z39.88-2004&amp;rft_val_fmt=info%3Aofi%2Ffmt%3Akev%3Amtx%3Ajournal&amp;rft.genre=article&amp;rft.atitle=Fly%20flag%20for%20our%20heroes%20and%20their%20national%20dish.&amp;rft.jtitle=The%20Journal%20(Newcastle%2c%20UK)&amp;rft.title=The%20Journal%20(Newcastle%2c%20UK)&amp;rft.description=The%20cash%20will%20help%20to%20fund%20Help%20for%20Heroes%27%20Recovery%20Centres%20across%20the%20UK%2c%20including%20one%20which%20is%20being%20set%20up%20at%20Catterick.%20The%20North%20Yorkshire%20centre%20is%20currently%20housed%20in%20...&amp;rft.au=Karen%20Dent&amp;rft.date=2012-04-23&amp;rft.language=ENG&amp;rft.spage=32&amp;rft.epage=32&amp;rft_id=https://nouveau.europresse.com/Link/mnhnT_20211/news%c2%b720120423%c2%b7GFM%c2%b7287313116\"></span>    <a href=\"/Document/View?viewEvent=1&docRefId=0&docName=news%C2%B720120423%C2%B7GFM%C2%B7287313116&docIndex=5\"  target=\"iFrameViewDoc\" class=\"docList-links\" >Fly flag for our heroes and their national dish.</a>   </div> <div class=\"docList-footer\">    <div class=\"doclist-details\"> <span class=\"details\"> 2012-04-23 <span class=\"source-type-name-separator source-type-name-separator-details\">&bull;</span> 376 mots </span>    </div> <div class=\"kwicResult clearfix\">  <span class=\"tile-details\"> <span class=\"details\"> 2012-04-23  <span class=\"source-type-name-separator source-type-name-separator-details\">&bull;</span> 376 mots<span>&nbsp;-&nbsp;</span>  </span> </span>       <span class=\"doclist-author\">Karen Dent</span> -   The cash will help to fund Help for Heroes\\' Recovery Centres across the UK, including one which is being set up at Catterick. The North Yorkshire centre is currently housed in ...  </div>   <div class=\"Date\"></div>  </div> <div class=\"tile-shadow\"></div> </div>  <div class=\"tile-footer\"> <div class=\"left-container\">    <span class=\"source-name\">The Journal (Newcastle, UK)</span>  </div> <div class=\"right-container\">        </div> </div>   </div> </div>       <div class=\"docListItem\" data-item-id=\"6\" id=\"doc6\" themeId=\"0\">   <div id=\"chbdoc-6-0\" class=\"checkbox-container selection-visible\" name=\"report&#183;20120423&#183;RPP&#183;13005740\" index=\"6\"></div>  <div class=\"docContent\"> <div class=\"docList-header\"> <span class=\"icon-logo-container\"><img src=\"/images/interface/result/ico_report_small.png\" vspace=\"10\" /></span>&nbsp;<span class=\"source-type report\">\\xc3\\x89tudes et rapports</span> <input id=\"doc-name\" type=\"hidden\" value=\"report&#183;20120423&#183;RPP&#183;13005740\" />     <span class=\"source-name\">Reports (Public) - alma.alberta.ca</span>   </div> <div class=\"content-wrapper\"> <div class=\"docLink docList-body\">  <span class=\"Z3988\" style=\"display:none\" title=\"ctx_ver=Z39.88-2004&amp;rft_val_fmt=info%3Aofi%2Ffmt%3Akev%3Amtx%3Abook&amp;rft.genre=unknown&amp;rft.btitle=Meat%20in%20Canada%20%3a%20Sector%20Overview%20and%20Key%20Players%20-%202011-02&amp;rft.title=Meat%20in%20Canada%20%3a%20Sector%20Overview%20and%20Key%20Players%20-%202011-02&amp;rft.pub=Reports%20(Public)%20-%20alma.alberta.ca&amp;rft.description=MEETING%20CANADIAN%20CONSUMER%20NEEDS%20THE%20MORE%20YOU%20KNOW%2c%20THE%20BETTER%20YOU%20EAT%20A%20DEMAND%20PULL%20STRATEGY%201%20BACKGROUND%202%20THE%20PULL%203%20OUTCOMES%206%20STRATEGY%20ELEMENTS%207%201.%20AWARENESS%208%202%20...&amp;rft.date=2012-04-23&amp;rft.language=ENG&amp;rft_id=https://nouveau.europresse.com/Link/mnhnT_20211/report%c2%b720120423%c2%b7RPP%c2%b713005740\"></span>    <a href=\"/Document/View?viewEvent=1&docRefId=0&docName=report%C2%B720120423%C2%B7RPP%C2%B713005740&docIndex=6\"  target=\"iFrameViewDoc\" class=\"docList-links\" >Meat in Canada : Sector Overview and Key Players - 2011-02</a>   </div> <div class=\"docList-footer\">    <div class=\"doclist-details\"><span>2012-04-23 <span class=\"source-type-name-separator source-type-name-separator-details\">&bull;</span>  13 pages</span>  </div> <div class=\"kwicResult clearfix\">       MEETING CANADIAN CONSUMER NEEDS THE MORE YOU KNOW, THE BETTER YOU EAT A DEMAND PULL STRATEGY 1 BACKGROUND 2 THE PULL 3 OUTCOMES 6 STRATEGY ELEMENTS 7 1. AWARENESS 8 2 ...  </div>   <div class=\"Date\"></div>  </div> <div class=\"tile-shadow\"></div> </div>  <div class=\"tile-footer\"> <div class=\"left-container\">  <span class=\"source-name\">Reports (Public) - alma.alberta.ca</span>   </div> <div class=\"right-container\">      </div> </div>   </div> </div>       <div class=\"docListItem\" data-item-id=\"7\" id=\"doc7\" themeId=\"0\">   <div id=\"chbdoc-7-0\" class=\"checkbox-container selection-visible\" name=\"report&#183;20120423&#183;RPP&#183;13005712\" index=\"7\"></div>  <div class=\"docContent\"> <div class=\"docList-header\"> <span class=\"icon-logo-container\"><img src=\"/images/interface/result/ico_report_small.png\" vspace=\"10\" /></span>&nbsp;<span class=\"source-type report\">\\xc3\\x89tudes et rapports</span> <input id=\"doc-name\" type=\"hidden\" value=\"report&#183;20120423&#183;RPP&#183;13005712\" />     <span class=\"source-name\">Reports (Public) - www.nasda.org</span>   </div> <div class=\"content-wrapper\"> <div class=\"docLink docList-body\">  <span class=\"Z3988\" style=\"display:none\" title=\"ctx_ver=Z39.88-2004&amp;rft_val_fmt=info%3Aofi%2Ffmt%3Akev%3Amtx%3Abook&amp;rft.genre=unknown&amp;rft.btitle=The%20Chinese%20Fruit%20and%20Vegetable%20Market%20%3a%20Innovation%20and%20Technology%20Trends%20-%202008-09&amp;rft.title=The%20Chinese%20Fruit%20and%20Vegetable%20Market%20%3a%20Innovation%20and%20Technology%20Trends%20-%202008-09&amp;rft.pub=Reports%20(Public)%20-%20www.nasda.org&amp;rft.description=North%20Dakota%20Welcomes%20You%20to%3f%20NASDA%202008%20%3fStrength%20from%20the%20Soil%3f%20Program%20Highlights%20%3f%20US%20Secretary%20of%20Agriculture%20Ed%20Schafer%20%3f%20Tours%20highlighting%20sustainable%20agriculture%2c%20manufacturing%20and%20energy%20%3f%20Historical%20visits%20and%20entertainment%20%3f%20And%20...&amp;rft.date=2012-04-23&amp;rft.language=ENG&amp;rft_id=https://nouveau.europresse.com/Link/mnhnT_20211/report%c2%b720120423%c2%b7RPP%c2%b713005712\"></span>    <a href=\"/Document/View?viewEvent=1&docRefId=0&docName=report%C2%B720120423%C2%B7RPP%C2%B713005712&docIndex=7\"  target=\"iFrameViewDoc\" class=\"docList-links\" >The Chinese Fruit and Vegetable Market : Innovation and Technology Trends - 2008-09</a>   </div> <div class=\"docList-footer\">    <div class=\"doclist-details\"><span>2012-04-23 <span class=\"source-type-name-separator source-type-name-separator-details\">&bull;</span>  21 pages</span>  </div> <div class=\"kwicResult clearfix\">       North Dakota Welcomes You to? NASDA 2008 ?Strength from the Soil? Program Highlights ? US Secretary of Agriculture Ed Schafer ? Tours highlighting sustainable agriculture, manufacturing and energy ? Historical visits and entertainment ? And ...  </div>   <div class=\"Date\"></div>  </div> <div class=\"tile-shadow\"></div> </div>  <div class=\"tile-footer\"> <div class=\"left-container\">  <span class=\"source-name\">Reports (Public) - www.nasda.org</span>   </div> <div class=\"right-container\">      </div> </div>   </div> </div>       <div class=\"docListItem\" data-item-id=\"8\" id=\"doc8\" themeId=\"0\">   <div id=\"chbdoc-8-0\" class=\"checkbox-container selection-visible\" name=\"report&#183;20120423&#183;RPP&#183;13004674\" index=\"8\"></div>  <div class=\"docContent\"> <div class=\"docList-header\"> <span class=\"icon-logo-container\"><img src=\"/images/interface/result/ico_report_small.png\" vspace=\"10\" /></span>&nbsp;<span class=\"source-type report\">\\xc3\\x89tudes et rapports</span> <input id=\"doc-name\" type=\"hidden\" value=\"report&#183;20120423&#183;RPP&#183;13004674\" />     <span class=\"source-name\">Reports (Public) - oversight.house.gov</span>   </div> <div class=\"content-wrapper\"> <div class=\"docLink docList-body\">  <span class=\"Z3988\" style=\"display:none\" title=\"ctx_ver=Z39.88-2004&amp;rft_val_fmt=info%3Aofi%2Ffmt%3Akev%3Amtx%3Abook&amp;rft.genre=unknown&amp;rft.btitle=Meat%20and%20Poultry%20in%20The%20United%20States%20%3a%20Industry%20Overview%20and%20Key%20Players%20-%202010-06&amp;rft.title=Meat%20and%20Poultry%20in%20The%20United%20States%20%3a%20Industry%20Overview%20and%20Key%20Players%20-%202010-06&amp;rft.pub=Reports%20(Public)%20-%20oversight.house.gov&amp;rft.description=Columbia.%20I%3f%20These%20are%20adjusted%20by%20a%20population%20density%20function%20that%20stretches%20the%20actual%20distance%20in%20the%20high%20traffic%20east%20coast%20states%2c%20and%20reduces%20them%20between%20western%20states.%20IS%20The%20next%20...&amp;rft.date=2012-04-23&amp;rft.language=ENG&amp;rft_id=https://nouveau.europresse.com/Link/mnhnT_20211/report%c2%b720120423%c2%b7RPP%c2%b713004674\"></span>    <a href=\"/Document/View?viewEvent=1&docRefId=0&docName=report%C2%B720120423%C2%B7RPP%C2%B713004674&docIndex=8\"  target=\"iFrameViewDoc\" class=\"docList-links\" >Meat and Poultry in The United States : Industry Overview and Key Players - 2010-06</a>   </div> <div class=\"docList-footer\">    <div class=\"doclist-details\"><span>2012-04-23 <span class=\"source-type-name-separator source-type-name-separator-details\">&bull;</span>  139 pages</span>  </div> <div class=\"kwicResult clearfix\">       Columbia. I? These are adjusted by a population density function that stretches the actual distance in the high traffic east coast states, and reduces them between western states. IS The next ...  </div>   <div class=\"Date\"></div>  </div> <div class=\"tile-shadow\"></div> </div>  <div class=\"tile-footer\"> <div class=\"left-container\">  <span class=\"source-name\">Reports (Public) - oversight.house.gov</span>   </div> <div class=\"right-container\">      </div> </div>   </div> </div>       <div class=\"docListItem\" data-item-id=\"9\" id=\"doc9\" themeId=\"0\">   <div id=\"chbdoc-9-0\" class=\"checkbox-container selection-visible\" name=\"report&#183;20120423&#183;RPP&#183;13005867\" index=\"9\"></div>  <div class=\"docContent\"> <div class=\"docList-header\"> <span class=\"icon-logo-container\"><img src=\"/images/interface/result/ico_report_small.png\" vspace=\"10\" /></span>&nbsp;<span class=\"source-type report\">\\xc3\\x89tudes et rapports</span> <input id=\"doc-name\" type=\"hidden\" value=\"report&#183;20120423&#183;RPP&#183;13005867\" />     <span class=\"source-name\">Reports (Public) - www.usapeec.kz</span>   </div> <div class=\"content-wrapper\"> <div class=\"docLink docList-body\">  <span class=\"Z3988\" style=\"display:none\" title=\"ctx_ver=Z39.88-2004&amp;rft_val_fmt=info%3Aofi%2Ffmt%3Akev%3Amtx%3Abook&amp;rft.genre=unknown&amp;rft.btitle=The%20Kazakh%20Poultry%20Sector%20Brief%20-%202012-04&amp;rft.title=The%20Kazakh%20Poultry%20Sector%20Brief%20-%202012-04&amp;rft.pub=Reports%20(Public)%20-%20www.usapeec.kz&amp;rft.description=CENTRAL%20ASIA%20NEWS%20USAPEEC%20April%202%2c%202012%20Tel%3a%20%2b7%20987%202966%20777%20E-mails%3a%20bella_usapeec%40yahoo.com%3b%20usapeeckz%40yahoo.com%20Website%3a%20www.usapeec.kz%20Page%201%20CONTENT%3a%20Kazakhstan%201.Kazakhstan%20...&amp;rft.date=2012-04-23&amp;rft.language=ENG&amp;rft_id=https://nouveau.europresse.com/Link/mnhnT_20211/report%c2%b720120423%c2%b7RPP%c2%b713005867\"></span>    <a href=\"/Document/View?viewEvent=1&docRefId=0&docName=report%C2%B720120423%C2%B7RPP%C2%B713005867&docIndex=9\"  target=\"iFrameViewDoc\" class=\"docList-links\" >The Kazakh Poultry Sector Brief - 2012-04</a>   </div> <div class=\"docList-footer\">    <div class=\"doclist-details\"><span>2012-04-23 <span class=\"source-type-name-separator source-type-name-separator-details\">&bull;</span>  9 pages</span>  </div> <div class=\"kwicResult clearfix\">       CENTRAL ASIA NEWS USAPEEC April 2, 2012 Tel: +7 987 2966 777 E-mails: bella_usapeec@yahoo.com; usapeeckz@yahoo.com Website: www.usapeec.kz Page 1 CONTENT: Kazakhstan 1.Kazakhstan ...  </div>   <div class=\"Date\"></div>  </div> <div class=\"tile-shadow\"></div> </div>  <div class=\"tile-footer\"> <div class=\"left-container\">  <span class=\"source-name\">Reports (Public) - www.usapeec.kz</span>   </div> <div class=\"right-container\">      </div> </div>   </div> </div>       <div class=\"docListItem\" data-item-id=\"10\" id=\"doc10\" themeId=\"0\">   <div id=\"chbdoc-10-0\" class=\"checkbox-container selection-visible\" name=\"news&#183;20120423&#183;SNS&#183;1116378954\" index=\"10\"></div>  <div class=\"docContent\"> <div class=\"docList-header\"> <span class=\"icon-logo-container\"><img src=\"/images/interface/result/ico_pressecrite_small.png\" vspace=\"10\" /></span>&nbsp;<span class=\"source-type pressecrite\">Communiqu\\xc3\\xa9s de presse</span> <input id=\"doc-name\" type=\"hidden\" value=\"news&#183;20120423&#183;SNS&#183;1116378954\" />     <span class=\"source-name\">States News Services</span>   </div> <div class=\"content-wrapper\"> <div class=\"docLink docList-body\">  <span class=\"Z3988\" style=\"display:none\" title=\"ctx_ver=Z39.88-2004&amp;rft_val_fmt=info%3Aofi%2Ffmt%3Akev%3Amtx%3Ajournal&amp;rft.genre=article&amp;rft.atitle=USDA%20ANNOUNCES%20STEPS%20TO%20IMPROVE%20COMPLIANCE%20WITH%20RESIDUE%20REQUIREMENTS%20AND%20TO%20INCREASE%20TESTING%20AT%20ESTABLISHMENTS%20WITH%20REPEAT%20VIOLATORS&amp;rft.jtitle=States%20News%20Services&amp;rft.title=States%20News%20Services&amp;rft.description=The%20following%20information%20was%20released%20by%20the%20U.S.%20Department%20of%20Agriculture%3a%20The%20U.S.%20Department%20of%20Agriculture%27s%20(USDA)%20Food%20Safety%20and%20Inspection%20Service%20(FSIS)%20today%20announced%20two%20steps%20designed%20...&amp;rft.date=2012-04-23&amp;rft.language=ENG&amp;rft_id=https://nouveau.europresse.com/Link/mnhnT_20211/news%c2%b720120423%c2%b7SNS%c2%b71116378954\"></span>    <a href=\"/Document/View?viewEvent=1&docRefId=0&docName=news%C2%B720120423%C2%B7SNS%C2%B71116378954&docIndex=10\"  target=\"iFrameViewDoc\" class=\"docList-links\" >USDA ANNOUNCES STEPS TO IMPROVE COMPLIANCE WITH RESIDUE REQUIREMENTS AND TO INCREASE TESTING AT ESTABLISHMENTS WITH REPEAT VIOLATORS</a>   </div> <div class=\"docList-footer\">    <div class=\"doclist-details\"> <span class=\"details\"> 2012-04-23 <span class=\"source-type-name-separator source-type-name-separator-details\">&bull;</span> 302 mots </span>    </div> <div class=\"kwicResult clearfix\">  <span class=\"tile-details\"> <span class=\"details\"> 2012-04-23  <span class=\"source-type-name-separator source-type-name-separator-details\">&bull;</span> 302 mots<span>&nbsp;-&nbsp;</span>  </span> </span>       The following information was released by the U.S. Department of Agriculture: The U.S. Department of Agriculture\\'s (USDA) Food Safety and Inspection Service (FSIS) today announced two steps designed ...  </div>   <div class=\"Date\"></div>  </div> <div class=\"tile-shadow\"></div> </div>  <div class=\"tile-footer\"> <div class=\"left-container\">  <img class=\"source-logo\" src=\"/Docviewer.aspx?DocName=sns_small.gif\" title=\"States News Services\" />   </div> <div class=\"right-container\">        </div> </div>   </div> </div>       <div class=\"docListItem\" data-item-id=\"11\" id=\"doc11\" themeId=\"0\">   <div id=\"chbdoc-11-0\" class=\"checkbox-container selection-visible\" name=\"report&#183;20120423&#183;RPP&#183;13005864\" index=\"11\"></div>  <div class=\"docContent\"> <div class=\"docList-header\"> <span class=\"icon-logo-container\"><img src=\"/images/interface/result/ico_report_small.png\" vspace=\"10\" /></span>&nbsp;<span class=\"source-type report\">\\xc3\\x89tudes et rapports</span> <input id=\"doc-name\" type=\"hidden\" value=\"report&#183;20120423&#183;RPP&#183;13005864\" />     <span class=\"source-name\">Reports (Public) - digitalcorpora.org</span>   </div> <div class=\"content-wrapper\"> <div class=\"docLink docList-body\">  <span class=\"Z3988\" style=\"display:none\" title=\"ctx_ver=Z39.88-2004&amp;rft_val_fmt=info%3Aofi%2Ffmt%3Akev%3Amtx%3Abook&amp;rft.genre=unknown&amp;rft.btitle=Meat%20and%20Poultry%20Sector%20in%20Russian%20Federation%20-%202007-05&amp;rft.title=Meat%20and%20Poultry%20Sector%20in%20Russian%20Federation%20-%202007-05&amp;rft.pub=Reports%20(Public)%20-%20digitalcorpora.org&amp;rft.description=Required%20Report%20-%20public%20distribution%20Date%3a%207%2f18%2f2008%20GAIN%20Report%20Number%3a%20RS8055%20RS8055%20Russian%20Federation%20FAIRS%20Country%20Report%20Annual%202008%20Approved%20by%3a%20Allan%20Mustard%20American%20Embassy%20Prepared%20by%3a%20OAA%20and%20ATO%20...&amp;rft.date=2012-04-23&amp;rft.language=ENG&amp;rft_id=https://nouveau.europresse.com/Link/mnhnT_20211/report%c2%b720120423%c2%b7RPP%c2%b713005864\"></span>    <a href=\"/Document/View?viewEvent=1&docRefId=0&docName=report%C2%B720120423%C2%B7RPP%C2%B713005864&docIndex=11\"  target=\"iFrameViewDoc\" class=\"docList-links\" >Meat and Poultry Sector in Russian Federation - 2007-05</a>   </div> <div class=\"docList-footer\">    <div class=\"doclist-details\"><span>2012-04-23 <span class=\"source-type-name-separator source-type-name-separator-details\">&bull;</span>  34 pages</span>  </div> <div class=\"kwicResult clearfix\">       Required Report - public distribution Date: 7/18/2008 GAIN Report Number: RS8055 RS8055 Russian Federation FAIRS Country Report Annual 2008 Approved by: Allan Mustard American Embassy Prepared by: OAA and ATO ...  </div>   <div class=\"Date\"></div>  </div> <div class=\"tile-shadow\"></div> </div>  <div class=\"tile-footer\"> <div class=\"left-container\">  <span class=\"source-name\">Reports (Public) - digitalcorpora.org</span>   </div> <div class=\"right-container\">      </div> </div>   </div> </div>       <div class=\"docListItem\" data-item-id=\"12\" id=\"doc12\" themeId=\"0\">   <div id=\"chbdoc-12-0\" class=\"checkbox-container selection-visible\" name=\"news&#183;20120423&#183;HI&#183;0bn&#215;2g1939\" index=\"12\"></div>  <div class=\"docContent\"> <div class=\"docList-header\"> <span class=\"icon-logo-container\"><img src=\"/images/interface/result/ico_pressecrite_small.png\" vspace=\"10\" /></span>&nbsp;<span class=\"source-type pressecrite\">Fils de presse</span> <input id=\"doc-name\" type=\"hidden\" value=\"news&#183;20120423&#183;HI&#183;0bn&#215;2g1939\" />     <span class=\"source-name\">The Canadian Press - Broadcast wire</span>   </div> <div class=\"content-wrapper\"> <div class=\"docLink docList-body\">  <span class=\"Z3988\" style=\"display:none\" title=\"ctx_ver=Z39.88-2004&amp;rft_val_fmt=info%3Aofi%2Ffmt%3Akev%3Amtx%3Ajournal&amp;rft.genre=article&amp;rft.atitle=Prep-Agriculture-Report&amp;rft.jtitle=The%20Canadian%20Press%20-%20Broadcast%20wire&amp;rft.title=The%20Canadian%20Press%20-%20Broadcast%20wire&amp;rft.description=(Cruelty-Lifetime-Ban)%20A%20Manitoba%20government%20spokesman%20says%20the%20province%20is%20looking%20into%20an%20ad%20for%20a%20hog%20barn%20manager%20that%20was%20placed%20by%20a%20man%20who%20is%20banned%20from%20owning%20...&amp;rft.date=2012-04-23&amp;rft.language=ENG&amp;rft_id=https://nouveau.europresse.com/Link/mnhnT_20211/news%c2%b720120423%c2%b7HI%c2%b70bn%c3%972g1939\"></span>    <a href=\"/Document/View?viewEvent=1&docRefId=0&docName=news%C2%B720120423%C2%B7HI%C2%B70bn%C3%972g1939&docIndex=12\"  target=\"iFrameViewDoc\" class=\"docList-links\" >Prep-Agriculture-Report</a>   </div> <div class=\"docList-footer\">    <div class=\"doclist-details\"> <span class=\"details\"> 2012-04-23 <span class=\"source-type-name-separator source-type-name-separator-details\">&bull;</span> 291 mots </span>    </div> <div class=\"kwicResult clearfix\">  <span class=\"tile-details\"> <span class=\"details\"> 2012-04-23  <span class=\"source-type-name-separator source-type-name-separator-details\">&bull;</span> 291 mots<span>&nbsp;-&nbsp;</span>  </span> </span>       (Cruelty-Lifetime-Ban) A Manitoba government spokesman says the province is looking into an ad for a hog barn manager that was placed by a man who is banned from owning ...  </div>   <div class=\"Date\"></div>  </div> <div class=\"tile-shadow\"></div> </div>  <div class=\"tile-footer\"> <div class=\"left-container\">  <img class=\"source-logo\" src=\"/Docviewer.aspx?DocName=hi2_small.gif\" title=\"The Canadian Press - Broadcast wire\" />   </div> <div class=\"right-container\">        </div> </div>   </div> </div>       <div class=\"docListItem\" data-item-id=\"13\" id=\"doc13\" themeId=\"0\">   <div id=\"chbdoc-13-0\" class=\"checkbox-container selection-visible\" name=\"report&#183;20120423&#183;RPP&#183;13004954\" index=\"13\"></div>  <div class=\"docContent\"> <div class=\"docList-header\"> <span class=\"icon-logo-container\"><img src=\"/images/interface/result/ico_report_small.png\" vspace=\"10\" /></span>&nbsp;<span class=\"source-type report\">\\xc3\\x89tudes et rapports</span> <input id=\"doc-name\" type=\"hidden\" value=\"report&#183;20120423&#183;RPP&#183;13004954\" />     <span class=\"source-name\">Reports (Public) - www.ales.ualberta.ca</span>   </div> <div class=\"content-wrapper\"> <div class=\"docLink docList-body\">  <span class=\"Z3988\" style=\"display:none\" title=\"ctx_ver=Z39.88-2004&amp;rft_val_fmt=info%3Aofi%2Ffmt%3Akev%3Amtx%3Abook&amp;rft.genre=unknown&amp;rft.btitle=World%20Veterinary%20Healthcare%20Production%20and%20Trade%20Statistics%20-%202012-03&amp;rft.title=World%20Veterinary%20Healthcare%20Production%20and%20Trade%20Statistics%20-%202012-03&amp;rft.pub=Reports%20(Public)%20-%20www.ales.ualberta.ca&amp;rft.description=Revised%20March%2021%2f2012%20FACULTY%20OF%20AGRICULTURAL%2c%20LIFE%20%26%20ENVIRONMENTAL%20SCIENCES%20APPROVED%20PROGRAM%20ELECTIVES%202012-2013%20BSC%20ANIMAL%20HEALTH%20GUIDELINES%20Approved%20Program%20Electives%20(APE)%20must%20be%20selected%20according%20to%20the%20following%20directions%20...&amp;rft.date=2012-04-23&amp;rft.language=ENG&amp;rft_id=https://nouveau.europresse.com/Link/mnhnT_20211/report%c2%b720120423%c2%b7RPP%c2%b713004954\"></span>    <a href=\"/Document/View?viewEvent=1&docRefId=0&docName=report%C2%B720120423%C2%B7RPP%C2%B713004954&docIndex=13\"  target=\"iFrameViewDoc\" class=\"docList-links\" >World Veterinary Healthcare Production and Trade Statistics - 2012-03</a>   </div> <div class=\"docList-footer\">    <div class=\"doclist-details\"><span>2012-04-23 <span class=\"source-type-name-separator source-type-name-separator-details\">&bull;</span>  4 pages</span>  </div> <div class=\"kwicResult clearfix\">       Revised March 21/2012 FACULTY OF AGRICULTURAL, LIFE &amp; ENVIRONMENTAL SCIENCES APPROVED PROGRAM ELECTIVES 2012-2013 BSC ANIMAL HEALTH GUIDELINES Approved Program Electives (APE) must be selected according to the following directions ...  </div>   <div class=\"Date\"></div>  </div> <div class=\"tile-shadow\"></div> </div>  <div class=\"tile-footer\"> <div class=\"left-container\">  <span class=\"source-name\">Reports (Public) - www.ales.ualberta.ca</span>   </div> <div class=\"right-container\">      </div> </div>   </div> </div>       <div class=\"docListItem\" data-item-id=\"14\" id=\"doc14\" themeId=\"0\">   <div id=\"chbdoc-14-0\" class=\"checkbox-container selection-visible\" name=\"report&#183;20120423&#183;RPP&#183;13006079\" index=\"14\"></div>  <div class=\"docContent\"> <div class=\"docList-header\"> <span class=\"icon-logo-container\"><img src=\"/images/interface/result/ico_report_small.png\" vspace=\"10\" /></span>&nbsp;<span class=\"source-type report\">\\xc3\\x89tudes et rapports</span> <input id=\"doc-name\" type=\"hidden\" value=\"report&#183;20120423&#183;RPP&#183;13006079\" />     <span class=\"source-name\">Reports (Public) - media.wix.com</span>   </div> <div class=\"content-wrapper\"> <div class=\"docLink docList-body\">  <span class=\"Z3988\" style=\"display:none\" title=\"ctx_ver=Z39.88-2004&amp;rft_val_fmt=info%3Aofi%2Ffmt%3Akev%3Amtx%3Abook&amp;rft.genre=unknown&amp;rft.btitle=Meat%20Industry%20in%20Texas%20and%20Washington%20States%20-%202012-03&amp;rft.title=Meat%20Industry%20in%20Texas%20and%20Washington%20States%20-%202012-03&amp;rft.pub=Reports%20(Public)%20-%20media.wix.com&amp;rft.description=Edited%20by%20Lauron%20Early%20March%205%2c%202012%20NPB%20HONORS%20CARPENTER%20WITH%20DISTINGUISHED%20SERVICE%20AWARD%20NMA%20CEO%20Barry%20Carpenter%20was%20honored%20last%20week%20by%20the%20National%20Pork%20Board%20with%20its%202012%20Distinguished%20...&amp;rft.date=2012-04-23&amp;rft.language=ENG&amp;rft_id=https://nouveau.europresse.com/Link/mnhnT_20211/report%c2%b720120423%c2%b7RPP%c2%b713006079\"></span>    <a href=\"/Document/View?viewEvent=1&docRefId=0&docName=report%C2%B720120423%C2%B7RPP%C2%B713006079&docIndex=14\"  target=\"iFrameViewDoc\" class=\"docList-links\" >Meat Industry in Texas and Washington States - 2012-03</a>   </div> <div class=\"docList-footer\">    <div class=\"doclist-details\"><span>2012-04-23 <span class=\"source-type-name-separator source-type-name-separator-details\">&bull;</span>  8 pages</span>  </div> <div class=\"kwicResult clearfix\">       Edited by Lauron Early March 5, 2012 NPB HONORS CARPENTER WITH DISTINGUISHED SERVICE AWARD NMA CEO Barry Carpenter was honored last week by the National Pork Board with its 2012 Distinguished ...  </div>   <div class=\"Date\"></div>  </div> <div class=\"tile-shadow\"></div> </div>  <div class=\"tile-footer\"> <div class=\"left-container\">  <span class=\"source-name\">Reports (Public) - media.wix.com</span>   </div> <div class=\"right-container\">      </div> </div>   </div> </div>       <div class=\"docListItem\" data-item-id=\"15\" id=\"doc15\" themeId=\"0\">   <div id=\"chbdoc-15-0\" class=\"checkbox-container selection-visible\" name=\"report&#183;20120423&#183;RPP&#183;13004527\" index=\"15\"></div>  <div class=\"docContent\"> <div class=\"docList-header\"> <span class=\"icon-logo-container\"><img src=\"/images/interface/result/ico_report_small.png\" vspace=\"10\" /></span>&nbsp;<span class=\"source-type report\">\\xc3\\x89tudes et rapports</span> <input id=\"doc-name\" type=\"hidden\" value=\"report&#183;20120423&#183;RPP&#183;13004527\" />     <span class=\"source-name\">Reports (Public) - www.export-importtradecenter.com</span>   </div> <div class=\"content-wrapper\"> <div class=\"docLink docList-body\">  <span class=\"Z3988\" style=\"display:none\" title=\"ctx_ver=Z39.88-2004&amp;rft_val_fmt=info%3Aofi%2Ffmt%3Akev%3Amtx%3Abook&amp;rft.genre=unknown&amp;rft.btitle=The%20Botswanan%20Diamond%20Sector%20Brief%20-%202010-09&amp;rft.title=The%20Botswanan%20Diamond%20Sector%20Brief%20-%202010-09&amp;rft.pub=Reports%20(Public)%20-%20www.export-importtradecenter.com&amp;rft.description=BOTSWANA%20GEOGRAPHY%20Area%3a%20582%2c000%20sq.%20km.%20(224%2c710%20sq.%20mi.)%2c%20about%20the%20size%20of%20Texas.%20Cities%20(2011%20census)%3a%20Capital--Gaborone%20(pronounced%20ha-bo-ro-neh)%2c%20pop.%20227%2c333.%20Other%20towns%20...&amp;rft.date=2012-04-23&amp;rft.language=ENG&amp;rft_id=https://nouveau.europresse.com/Link/mnhnT_20211/report%c2%b720120423%c2%b7RPP%c2%b713004527\"></span>    <a href=\"/Document/View?viewEvent=1&docRefId=0&docName=report%C2%B720120423%C2%B7RPP%C2%B713004527&docIndex=15\"  target=\"iFrameViewDoc\" class=\"docList-links\" >The Botswanan Diamond Sector Brief - 2010-09</a>   </div> <div class=\"docList-footer\">    <div class=\"doclist-details\"><span>2012-04-23 <span class=\"source-type-name-separator source-type-name-separator-details\">&bull;</span>  3 pages</span>  </div> <div class=\"kwicResult clearfix\">       BOTSWANA GEOGRAPHY Area: 582,000 sq. km. (224,710 sq. mi.), about the size of Texas. Cities (2011 census): Capital--Gaborone (pronounced ha-bo-ro-neh), pop. 227,333. Other towns ...  </div>   <div class=\"Date\"></div>  </div> <div class=\"tile-shadow\"></div> </div>  <div class=\"tile-footer\"> <div class=\"left-container\">  <span class=\"source-name\">Reports (Public) - www.export-importtradecenter.com</span>   </div> <div class=\"right-container\">      </div> </div>   </div> </div>       <div class=\"docListItem\" data-item-id=\"16\" id=\"doc16\" themeId=\"0\">   <div id=\"chbdoc-16-0\" class=\"checkbox-container selection-visible\" name=\"news&#183;20120424&#183;GBQ&#183;287438331\" index=\"16\"></div>  <div class=\"docContent\"> <div class=\"docList-header\"> <span class=\"icon-logo-container\"><img src=\"/images/interface/result/ico_pressecrite_small.png\" vspace=\"10\" /></span>&nbsp;<span class=\"source-type pressecrite\">Journaux</span> <input id=\"doc-name\" type=\"hidden\" value=\"news&#183;20120424&#183;GBQ&#183;287438331\" />     <span class=\"source-name\">Daily Record (Glasgow, UK)</span>   </div> <div class=\"content-wrapper\"> <div class=\"docLink docList-body\">  <span class=\"Z3988\" style=\"display:none\" title=\"ctx_ver=Z39.88-2004&amp;rft_val_fmt=info%3Aofi%2Ffmt%3Akev%3Amtx%3Ajournal&amp;rft.genre=article&amp;rft.atitle=Prime%20rob%3b%20Crime%20gangs%20steal%20top%20meat%20cuts%20to%20order%20in%20raids%20on%20supermarkets.&amp;rft.jtitle=Daily%20Record%20(Glasgow%2c%20UK)&amp;rft.title=Daily%20Record%20(Glasgow%2c%20UK)&amp;rft.description=GANGS%20of%20criminals%20are%20launching%20%22rush%20and%20grab%22%20raids%20on%20Scotland%27s%20supermarkets%20and%20targeting%20prime%20cuts%20of%20%20meat.%20They%20are%20stealing%20beef%20and%20lamb%20to%20order%20and%20either%20selling%20it%20...&amp;rft.au=James%20Moncur&amp;rft.date=2012-04-24&amp;rft.language=ENG&amp;rft.spage=22&amp;rft.epage=22&amp;rft_id=https://nouveau.europresse.com/Link/mnhnT_20211/news%c2%b720120424%c2%b7GBQ%c2%b7287438331\"></span>    <a href=\"/Document/View?viewEvent=1&docRefId=0&docName=news%C2%B720120424%C2%B7GBQ%C2%B7287438331&docIndex=16\"  target=\"iFrameViewDoc\" class=\"docList-links\" >Prime rob; Crime gangs steal top meat cuts to order in raids on supermarkets.</a>   </div> <div class=\"docList-footer\">    <div class=\"doclist-details\"> <span class=\"details\"> 2012-04-24 <span class=\"source-type-name-separator source-type-name-separator-details\">&bull;</span> 378 mots </span>    </div> <div class=\"kwicResult clearfix\">  <span class=\"tile-details\"> <span class=\"details\"> 2012-04-24  <span class=\"source-type-name-separator source-type-name-separator-details\">&bull;</span> 378 mots<span>&nbsp;-&nbsp;</span>  </span> </span>       <span class=\"doclist-author\">James Moncur</span> -   GANGS of criminals are launching \"rush and grab\" raids on Scotland\\'s supermarkets and targeting prime cuts of <mark> meat</mark>. They are stealing beef and lamb to order and either selling it ...  </div>   <div class=\"Date\"></div>  </div> <div class=\"tile-shadow\"></div> </div>  <div class=\"tile-footer\"> <div class=\"left-container\">    <span class=\"source-name\">Daily Record (Glasgow, UK)</span>  </div> <div class=\"right-container\">        </div> </div>   </div> </div>       <div class=\"docListItem\" data-item-id=\"17\" id=\"doc17\" themeId=\"0\">   <div id=\"chbdoc-17-0\" class=\"checkbox-container selection-visible\" name=\"news&#183;20120424&#183;ABAL&#183;042\" index=\"17\"></div>  <div class=\"docContent\"> <div class=\"docList-header\"> <span class=\"icon-logo-container\"><img src=\"/images/interface/result/ico_pressecrite_small.png\" vspace=\"10\" /></span>&nbsp;<span class=\"source-type pressecrite\">Journaux</span> <input id=\"doc-name\" type=\"hidden\" value=\"news&#183;20120424&#183;ABAL&#183;042\" />     <span class=\"source-name\">The Balochistan Times</span>   </div> <div class=\"content-wrapper\"> <div class=\"docLink docList-body\">  <span class=\"Z3988\" style=\"display:none\" title=\"ctx_ver=Z39.88-2004&amp;rft_val_fmt=info%3Aofi%2Ffmt%3Akev%3Amtx%3Ajournal&amp;rft.genre=article&amp;rft.atitle=Moot%20to%20highlight%20issues%20of%20Pastoralists%27%20from%20today&amp;rft.jtitle=The%20Balochistan%20Times&amp;rft.title=The%20Balochistan%20Times&amp;rft.description=Three%20day%20regional%20moot%20is%20scheduled%20here%20from%20April%2024%2c%20Monday%20aimed%20at%20highlighting%20the%20role%20of%20landless%20mobile%20pastoralist%20in%20%20livestock%20development%20in%20mountainous%20regions%20of%20the%20country.%20The%20workshop%20...&amp;rft.date=2012-04-24&amp;rft.language=ENG&amp;rft.volume=XXXVI%2c%20No%20114&amp;rft.issue=XXXVI%2c%20No%20114&amp;rft_id=https://nouveau.europresse.com/Link/mnhnT_20211/news%c2%b720120424%c2%b7ABAL%c2%b7042\"></span>    <a href=\"/Document/View?viewEvent=1&docRefId=0&docName=news%C2%B720120424%C2%B7ABAL%C2%B7042&docIndex=17\"  target=\"iFrameViewDoc\" class=\"docList-links\" >Moot to highlight issues of Pastoralists\\' from today</a>   </div> <div class=\"docList-footer\">    <div class=\"doclist-details\"> <span class=\"details\"> 2012-04-24 <span class=\"source-type-name-separator source-type-name-separator-details\">&bull;</span> 242 mots </span>    </div> <div class=\"kwicResult clearfix\">  <span class=\"tile-details\"> <span class=\"details\"> 2012-04-24  <span class=\"source-type-name-separator source-type-name-separator-details\">&bull;</span> 242 mots<span>&nbsp;-&nbsp;</span>  </span> </span>       Three day regional moot is scheduled here from April 24, Monday aimed at highlighting the role of landless mobile pastoralist in <mark> livestock</mark> development in mountainous regions of the country. The workshop ...  </div>   <div class=\"Date\"></div>  </div> <div class=\"tile-shadow\"></div> </div>  <div class=\"tile-footer\"> <div class=\"left-container\">    <span class=\"source-name\">The Balochistan Times</span>  </div> <div class=\"right-container\">        </div> </div>   </div> </div>       <div class=\"docListItem\" data-item-id=\"18\" id=\"doc18\" themeId=\"0\">   <div id=\"chbdoc-18-0\" class=\"checkbox-container selection-visible\" name=\"report&#183;20120424&#183;RPP&#183;13006792\" index=\"18\"></div>  <div class=\"docContent\"> <div class=\"docList-header\"> <span class=\"icon-logo-container\"><img src=\"/images/interface/result/ico_report_small.png\" vspace=\"10\" /></span>&nbsp;<span class=\"source-type report\">\\xc3\\x89tudes et rapports</span> <input id=\"doc-name\" type=\"hidden\" value=\"report&#183;20120424&#183;RPP&#183;13006792\" />     <span class=\"source-name\">Reports (Public) - 202.114.32.103</span>   </div> <div class=\"content-wrapper\"> <div class=\"docLink docList-body\">  <span class=\"Z3988\" style=\"display:none\" title=\"ctx_ver=Z39.88-2004&amp;rft_val_fmt=info%3Aofi%2Ffmt%3Akev%3Amtx%3Abook&amp;rft.genre=unknown&amp;rft.btitle=Livestock%20Sector%20in%20China%20-%201999-09&amp;rft.title=Livestock%20Sector%20in%20China%20-%201999-09&amp;rft.pub=Reports%20(Public)%20-%20202.114.32.103&amp;rft.description=Exploring%20changes%20in%20the%20spatial%20distribution%20of%20%20livestock%20in%20China%20P.H.%20Verburg%20a%2c%20*%2c%20H.%20van%20Keulen%20b%20a%20Department%20of%20Environmental%20Sciences%2c%20Wageningen%20Agricultural%20University%2c%20PO%20Box%2037%2c%206700%20AA%20...&amp;rft.date=2012-04-24&amp;rft.language=ENG&amp;rft_id=https://nouveau.europresse.com/Link/mnhnT_20211/report%c2%b720120424%c2%b7RPP%c2%b713006792\"></span>    <a href=\"/Document/View?viewEvent=1&docRefId=0&docName=report%C2%B720120424%C2%B7RPP%C2%B713006792&docIndex=18\"  target=\"iFrameViewDoc\" class=\"docList-links\" >Livestock Sector in China - 1999-09</a>   </div> <div class=\"docList-footer\">    <div class=\"doclist-details\"><span>2012-04-24 <span class=\"source-type-name-separator source-type-name-separator-details\">&bull;</span>  17 pages</span>  </div> <div class=\"kwicResult clearfix\">       Exploring changes in the spatial distribution of <mark> livestock</mark> in China P.H. Verburg a, *, H. van Keulen b a Department of Environmental Sciences, Wageningen Agricultural University, PO Box 37, 6700 AA ...  </div>   <div class=\"Date\"></div>  </div> <div class=\"tile-shadow\"></div> </div>  <div class=\"tile-footer\"> <div class=\"left-container\">  <span class=\"source-name\">Reports (Public) - 202.114.32.103</span>   </div> <div class=\"right-container\">      </div> </div>   </div> </div>       <div class=\"docListItem\" data-item-id=\"19\" id=\"doc19\" themeId=\"0\">   <div id=\"chbdoc-19-0\" class=\"checkbox-container selection-visible\" name=\"report&#183;20120424&#183;RPP&#183;13006743\" index=\"19\"></div>  <div class=\"docContent\"> <div class=\"docList-header\"> <span class=\"icon-logo-container\"><img src=\"/images/interface/result/ico_report_small.png\" vspace=\"10\" /></span>&nbsp;<span class=\"source-type report\">\\xc3\\x89tudes et rapports</span> <input id=\"doc-name\" type=\"hidden\" value=\"report&#183;20120424&#183;RPP&#183;13006743\" />     <span class=\"source-name\">Reports (Public) - oversight.house.gov</span>   </div> <div class=\"content-wrapper\"> <div class=\"docLink docList-body\">  <span class=\"Z3988\" style=\"display:none\" title=\"ctx_ver=Z39.88-2004&amp;rft_val_fmt=info%3Aofi%2Ffmt%3Akev%3Amtx%3Abook&amp;rft.genre=unknown&amp;rft.btitle=Livestock%20in%20The%20United%20States%20%3a%20Sector%20Overview%20and%20Key%20Players%20-%202010-11&amp;rft.title=Livestock%20in%20The%20United%20States%20%3a%20Sector%20Overview%20and%20Key%20Players%20-%202010-11&amp;rft.pub=Reports%20(Public)%20-%20oversight.house.gov&amp;rft.description=American%20%20Meat%20Institute%20Comments%20Proposed%20Rllle%3b%20RIN%200580-AB07%20November%2022%2c%202010%20The%20proposed%20definition%20fails%20to%20consider%2c%20as%20required%20by%20the%20various%20judicial%20decisions%20discussed%20above%2c%20that%20the%20required%20competitive%20...&amp;rft.date=2012-04-24&amp;rft.language=ENG&amp;rft_id=https://nouveau.europresse.com/Link/mnhnT_20211/report%c2%b720120424%c2%b7RPP%c2%b713006743\"></span>    <a href=\"/Document/View?viewEvent=1&docRefId=0&docName=report%C2%B720120424%C2%B7RPP%C2%B713006743&docIndex=19\"  target=\"iFrameViewDoc\" class=\"docList-links\" >Livestock in The United States : Sector Overview and Key Players - 2010-11</a>   </div> <div class=\"docList-footer\">    <div class=\"doclist-details\"><span>2012-04-24 <span class=\"source-type-name-separator source-type-name-separator-details\">&bull;</span>  139 pages</span>  </div> <div class=\"kwicResult clearfix\">       American <mark> Meat</mark> Institute Comments Proposed Rllle; RIN 0580-AB07 November 22, 2010 The proposed definition fails to consider, as required by the various judicial decisions discussed above, that the required competitive ...  </div>   <div class=\"Date\"></div>  </div> <div class=\"tile-shadow\"></div> </div>  <div class=\"tile-footer\"> <div class=\"left-container\">  <span class=\"source-name\">Reports (Public) - oversight.house.gov</span>   </div> <div class=\"right-container\">      </div> </div>   </div> </div>       <div class=\"docListItem\" data-item-id=\"20\" id=\"doc20\" themeId=\"0\">   <div id=\"chbdoc-20-0\" class=\"checkbox-container selection-visible\" name=\"report&#183;20120424&#183;RPP&#183;13005883\" index=\"20\"></div>  <div class=\"docContent\"> <div class=\"docList-header\"> <span class=\"icon-logo-container\"><img src=\"/images/interface/result/ico_report_small.png\" vspace=\"10\" /></span>&nbsp;<span class=\"source-type report\">\\xc3\\x89tudes et rapports</span> <input id=\"doc-name\" type=\"hidden\" value=\"report&#183;20120424&#183;RPP&#183;13005883\" />     <span class=\"source-name\">Reports (Public) - reliefweb.int</span>   </div> <div class=\"content-wrapper\"> <div class=\"docLink docList-body\">  <span class=\"Z3988\" style=\"display:none\" title=\"ctx_ver=Z39.88-2004&amp;rft_val_fmt=info%3Aofi%2Ffmt%3Akev%3Amtx%3Abook&amp;rft.genre=unknown&amp;rft.btitle=Cereal%20Production%20Sector%20in%20Egypt%20and%20Russian%20Federation%20-%202011-12&amp;rft.title=Cereal%20Production%20Sector%20in%20Egypt%20and%20Russian%20Federation%20-%202011-12&amp;rft.pub=Reports%20(Public)%20-%20reliefweb.int&amp;rft.description=GIEWS%20global%20information%20and%20early%20warning%20system%20on%20food%20and%20agriculture%20GIEWS%20Country%20Brief%20Egypt%20Reference%20Date%3a%2012-April-2012%20FOOD%20SECURITY%20SNAPSHOT%20%3f%20Favourable%20prospects%20for%20the%202012%20winter%20crops%20%3f%20Above%20...&amp;rft.date=2012-04-24&amp;rft.language=ENG&amp;rft_id=https://nouveau.europresse.com/Link/mnhnT_20211/report%c2%b720120424%c2%b7RPP%c2%b713005883\"></span>    <a href=\"/Document/View?viewEvent=1&docRefId=0&docName=report%C2%B720120424%C2%B7RPP%C2%B713005883&docIndex=20\"  target=\"iFrameViewDoc\" class=\"docList-links\" >Cereal Production Sector in Egypt and Russian Federation - 2011-12</a>   </div> <div class=\"docList-footer\">    <div class=\"doclist-details\"><span>2012-04-24 <span class=\"source-type-name-separator source-type-name-separator-details\">&bull;</span>  2 pages</span>  </div> <div class=\"kwicResult clearfix\">       GIEWS global information and early warning system on food and agriculture GIEWS Country Brief Egypt Reference Date: 12-April-2012 FOOD SECURITY SNAPSHOT ? Favourable prospects for the 2012 winter crops ? Above ...  </div>   <div class=\"Date\"></div>  </div> <div class=\"tile-shadow\"></div> </div>  <div class=\"tile-footer\"> <div class=\"left-container\">  <span class=\"source-name\">Reports (Public) - reliefweb.int</span>   </div> <div class=\"right-container\">      </div> </div>   </div> </div>       <div class=\"docListItem\" data-item-id=\"21\" id=\"doc21\" themeId=\"0\">   <div id=\"chbdoc-21-0\" class=\"checkbox-container selection-visible\" name=\"report&#183;20120424&#183;RPP&#183;13006469\" index=\"21\"></div>  <div class=\"docContent\"> <div class=\"docList-header\"> <span class=\"icon-logo-container\"><img src=\"/images/interface/result/ico_report_small.png\" vspace=\"10\" /></span>&nbsp;<span class=\"source-type report\">\\xc3\\x89tudes et rapports</span> <input id=\"doc-name\" type=\"hidden\" value=\"report&#183;20120424&#183;RPP&#183;13006469\" />     <span class=\"source-name\">Reports (Public) - www.arfb.com</span>   </div> <div class=\"content-wrapper\"> <div class=\"docLink docList-body\">  <span class=\"Z3988\" style=\"display:none\" title=\"ctx_ver=Z39.88-2004&amp;rft_val_fmt=info%3Aofi%2Ffmt%3Akev%3Amtx%3Abook&amp;rft.genre=unknown&amp;rft.btitle=Agriculture%20Business%20in%20The%20United%20States%2c%20Canada%20and%20Mexico%20-%202008-09&amp;rft.title=Agriculture%20Business%20in%20The%20United%20States%2c%20Canada%20and%20Mexico%20-%202008-09&amp;rft.pub=Reports%20(Public)%20-%20www.arfb.com&amp;rft.description=Spending%20Under%20the%202008%20Farm%20Bill%20Producer%20Support%20%3d%20Commodity%20Supports%2c%20Crop%20Insurance%2c%20Permanent%20Disaster%20Assistance%20and%20Funds%20for%20Fruit%20and%20Vegetable%20Producers%2021%25%209%25%2067%25%203%25%20Producer%20Support%20Conservation%20Nutrition%20Other%20...&amp;rft.date=2012-04-24&amp;rft.language=ENG&amp;rft_id=https://nouveau.europresse.com/Link/mnhnT_20211/report%c2%b720120424%c2%b7RPP%c2%b713006469\"></span>    <a href=\"/Document/View?viewEvent=1&docRefId=0&docName=report%C2%B720120424%C2%B7RPP%C2%B713006469&docIndex=21\"  target=\"iFrameViewDoc\" class=\"docList-links\" >Agriculture Business in The United States, Canada and Mexico - 2008-09</a>   </div> <div class=\"docList-footer\">    <div class=\"doclist-details\"><span>2012-04-24 <span class=\"source-type-name-separator source-type-name-separator-details\">&bull;</span>  30 pages</span>  </div> <div class=\"kwicResult clearfix\">       Spending Under the 2008 Farm Bill Producer Support = Commodity Supports, Crop Insurance, Permanent Disaster Assistance and Funds for Fruit and Vegetable Producers 21% 9% 67% 3% Producer Support Conservation Nutrition Other ...  </div>   <div class=\"Date\"></div>  </div> <div class=\"tile-shadow\"></div> </div>  <div class=\"tile-footer\"> <div class=\"left-container\">  <span class=\"source-name\">Reports (Public) - www.arfb.com</span>   </div> <div class=\"right-container\">      </div> </div>   </div> </div>       <div class=\"docListItem\" data-item-id=\"22\" id=\"doc22\" themeId=\"0\">   <div id=\"chbdoc-22-0\" class=\"checkbox-container selection-visible\" name=\"report&#183;20120424&#183;RPP&#183;13006785\" index=\"22\"></div>  <div class=\"docContent\"> <div class=\"docList-header\"> <span class=\"icon-logo-container\"><img src=\"/images/interface/result/ico_report_small.png\" vspace=\"10\" /></span>&nbsp;<span class=\"source-type report\">\\xc3\\x89tudes et rapports</span> <input id=\"doc-name\" type=\"hidden\" value=\"report&#183;20120424&#183;RPP&#183;13006785\" />     <span class=\"source-name\">Reports (Public) - www.soils.wisc.edu</span>   </div> <div class=\"content-wrapper\"> <div class=\"docLink docList-body\">  <span class=\"Z3988\" style=\"display:none\" title=\"ctx_ver=Z39.88-2004&amp;rft_val_fmt=info%3Aofi%2Ffmt%3Akev%3Amtx%3Abook&amp;rft.genre=unknown&amp;rft.btitle=Agriculture%20and%20Energy%20%26%20Environment%20in%20The%20United%20States%20%3a%20Innovation%20and%20Technology%20Trends%20-%202010-04&amp;rft.title=Agriculture%20and%20Energy%20%26%20Environment%20in%20The%20United%20States%20%3a%20Innovation%20and%20Technology%20Trends%20-%202010-04&amp;rft.pub=Reports%20(Public)%20-%20www.soils.wisc.edu&amp;rft.description=When%20It%20Hits%20The%20Fan%3fPathogens%20from%20Human%20and%20Bovine%20Sources%20in%20the%20Environment%20Mark%20Borchardt%20USDA-Agricultural%20Research%20Service%20Environmentally%20Integrated%20Dairy%20Management%20Research%20Unit%20Marshfield%2c%20Wisconsin%20Biological%20Fact%20%231%20...&amp;rft.date=2012-04-24&amp;rft.language=ENG&amp;rft_id=https://nouveau.europresse.com/Link/mnhnT_20211/report%c2%b720120424%c2%b7RPP%c2%b713006785\"></span>    <a href=\"/Document/View?viewEvent=1&docRefId=0&docName=report%C2%B720120424%C2%B7RPP%C2%B713006785&docIndex=22\"  target=\"iFrameViewDoc\" class=\"docList-links\" >Agriculture and Energy & Environment in The United States : Innovation and Technology Trends - 2010-04</a>   </div> <div class=\"docList-footer\">    <div class=\"doclist-details\"><span>2012-04-24 <span class=\"source-type-name-separator source-type-name-separator-details\">&bull;</span>  47 pages</span>  </div> <div class=\"kwicResult clearfix\">       When It Hits The Fan?Pathogens from Human and Bovine Sources in the Environment Mark Borchardt USDA-Agricultural Research Service Environmentally Integrated Dairy Management Research Unit Marshfield, Wisconsin Biological Fact #1 ...  </div>   <div class=\"Date\"></div>  </div> <div class=\"tile-shadow\"></div> </div>  <div class=\"tile-footer\"> <div class=\"left-container\">  <span class=\"source-name\">Reports (Public) - www.soils.wisc.edu</span>   </div> <div class=\"right-container\">      </div> </div>   </div> </div>       <div class=\"docListItem\" data-item-id=\"23\" id=\"doc23\" themeId=\"0\">   <div id=\"chbdoc-23-0\" class=\"checkbox-container selection-visible\" name=\"news&#183;20120424&#183;SNS&#183;1116383000\" index=\"23\"></div>  <div class=\"docContent\"> <div class=\"docList-header\"> <span class=\"icon-logo-container\"><img src=\"/images/interface/result/ico_pressecrite_small.png\" vspace=\"10\" /></span>&nbsp;<span class=\"source-type pressecrite\">Communiqu\\xc3\\xa9s de presse</span> <input id=\"doc-name\" type=\"hidden\" value=\"news&#183;20120424&#183;SNS&#183;1116383000\" />     <span class=\"source-name\">States News Services</span>   </div> <div class=\"content-wrapper\"> <div class=\"docLink docList-body\">  <span class=\"Z3988\" style=\"display:none\" title=\"ctx_ver=Z39.88-2004&amp;rft_val_fmt=info%3Aofi%2Ffmt%3Akev%3Amtx%3Ajournal&amp;rft.genre=article&amp;rft.atitle=DEEP%20REMINDS%20RESIDENTS%20TO%20BE%20BEAR%20AWARE%20REAPPEARANCE%20OF%20BLACK%20BEARS%20THIS%20SPRING%20PROMPTS%20PRECAUTIONS&amp;rft.jtitle=States%20News%20Services&amp;rft.title=States%20News%20Services&amp;rft.description=%22As%20Connecticut%27s%20bear%20population%20continues%20to%20grow%2c%20residents%20of%20our%20state%20should%20familiarize%20themselves%20with%20steps%20they%20can%20take%20to%20avoid%20contact%20with%20this%20species%2c%22%20said%20Susan%20Frechette%2c%20DEEP%20Deputy%20...&amp;rft.date=2012-04-24&amp;rft.language=ENG&amp;rft_id=https://nouveau.europresse.com/Link/mnhnT_20211/news%c2%b720120424%c2%b7SNS%c2%b71116383000\"></span>    <a href=\"/Document/View?viewEvent=1&docRefId=0&docName=news%C2%B720120424%C2%B7SNS%C2%B71116383000&docIndex=23\"  target=\"iFrameViewDoc\" class=\"docList-links\" >DEEP REMINDS RESIDENTS TO BE BEAR AWARE REAPPEARANCE OF BLACK BEARS THIS SPRING PROMPTS PRECAUTIONS</a>   </div> <div class=\"docList-footer\">    <div class=\"doclist-details\"> <span class=\"details\"> 2012-04-24 <span class=\"source-type-name-separator source-type-name-separator-details\">&bull;</span> 548 mots </span>    </div> <div class=\"kwicResult clearfix\">  <span class=\"tile-details\"> <span class=\"details\"> 2012-04-24  <span class=\"source-type-name-separator source-type-name-separator-details\">&bull;</span> 548 mots<span>&nbsp;-&nbsp;</span>  </span> </span>       \"As Connecticut\\'s bear population continues to grow, residents of our state should familiarize themselves with steps they can take to avoid contact with this species,\" said Susan Frechette, DEEP Deputy ...  </div>   <div class=\"Date\"></div>  </div> <div class=\"tile-shadow\"></div> </div>  <div class=\"tile-footer\"> <div class=\"left-container\">  <img class=\"source-logo\" src=\"/Docviewer.aspx?DocName=sns_small.gif\" title=\"States News Services\" />   </div> <div class=\"right-container\">        </div> </div>   </div> </div>       <div class=\"docListItem\" data-item-id=\"24\" id=\"doc24\" themeId=\"0\">   <div id=\"chbdoc-24-0\" class=\"checkbox-container selection-visible\" name=\"news&#183;20120424&#183;CW&#183;0c8284\" index=\"24\"></div>  <div class=\"docContent\"> <div class=\"docList-header\"> <span class=\"icon-logo-container\"><img src=\"/images/interface/result/ico_pressecrite_small.png\" vspace=\"10\" /></span>&nbsp;<span class=\"source-type pressecrite\">Communiqu\\xc3\\xa9s de presse</span> <input id=\"doc-name\" type=\"hidden\" value=\"news&#183;20120424&#183;CW&#183;0c8284\" />     <span class=\"source-name\">Canada NewsWire (english)</span>   </div> <div class=\"content-wrapper\"> <div class=\"docLink docList-body\">  <span class=\"Z3988\" style=\"display:none\" title=\"ctx_ver=Z39.88-2004&amp;rft_val_fmt=info%3Aofi%2Ffmt%3Akev%3Amtx%3Ajournal&amp;rft.genre=article&amp;rft.atitle=Experts%20challenge%20sustainability%20of%20Canada%27s%20food%20system&amp;rft.jtitle=Canada%20NewsWire%20(english)&amp;rft.title=Canada%20NewsWire%20(english)&amp;rft.description=A%20new%20WSPA%20report%20reveals%20the%20hidden%20costs%20of%20industrial%20animal%20agriculture%20TORONTO%2c%20April%2024%2c%202012%20%2fCNW%2f%20-%20Today%2c%20the%20World%20Society%20for%20the%20Protection%20of%20Animals%20(WSPA)%20has%20released%20some%20alarming%20...&amp;rft.date=2012-04-24&amp;rft.language=ENG&amp;rft_id=https://nouveau.europresse.com/Link/mnhnT_20211/news%c2%b720120424%c2%b7CW%c2%b70c8284\"></span>    <a href=\"/Document/View?viewEvent=1&docRefId=0&docName=news%C2%B720120424%C2%B7CW%C2%B70c8284&docIndex=24\"  target=\"iFrameViewDoc\" class=\"docList-links\" >Experts challenge sustainability of Canada\\'s food system</a>   </div> <div class=\"docList-footer\">    <div class=\"doclist-details\"> <span class=\"details\"> 2012-04-24 <span class=\"source-type-name-separator source-type-name-separator-details\">&bull;</span> 715 mots </span>    </div> <div class=\"kwicResult clearfix\">  <span class=\"tile-details\"> <span class=\"details\"> 2012-04-24  <span class=\"source-type-name-separator source-type-name-separator-details\">&bull;</span> 715 mots<span>&nbsp;-&nbsp;</span>  </span> </span>       A new WSPA report reveals the hidden costs of industrial animal agriculture TORONTO, April 24, 2012 /CNW/ - Today, the World Society for the Protection of Animals (WSPA) has released some alarming ...  </div>   <div class=\"Date\"></div>  </div> <div class=\"tile-shadow\"></div> </div>  <div class=\"tile-footer\"> <div class=\"left-container\">  <img class=\"source-logo\" src=\"/Docviewer.aspx?DocName=cw2_small.gif\" title=\"Canada NewsWire (english)\" />   </div> <div class=\"right-container\">        </div> </div>   </div> </div>       <div class=\"docListItem\" data-item-id=\"25\" id=\"doc25\" themeId=\"0\">   <div id=\"chbdoc-25-0\" class=\"checkbox-container selection-visible\" name=\"report&#183;20120424&#183;RPP&#183;13006120\" index=\"25\"></div>  <div class=\"docContent\"> <div class=\"docList-header\"> <span class=\"icon-logo-container\"><img src=\"/images/interface/result/ico_report_small.png\" vspace=\"10\" /></span>&nbsp;<span class=\"source-type report\">\\xc3\\x89tudes et rapports</span> <input id=\"doc-name\" type=\"hidden\" value=\"report&#183;20120424&#183;RPP&#183;13006120\" />     <span class=\"source-name\">Reports (Public) - law.buffalo.edu</span>   </div> <div class=\"content-wrapper\"> <div class=\"docLink docList-body\">  <span class=\"Z3988\" style=\"display:none\" title=\"ctx_ver=Z39.88-2004&amp;rft_val_fmt=info%3Aofi%2Ffmt%3Akev%3Amtx%3Abook&amp;rft.genre=unknown&amp;rft.btitle=U.S.%20Agricultural%20Products%20Industry%20Brief%20-%202011-12&amp;rft.title=U.S.%20Agricultural%20Products%20Industry%20Brief%20-%202011-12&amp;rft.pub=Reports%20(Public)%20-%20law.buffalo.edu&amp;rft.description=Galena%20Duba%20December%2014%2c%202011%20Environmental%20Advocacy%20Food%20With%20Benefits%3a%20Increasing%20the%20Accessibility%20of%20Farmers%20Markets%20to%20SNAP%20Recipients%201.%20Introduction%20In%20his%20July%202011%20Proclamation%20of%20%3fNational%20Farmers%20Market%20Week%20...&amp;rft.date=2012-04-24&amp;rft.language=ENG&amp;rft_id=https://nouveau.europresse.com/Link/mnhnT_20211/report%c2%b720120424%c2%b7RPP%c2%b713006120\"></span>    <a href=\"/Document/View?viewEvent=1&docRefId=0&docName=report%C2%B720120424%C2%B7RPP%C2%B713006120&docIndex=25\"  target=\"iFrameViewDoc\" class=\"docList-links\" >U.S. Agricultural Products Industry Brief - 2011-12</a>   </div> <div class=\"docList-footer\">    <div class=\"doclist-details\"><span>2012-04-24 <span class=\"source-type-name-separator source-type-name-separator-details\">&bull;</span>  22 pages</span>  </div> <div class=\"kwicResult clearfix\">       Galena Duba December 14, 2011 Environmental Advocacy Food With Benefits: Increasing the Accessibility of Farmers Markets to SNAP Recipients 1. Introduction In his July 2011 Proclamation of ?National Farmers Market Week ...  </div>   <div class=\"Date\"></div>  </div> <div class=\"tile-shadow\"></div> </div>  <div class=\"tile-footer\"> <div class=\"left-container\">  <span class=\"source-name\">Reports (Public) - law.buffalo.edu</span>   </div> <div class=\"right-container\">      </div> </div>   </div> </div>       <div class=\"docListItem\" data-item-id=\"26\" id=\"doc26\" themeId=\"0\">   <div id=\"chbdoc-26-0\" class=\"checkbox-container selection-visible\" name=\"report&#183;20120424&#183;RPP&#183;13007280\" index=\"26\"></div>  <div class=\"docContent\"> <div class=\"docList-header\"> <span class=\"icon-logo-container\"><img src=\"/images/interface/result/ico_report_small.png\" vspace=\"10\" /></span>&nbsp;<span class=\"source-type report\">\\xc3\\x89tudes et rapports</span> <input id=\"doc-name\" type=\"hidden\" value=\"report&#183;20120424&#183;RPP&#183;13007280\" />     <span class=\"source-name\">Reports (Public) - 202.114.32.103</span>   </div> <div class=\"content-wrapper\"> <div class=\"docLink docList-body\">  <span class=\"Z3988\" style=\"display:none\" title=\"ctx_ver=Z39.88-2004&amp;rft_val_fmt=info%3Aofi%2Ffmt%3Akev%3Amtx%3Abook&amp;rft.genre=unknown&amp;rft.btitle=China%3a%20Brief%20Overview%2c%202006%2c%20focus%20on%20Food%20-%202006-01&amp;rft.title=China%3a%20Brief%20Overview%2c%202006%2c%20focus%20on%20Food%20-%202006-01&amp;rft.pub=Reports%20(Public)%20-%20202.114.32.103&amp;rft.description=2210-7843%20circlecopyrt%202010%20Published%20by%20Elsevier%20B.V.%20doi%3a10.1016%2fj.aaspro.2010.09.013%20Agriculture%20and%20Agricultural%20Science%20Procedia%201%20(2010)%20106%3f115%20Available%20online%20at%20www.sciencedirect%20...&amp;rft.date=2012-04-24&amp;rft.language=ENG&amp;rft_id=https://nouveau.europresse.com/Link/mnhnT_20211/report%c2%b720120424%c2%b7RPP%c2%b713007280\"></span>    <a href=\"/Document/View?viewEvent=1&docRefId=0&docName=report%C2%B720120424%C2%B7RPP%C2%B713007280&docIndex=26\"  target=\"iFrameViewDoc\" class=\"docList-links\" >China: Brief Overview, 2006, focus on Food - 2006-01</a>   </div> <div class=\"docList-footer\">    <div class=\"doclist-details\"><span>2012-04-24 <span class=\"source-type-name-separator source-type-name-separator-details\">&bull;</span>  10 pages</span>  </div> <div class=\"kwicResult clearfix\">       2210-7843 circlecopyrt 2010 Published by Elsevier B.V. doi:10.1016/j.aaspro.2010.09.013 Agriculture and Agricultural Science Procedia 1 (2010) 106?115 Available online at www.sciencedirect ...  </div>   <div class=\"Date\"></div>  </div> <div class=\"tile-shadow\"></div> </div>  <div class=\"tile-footer\"> <div class=\"left-container\">  <span class=\"source-name\">Reports (Public) - 202.114.32.103</span>   </div> <div class=\"right-container\">      </div> </div>   </div> </div>       <div class=\"docListItem\" data-item-id=\"27\" id=\"doc27\" themeId=\"0\">   <div id=\"chbdoc-27-0\" class=\"checkbox-container selection-visible\" name=\"report&#183;20120424&#183;RPP&#183;13005937\" index=\"27\"></div>  <div class=\"docContent\"> <div class=\"docList-header\"> <span class=\"icon-logo-container\"><img src=\"/images/interface/result/ico_report_small.png\" vspace=\"10\" /></span>&nbsp;<span class=\"source-type report\">\\xc3\\x89tudes et rapports</span> <input id=\"doc-name\" type=\"hidden\" value=\"report&#183;20120424&#183;RPP&#183;13005937\" />     <span class=\"source-name\">Reports (Public) - www.agric.wa.gov.au</span>   </div> <div class=\"content-wrapper\"> <div class=\"docLink docList-body\">  <span class=\"Z3988\" style=\"display:none\" title=\"ctx_ver=Z39.88-2004&amp;rft_val_fmt=info%3Aofi%2Ffmt%3Akev%3Amtx%3Abook&amp;rft.genre=unknown&amp;rft.btitle=Australia%3a%20Brief%20Outlook%2c%202012%2c%20focus%20on%20Meat%20-%202012-03&amp;rft.title=Australia%3a%20Brief%20Outlook%2c%202012%2c%20focus%20on%20Meat%20-%202012-03&amp;rft.pub=Reports%20(Public)%20-%20www.agric.wa.gov.au&amp;rft.description=1%20Newsletter%20of%20the%20Department%20of%20Agriculture%20and%20FoodISSN%3a%201035-4409%20Contents%20No.%2086%20Mar%202012%20In%20addition%20there%20were%20on-site%20visits%20to%20two%20piggeries%20an%20artificial%20breeding%20centre%2c%20a%20...&amp;rft.date=2012-04-24&amp;rft.language=ENG&amp;rft_id=https://nouveau.europresse.com/Link/mnhnT_20211/report%c2%b720120424%c2%b7RPP%c2%b713005937\"></span>    <a href=\"/Document/View?viewEvent=1&docRefId=0&docName=report%C2%B720120424%C2%B7RPP%C2%B713005937&docIndex=27\"  target=\"iFrameViewDoc\" class=\"docList-links\" >Australia: Brief Outlook, 2012, focus on Meat - 2012-03</a>   </div> <div class=\"docList-footer\">    <div class=\"doclist-details\"><span>2012-04-24 <span class=\"source-type-name-separator source-type-name-separator-details\">&bull;</span>  8 pages</span>  </div> <div class=\"kwicResult clearfix\">       1 Newsletter of the Department of Agriculture and FoodISSN: 1035-4409 Contents No. 86 Mar 2012 In addition there were on-site visits to two piggeries an artificial breeding centre, a ...  </div>   <div class=\"Date\"></div>  </div> <div class=\"tile-shadow\"></div> </div>  <div class=\"tile-footer\"> <div class=\"left-container\">  <span class=\"source-name\">Reports (Public) - www.agric.wa.gov.au</span>   </div> <div class=\"right-container\">      </div> </div>   </div> </div>       <div class=\"docListItem\" data-item-id=\"28\" id=\"doc28\" themeId=\"0\">   <div id=\"chbdoc-28-0\" class=\"checkbox-container selection-visible\" name=\"report&#183;20120424&#183;RPP&#183;13006901\" index=\"28\"></div>  <div class=\"docContent\"> <div class=\"docList-header\"> <span class=\"icon-logo-container\"><img src=\"/images/interface/result/ico_report_small.png\" vspace=\"10\" /></span>&nbsp;<span class=\"source-type report\">\\xc3\\x89tudes et rapports</span> <input id=\"doc-name\" type=\"hidden\" value=\"report&#183;20120424&#183;RPP&#183;13006901\" />     <span class=\"source-name\">Reports (Public) - govconnect.alachuacounty.us</span>   </div> <div class=\"content-wrapper\"> <div class=\"docLink docList-body\">  <span class=\"Z3988\" style=\"display:none\" title=\"ctx_ver=Z39.88-2004&amp;rft_val_fmt=info%3Aofi%2Ffmt%3Akev%3Amtx%3Abook&amp;rft.genre=unknown&amp;rft.btitle=The%20United%20States%3a%20Commodity%20Snapshot%2c%20March%202002%20-%202002-03&amp;rft.title=The%20United%20States%3a%20Commodity%20Snapshot%2c%20March%202002%20-%202002-03&amp;rft.pub=Reports%20(Public)%20-%20govconnect.alachuacounty.us&amp;rft.description=Center%20for%20Sustainable%20Systems%20University%20of%20Michigan%20440%20Church%20Street%2c%20Ann%20Arbor%2c%20MI%2048109-1041%20phone%3a%20734-764-1412%20fax%3a%20734-647-5841%20email%3a%20css.info%40umich.edu%20http%3a%2f%2fcss.snre%20...&amp;rft.date=2012-04-24&amp;rft.language=ENG&amp;rft_id=https://nouveau.europresse.com/Link/mnhnT_20211/report%c2%b720120424%c2%b7RPP%c2%b713006901\"></span>    <a href=\"/Document/View?viewEvent=1&docRefId=0&docName=report%C2%B720120424%C2%B7RPP%C2%B713006901&docIndex=28\"  target=\"iFrameViewDoc\" class=\"docList-links\" >The United States: Commodity Snapshot, March 2002 - 2002-03</a>   </div> <div class=\"docList-footer\">    <div class=\"doclist-details\"><span>2012-04-24 <span class=\"source-type-name-separator source-type-name-separator-details\">&bull;</span>  2 pages</span>  </div> <div class=\"kwicResult clearfix\">       Center for Sustainable Systems University of Michigan 440 Church Street, Ann Arbor, MI 48109-1041 phone: 734-764-1412 fax: 734-647-5841 email: css.info@umich.edu http://css.snre ...  </div>   <div class=\"Date\"></div>  </div> <div class=\"tile-shadow\"></div> </div>  <div class=\"tile-footer\"> <div class=\"left-container\">  <span class=\"source-name\">Reports (Public) - govconnect.alachuacounty.us</span>   </div> <div class=\"right-container\">      </div> </div>   </div> </div>       <div class=\"docListItem\" data-item-id=\"29\" id=\"doc29\" themeId=\"0\">   <div id=\"chbdoc-29-0\" class=\"checkbox-container selection-visible\" name=\"report&#183;20120424&#183;RPP&#183;13006897\" index=\"29\"></div>  <div class=\"docContent\"> <div class=\"docList-header\"> <span class=\"icon-logo-container\"><img src=\"/images/interface/result/ico_report_small.png\" vspace=\"10\" /></span>&nbsp;<span class=\"source-type report\">\\xc3\\x89tudes et rapports</span> <input id=\"doc-name\" type=\"hidden\" value=\"report&#183;20120424&#183;RPP&#183;13006897\" />     <span class=\"source-name\">Reports (Public) - www.perfectagro.ru</span>   </div> <div class=\"content-wrapper\"> <div class=\"docLink docList-body\">  <span class=\"Z3988\" style=\"display:none\" title=\"ctx_ver=Z39.88-2004&amp;rft_val_fmt=info%3Aofi%2Ffmt%3Akev%3Amtx%3Abook&amp;rft.genre=unknown&amp;rft.btitle=The%20Russian%20Agriculture%20%3a%20Sector%20Statistics%20-%202011-08&amp;rft.title=The%20Russian%20Agriculture%20%3a%20Sector%20Statistics%20-%202011-08&amp;rft.pub=Reports%20(Public)%20-%20www.perfectagro.ru&amp;rft.description=%3f%3f%3f%3f%3f%3f%3f%3f%3f%20%3f%20%3f%3f%3f%3f%3f%3f%3f%3f%20%3f%20%3f%3f%3f%3f%3f%3f%20%3f%3f%3f%3f%3f%3f%3f%3f%20%3f%20%3f%3f%3f%3f%3f%3f%3f%3f%3f%3f%3f%3f%3f%3f%20%3f%20%3f%3f%3f%3f%3f%3f%3f%3f%3f%3f%3f%3f%20%3f%20%3f%3f%3f%3f%3f%3f%3f%3f%3f%3f%3f%3f%20%3f%20%3f%3f%3f%3f%3f%20%3f%3f%3f%3f%3f%3f%3f%20%3f%20%3f%3f%3f%3f%3f%20%3f%20%3f%3f%3f%3f-%3f%3f%3f%3f%3f%3f%3f%3f%20%3f%3f%3f%3f%3f%3f%3f%3f%3f%3f%3f%3f%3f%3f%20%3f%20%3f%3f%3f%3f%3f%20%3f%20%3f%3f%3f%3f%3f%3f%3f%3f%3f%20www.perfectagro.ru%20july%20%3f%20august%202011%20%3f%3f%3f%3f%3f%3f%3f%3f%3f%3f%3f%3f%3f%3f%3f%3f%3f%3f%3f%3f%20%3f%3f%3f%3f%3f%3f%20%3f%20%3f%3f%3f%3f%3f%3f%20%3f%3f%3f%3f%3f%3f%3f%3f%3f%3f%3f%20%3f%20%3f%3f%3f%3f%3f%3f%20%3f%20%3f%3f%20%3f%3f%3f%3f%3f%3f%3f%20%3f%3f%3f%3f%3f%3f%3f%3f%3f%3f%3f%20%3f%3f%3f%3f%3f%3f%3f%3f%3f%3f%3f%3f%3f%3f%20The%20agricultural%20magazine%20about%20advanced%20technologies%20in%20Russia%20and%20abroad%20%3f%3f%3f%3f%20%3f%20%3f%3f%3f%3f%3f%3f%202011%20economics%20%3f%20exhibitions%20%3f%20crop%20protection%20%3f%20agricultural%20machinery%20%3f%20pig%20farming%20%3f%20poultry%20%3f%20business%20lessons%20%3f%20grain%20%3f%20%20meat%20and%20...&amp;rft.date=2012-04-24&amp;rft.language=ENG&amp;rft_id=https://nouveau.europresse.com/Link/mnhnT_20211/report%c2%b720120424%c2%b7RPP%c2%b713006897\"></span>    <a href=\"/Document/View?viewEvent=1&docRefId=0&docName=report%C2%B720120424%C2%B7RPP%C2%B713006897&docIndex=29\"  target=\"iFrameViewDoc\" class=\"docList-links\" >The Russian Agriculture : Sector Statistics - 2011-08</a>   </div> <div class=\"docList-footer\">    <div class=\"doclist-details\"><span>2012-04-24 <span class=\"source-type-name-separator source-type-name-separator-details\">&bull;</span>  32 pages</span>  </div> <div class=\"kwicResult clearfix\">       ????????? ? ???????? ? ?????? ???????? ? ?????????????? ? ???????????? ? ???????????? ? ????? ??????? ? ????? ? ????-???????? ?????????????? ? ????? ? ????????? www.perfectagro.ru july ? august 2011 ???????????????????? ?????? ? ?????? ??????????? ? ?????? ? ?? ??????? ??????????? ?????????????? The agricultural magazine about advanced technologies in Russia and abroad ???? ? ?????? 2011 economics ? exhibitions ? crop protection ? agricultural machinery ? pig farming ? poultry ? business lessons ? grain ? <mark> meat</mark> and ...  </div>   <div class=\"Date\"></div>  </div> <div class=\"tile-shadow\"></div> </div>  <div class=\"tile-footer\"> <div class=\"left-container\">  <span class=\"source-name\">Reports (Public) - www.perfectagro.ru</span>   </div> <div class=\"right-container\">      </div> </div>   </div> </div>       <div class=\"docListItem\" data-item-id=\"30\" id=\"doc30\" themeId=\"0\">   <div id=\"chbdoc-30-0\" class=\"checkbox-container selection-visible\" name=\"report&#183;20120424&#183;RPP&#183;13006801\" index=\"30\"></div>  <div class=\"docContent\"> <div class=\"docList-header\"> <span class=\"icon-logo-container\"><img src=\"/images/interface/result/ico_report_small.png\" vspace=\"10\" /></span>&nbsp;<span class=\"source-type report\">\\xc3\\x89tudes et rapports</span> <input id=\"doc-name\" type=\"hidden\" value=\"report&#183;20120424&#183;RPP&#183;13006801\" />     <span class=\"source-name\">Reports (Public) - www.limagrain.co.uk</span>   </div> <div class=\"content-wrapper\"> <div class=\"docLink docList-body\">  <span class=\"Z3988\" style=\"display:none\" title=\"ctx_ver=Z39.88-2004&amp;rft_val_fmt=info%3Aofi%2Ffmt%3Akev%3Amtx%3Abook&amp;rft.genre=unknown&amp;rft.btitle=The%20Future%20of%20The%20European%20Agriculture%20-%202003-10&amp;rft.title=The%20Future%20of%20The%20European%20Agriculture%20-%202003-10&amp;rft.pub=Reports%20(Public)%20-%20www.limagrain.co.uk&amp;rft.description=Feeding%20Nutritionally%20Superior%20Maize%20Silage%20An%20introduction%20to%20The%20distinctive%20LGAN%20(LG%20Animal%20Nutrition)%20seal%20of%20approval%20is%20only%20awarded%20to%20selected%20maize%20varieties%20that%20combine%20a%20very%20high%20starch%20content%20...&amp;rft.date=2012-04-24&amp;rft.language=ENG&amp;rft_id=https://nouveau.europresse.com/Link/mnhnT_20211/report%c2%b720120424%c2%b7RPP%c2%b713006801\"></span>    <a href=\"/Document/View?viewEvent=1&docRefId=0&docName=report%C2%B720120424%C2%B7RPP%C2%B713006801&docIndex=30\"  target=\"iFrameViewDoc\" class=\"docList-links\" >The Future of The European Agriculture - 2003-10</a>   </div> <div class=\"docList-footer\">    <div class=\"doclist-details\"><span>2012-04-24 <span class=\"source-type-name-separator source-type-name-separator-details\">&bull;</span>  16 pages</span>  </div> <div class=\"kwicResult clearfix\">       Feeding Nutritionally Superior Maize Silage An introduction to The distinctive LGAN (LG Animal Nutrition) seal of approval is only awarded to selected maize varieties that combine a very high starch content ...  </div>   <div class=\"Date\"></div>  </div> <div class=\"tile-shadow\"></div> </div>  <div class=\"tile-footer\"> <div class=\"left-container\">  <span class=\"source-name\">Reports (Public) - www.limagrain.co.uk</span>   </div> <div class=\"right-container\">      </div> </div>   </div> </div>       <div class=\"docListItem\" data-item-id=\"31\" id=\"doc31\" themeId=\"0\">   <div id=\"chbdoc-31-0\" class=\"checkbox-container selection-visible\" name=\"news&#183;20120425&#183;ANAI&#183;054\" index=\"31\"></div>  <div class=\"docContent\"> <div class=\"docList-header\"> <span class=\"icon-logo-container\"><img src=\"/images/interface/result/ico_pressecrite_small.png\" vspace=\"10\" /></span>&nbsp;<span class=\"source-type pressecrite\">Journaux</span> <input id=\"doc-name\" type=\"hidden\" value=\"news&#183;20120425&#183;ANAI&#183;054\" />     <span class=\"source-name\">The Nation (Pakistan)</span>   </div> <div class=\"content-wrapper\"> <div class=\"docLink docList-body\">  <span class=\"Z3988\" style=\"display:none\" title=\"ctx_ver=Z39.88-2004&amp;rft_val_fmt=info%3Aofi%2Ffmt%3Akev%3Amtx%3Ajournal&amp;rft.genre=article&amp;rft.atitle=Establishment%20of%20meat%20sale%20points%20directed&amp;rft.jtitle=The%20Nation%20(Pakistan)&amp;rft.title=The%20Nation%20(Pakistan)&amp;rft.description=Commissioner%20Lahore%20Division%20Jawad%20Rafiq%20Malik%20has%20ordered%20to%20establish%20%20meat%20sale%20points%20in%20all%20the%20nine%20towns%20of%20the%20city%20in%20order%20to%20provide%20hygienic%20%20meat%20on%20control%20rates%20to%20...&amp;rft.au=OUR%20STAFF%20REPORTER&amp;rft.date=2012-04-25&amp;rft.language=ENG&amp;rft.volume=XXVI%2c%20No%2065&amp;rft.issue=XXVI%2c%20No%2065&amp;rft_id=https://nouveau.europresse.com/Link/mnhnT_20211/news%c2%b720120425%c2%b7ANAI%c2%b7054\"></span>    <a href=\"/Document/View?viewEvent=1&docRefId=0&docName=news%C2%B720120425%C2%B7ANAI%C2%B7054&docIndex=31\"  target=\"iFrameViewDoc\" class=\"docList-links\" >Establishment of meat sale points directed</a>   </div> <div class=\"docList-footer\">    <div class=\"doclist-details\"> <span class=\"details\"> 2012-04-25 <span class=\"source-type-name-separator source-type-name-separator-details\">&bull;</span> 192 mots </span>    </div> <div class=\"kwicResult clearfix\">  <span class=\"tile-details\"> <span class=\"details\"> 2012-04-25  <span class=\"source-type-name-separator source-type-name-separator-details\">&bull;</span> 192 mots<span>&nbsp;-&nbsp;</span>  </span> </span>       <span class=\"doclist-author\">OUR STAFF REPORTER</span> -   Commissioner Lahore Division Jawad Rafiq Malik has ordered to establish <mark> meat</mark> sale points in all the nine towns of the city in order to provide hygienic <mark> meat</mark> on control rates to ...  </div>   <div class=\"Date\"></div>  </div> <div class=\"tile-shadow\"></div> </div>  <div class=\"tile-footer\"> <div class=\"left-container\">    <span class=\"source-name\">The Nation (Pakistan)</span>  </div> <div class=\"right-container\">        </div> </div>   </div> </div>       <div class=\"docListItem\" data-item-id=\"32\" id=\"doc32\" themeId=\"0\">   <div id=\"chbdoc-32-0\" class=\"checkbox-container selection-visible\" name=\"news&#183;20120425&#183;GDH&#183;292498822\" index=\"32\"></div>  <div class=\"docContent\"> <div class=\"docList-header\"> <span class=\"icon-logo-container\"><img src=\"/images/interface/result/ico_pressecrite_small.png\" vspace=\"10\" /></span>&nbsp;<span class=\"source-type pressecrite\">Journaux</span> <input id=\"doc-name\" type=\"hidden\" value=\"news&#183;20120425&#183;GDH&#183;292498822\" />     <span class=\"source-name\">Manila Bulletin</span>   </div> <div class=\"content-wrapper\"> <div class=\"docLink docList-body\">  <span class=\"Z3988\" style=\"display:none\" title=\"ctx_ver=Z39.88-2004&amp;rft_val_fmt=info%3Aofi%2Ffmt%3Akev%3Amtx%3Ajournal&amp;rft.genre=article&amp;rft.atitle=DA%20Pledges%20Provision%20Of%20Relief%20To%20Farmers%20In%20Central%20Visayas.&amp;rft.jtitle=Manila%20Bulletin&amp;rft.title=Manila%20Bulletin&amp;rft.description=Along%20with%20local%20officials%2c%20the%20DA%20Secretary%20also%20met%20with%20farmers%2c%20fishers%2c%20%20livestock%20growers%20and%20other%20agricultural%20stakeholders%20to%20resolve%20major%20problems%20and%20discuss%20strategies%20to%20further%20increase%20productivity%20and%20incomes%20...&amp;rft.date=2012-04-25&amp;rft.language=ENG&amp;rft.spage=NA&amp;rft.epage=NA&amp;rft_id=https://nouveau.europresse.com/Link/mnhnT_20211/news%c2%b720120425%c2%b7GDH%c2%b7292498822\"></span>    <a href=\"/Document/View?viewEvent=1&docRefId=0&docName=news%C2%B720120425%C2%B7GDH%C2%B7292498822&docIndex=32\"  target=\"iFrameViewDoc\" class=\"docList-links\" >DA Pledges Provision Of Relief To Farmers In Central Visayas.</a>   </div> <div class=\"docList-footer\">    <div class=\"doclist-details\"> <span class=\"details\"> 2012-04-25 <span class=\"source-type-name-separator source-type-name-separator-details\">&bull;</span> 396 mots </span>    </div> <div class=\"kwicResult clearfix\">  <span class=\"tile-details\"> <span class=\"details\"> 2012-04-25  <span class=\"source-type-name-separator source-type-name-separator-details\">&bull;</span> 396 mots<span>&nbsp;-&nbsp;</span>  </span> </span>       Along with local officials, the DA Secretary also met with farmers, fishers, <mark> livestock</mark> growers and other agricultural stakeholders to resolve major problems and discuss strategies to further increase productivity and incomes ...  </div>   <div class=\"Date\"></div>  </div> <div class=\"tile-shadow\"></div> </div>  <div class=\"tile-footer\"> <div class=\"left-container\">    <span class=\"source-name\">Manila Bulletin</span>  </div> <div class=\"right-container\">        </div> </div>   </div> </div>       <div class=\"docListItem\" data-item-id=\"33\" id=\"doc33\" themeId=\"0\">   <div id=\"chbdoc-33-0\" class=\"checkbox-container selection-visible\" name=\"news&#183;20120425&#183;APOB&#183;042\" index=\"33\"></div>  <div class=\"docContent\"> <div class=\"docList-header\"> <span class=\"icon-logo-container\"><img src=\"/images/interface/result/ico_pressecrite_small.png\" vspace=\"10\" /></span>&nbsp;<span class=\"source-type pressecrite\">Journaux</span> <input id=\"doc-name\" type=\"hidden\" value=\"news&#183;20120425&#183;APOB&#183;042\" />     <span class=\"source-name\">Pakistan Observer</span>   </div> <div class=\"content-wrapper\"> <div class=\"docLink docList-body\">  <span class=\"Z3988\" style=\"display:none\" title=\"ctx_ver=Z39.88-2004&amp;rft_val_fmt=info%3Aofi%2Ffmt%3Akev%3Amtx%3Ajournal&amp;rft.genre=article&amp;rft.atitle=Shahbaz%20for%20provision%20of%20meat%20and%20eggs%20at%20cheaper%20rates&amp;rft.jtitle=Pakistan%20Observer&amp;rft.title=Pakistan%20Observer&amp;rft.description=Punjab%20Chief%20Minister%20Muhammad%20Shahbaz%20Sharif%20has%20said%20that%20poultry%20industry%20is%20of%20vital%20importance%20for%20meeting%20food%20requirements%20of%20the%20growing%20population%20and%20besides%20provision%20of%20%20meat%20and%20eggs%20at%20...&amp;rft.au=Staff%20Reporter&amp;rft.date=2012-04-25&amp;rft.language=ENG&amp;rft.volume=XXIII%2c%20No%20169&amp;rft.issue=XXIII%2c%20No%20169&amp;rft_id=https://nouveau.europresse.com/Link/mnhnT_20211/news%c2%b720120425%c2%b7APOB%c2%b7042\"></span>    <a href=\"/Document/View?viewEvent=1&docRefId=0&docName=news%C2%B720120425%C2%B7APOB%C2%B7042&docIndex=33\"  target=\"iFrameViewDoc\" class=\"docList-links\" >Shahbaz for provision of meat and eggs at cheaper rates</a>   </div> <div class=\"docList-footer\">    <div class=\"doclist-details\"> <span class=\"details\"> 2012-04-25 <span class=\"source-type-name-separator source-type-name-separator-details\">&bull;</span> 234 mots </span>    </div> <div class=\"kwicResult clearfix\">  <span class=\"tile-details\"> <span class=\"details\"> 2012-04-25  <span class=\"source-type-name-separator source-type-name-separator-details\">&bull;</span> 234 mots<span>&nbsp;-&nbsp;</span>  </span> </span>       <span class=\"doclist-author\">Staff Reporter</span> -   Punjab Chief Minister Muhammad Shahbaz Sharif has said that poultry industry is of vital importance for meeting food requirements of the growing population and besides provision of <mark> meat</mark> and eggs at ...  </div>   <div class=\"Date\"></div>  </div> <div class=\"tile-shadow\"></div> </div>  <div class=\"tile-footer\"> <div class=\"left-container\">    <span class=\"source-name\">Pakistan Observer</span>  </div> <div class=\"right-container\">        </div> </div>   </div> </div>       <div class=\"docListItem\" data-item-id=\"34\" id=\"doc34\" themeId=\"0\">   <div id=\"chbdoc-34-0\" class=\"checkbox-container selection-visible adp-visible\" name=\"news&#183;20120425&#183;WH&#183;0030\" index=\"34\"></div>  <div class=\"docContent\"> <div class=\"docList-header\"> <span class=\"icon-logo-container\"><img src=\"/images/interface/result/ico_pressecrite_small.png\" vspace=\"10\" /></span>&nbsp;<span class=\"source-type pressecrite\">Journaux</span> <input id=\"doc-name\" type=\"hidden\" value=\"news&#183;20120425&#183;WH&#183;0030\" />     <span class=\"source-name\">The Whitehorse Star</span>   </div> <div class=\"content-wrapper\"> <div class=\"docLink docList-body\">  <span class=\"Z3988\" style=\"display:none\" title=\"ctx_ver=Z39.88-2004&amp;rft_val_fmt=info%3Aofi%2Ffmt%3Akev%3Amtx%3Ajournal&amp;rft.genre=article&amp;rft.atitle=Discovery%20of%20mad%20cow%20at%20U.S.%20plant%20was%20due%20to%20luck&amp;rft.jtitle=The%20Whitehorse%20Star&amp;rft.title=The%20Whitehorse%20Star&amp;rft.description=The%20fact%20that%20the%20discovery%20was%20made%20at%20all%20was%20a%20stroke%20of%20luck.%20Tests%20are%20performed%20on%20only%20a%20small%20portion%20of%20dead%20animals%20brought%20to%20the%20transfer%20facility%20in%20...&amp;rft.au=Associated%20Press%20writers%20Lauran%20Neergaard%20and%20Sam%20Hananel%20contributed%20to%20this%20report%20from%20Washington%2c%20D.C.&amp;rft.date=2012-04-25&amp;rft.language=ENG&amp;rft.volume=Vol%3a%20112%2c%20No%3a%2081&amp;rft.issue=Vol%3a%20112%2c%20No%3a%2081&amp;rft.spage=15&amp;rft.epage=15&amp;rft_id=https://nouveau.europresse.com/Link/mnhnT_20211/news%c2%b720120425%c2%b7WH%c2%b70030\"></span>    <a href=\"/Document/View?viewEvent=1&docRefId=0&docName=news%C2%B720120425%C2%B7WH%C2%B70030&docIndex=34\"  target=\"iFrameViewDoc\" class=\"docList-links\" >Discovery of mad cow at U.S. plant was due to luck</a>   </div> <div class=\"docList-footer\">    <div class=\"doclist-details\"> <span class=\"details\"> 2012-04-25 <span class=\"source-type-name-separator source-type-name-separator-details\">&bull;</span> 875 mots </span>    </div> <div class=\"kwicResult clearfix\">  <span class=\"tile-details\"> <span class=\"details\"> 2012-04-25  <span class=\"source-type-name-separator source-type-name-separator-details\">&bull;</span> 875 mots<span>&nbsp;-&nbsp;</span>  </span> </span>       <span class=\"doclist-author\">Associated Press writers Lauran Neergaard and Sam Hananel contributed to this report from Washington, D.C.</span> -   The fact that the discovery was made at all was a stroke of luck. Tests are performed on only a small portion of dead animals brought to the transfer facility in ...  </div>  <a id=\"toggle-apd-carousel-34\" class=\"apd-carousel-toggle\"> Aussi paru dans <i class=\"fal fa-angle-down\" aria-hidden=\"true\"></i> </a> <div id=\"apd-carousel-34\" class=\"Apd \">    <ul class=\"apd-list\">  <li class=\"apd-list-item test\">  <a title=\"The Canadian Press\" data-docname=\"news&#183;20120425&#183;CP&#183;f3355cd76f43445884ef0360b5753fde\" target=\"iFrameViewDoc\" href=\"/Document/View?viewEvent=11&docRefId=0&docName=news%C2%B720120425%C2%B7CP%C2%B7f3355cd76f43445884ef0360b5753fde&docIndex=0\" class=\"apd-list-link no-click\"> <h1 class=\"apd-name\">The Canadian Press</h1> <h2 class=\"apd-date\">25/04/2012</h2> </a>  </li>  </ul>  </div>   <div class=\"Date\"></div>  </div> <div class=\"tile-shadow\"></div> </div>  <div class=\"tile-footer\"> <div class=\"left-container\">  <img class=\"source-logo\" src=\"/Docviewer.aspx?DocName=wh2_small.gif\" title=\"The Whitehorse Star\" />   <i class=\"fal fa-clone\"></i>  </div> <div class=\"right-container\">        </div> </div>   </div> </div>       <div class=\"docListItem\" data-item-id=\"35\" id=\"doc35\" themeId=\"0\">   <div id=\"chbdoc-35-0\" class=\"checkbox-container selection-visible\" name=\"news&#183;20120425&#183;ANAI&#183;046\" index=\"35\"></div>  <div class=\"docContent\"> <div class=\"docList-header\"> <span class=\"icon-logo-container\"><img src=\"/images/interface/result/ico_pressecrite_small.png\" vspace=\"10\" /></span>&nbsp;<span class=\"source-type pressecrite\">Journaux</span> <input id=\"doc-name\" type=\"hidden\" value=\"news&#183;20120425&#183;ANAI&#183;046\" />     <span class=\"source-name\">The Nation (Pakistan)</span>   </div> <div class=\"content-wrapper\"> <div class=\"docLink docList-body\">  <span class=\"Z3988\" style=\"display:none\" title=\"ctx_ver=Z39.88-2004&amp;rft_val_fmt=info%3Aofi%2Ffmt%3Akev%3Amtx%3Ajournal&amp;rft.genre=article&amp;rft.atitle=Govt%20focusing%20on%20poultry%20industry%3a%20CM&amp;rft.jtitle=The%20Nation%20(Pakistan)&amp;rft.title=The%20Nation%20(Pakistan)&amp;rft.description=Chief%20Minister%20Shahbaz%20Sharif%20has%20said%20that%20poultry%20industry%20is%20of%20vital%20importance%20for%20meeting%20food%20requirements%20of%20the%20growing%20population%20and%20besides%20provision%20of%20%20meat%20and%20eggs%20at%20cheaper%20rate%20...&amp;rft.au=OUR%20STAFF%20REPORTER&amp;rft.date=2012-04-25&amp;rft.language=ENG&amp;rft.volume=XXVI%2c%20No%2065&amp;rft.issue=XXVI%2c%20No%2065&amp;rft_id=https://nouveau.europresse.com/Link/mnhnT_20211/news%c2%b720120425%c2%b7ANAI%c2%b7046\"></span>    <a href=\"/Document/View?viewEvent=1&docRefId=0&docName=news%C2%B720120425%C2%B7ANAI%C2%B7046&docIndex=35\"  target=\"iFrameViewDoc\" class=\"docList-links\" >Govt focusing on poultry industry: CM</a>   </div> <div class=\"docList-footer\">    <div class=\"doclist-details\"> <span class=\"details\"> 2012-04-25 <span class=\"source-type-name-separator source-type-name-separator-details\">&bull;</span> 489 mots </span>    </div> <div class=\"kwicResult clearfix\">  <span class=\"tile-details\"> <span class=\"details\"> 2012-04-25  <span class=\"source-type-name-separator source-type-name-separator-details\">&bull;</span> 489 mots<span>&nbsp;-&nbsp;</span>  </span> </span>       <span class=\"doclist-author\">OUR STAFF REPORTER</span> -   Chief Minister Shahbaz Sharif has said that poultry industry is of vital importance for meeting food requirements of the growing population and besides provision of <mark> meat</mark> and eggs at cheaper rate ...  </div>   <div class=\"Date\"></div>  </div> <div class=\"tile-shadow\"></div> </div>  <div class=\"tile-footer\"> <div class=\"left-container\">    <span class=\"source-name\">The Nation (Pakistan)</span>  </div> <div class=\"right-container\">        </div> </div>   </div> </div>       <div class=\"docListItem\" data-item-id=\"36\" id=\"doc36\" themeId=\"0\">   <div id=\"chbdoc-36-0\" class=\"checkbox-container selection-visible\" name=\"news&#183;20120425&#183;NY&#183;127191\" index=\"36\"></div>  <div class=\"docContent\"> <div class=\"docList-header\"> <span class=\"icon-logo-container\"><img src=\"/images/interface/result/ico_pressecrite_small.png\" vspace=\"10\" /></span>&nbsp;<span class=\"source-type pressecrite\">Journaux</span> <input id=\"doc-name\" type=\"hidden\" value=\"news&#183;20120425&#183;NY&#183;127191\" />     <span class=\"source-name\">The New York Times - Late Edition - Final</span>   </div> <div class=\"content-wrapper\"> <div class=\"docLink docList-body\">  <span class=\"Z3988\" style=\"display:none\" title=\"ctx_ver=Z39.88-2004&amp;rft_val_fmt=info%3Aofi%2Ffmt%3Akev%3Amtx%3Ajournal&amp;rft.genre=article&amp;rft.atitle=Case%20of%20Mad%20Cow%20Disease%20Is%20Found%20in%20U.S.&amp;rft.jtitle=The%20New%20York%20Times&amp;rft.title=The%20New%20York%20Times&amp;rft.description=Dr.%20Clifford%20noted%20that%20milk%20did%20not%20transmit%20bovine%20spongiform%20encephalopathy%2c%20the%20scientific%20name%20for%20mad%20cow%20disease.%20He%20expressed%20confidence%20in%20the%20health%20of%20the%20nation%27s%20cattle%20and%20the%20...&amp;rft.au=By%20STEPHANIE%20STROM&amp;rft.date=2012-04-25&amp;rft.language=ENG&amp;rft.spage=B%208&amp;rft.epage=B%208&amp;rft_id=https://nouveau.europresse.com/Link/mnhnT_20211/news%c2%b720120425%c2%b7NY%c2%b7127191\"></span>    <a href=\"/Document/View?viewEvent=1&docRefId=0&docName=news%C2%B720120425%C2%B7NY%C2%B7127191&docIndex=36\"  target=\"iFrameViewDoc\" class=\"docList-links\" >Case of Mad Cow Disease Is Found in U.S.</a>   </div> <div class=\"docList-footer\">    <div class=\"doclist-details\"> <span class=\"details\"> 2012-04-25 <span class=\"source-type-name-separator source-type-name-separator-details\">&bull;</span> 475 mots </span>    </div> <div class=\"kwicResult clearfix\">  <span class=\"tile-details\"> <span class=\"details\"> 2012-04-25  <span class=\"source-type-name-separator source-type-name-separator-details\">&bull;</span> 475 mots<span>&nbsp;-&nbsp;</span>  </span> </span>       <span class=\"doclist-author\">By STEPHANIE STROM</span> -   Dr. Clifford noted that milk did not transmit bovine spongiform encephalopathy, the scientific name for mad cow disease. He expressed confidence in the health of the nation\\'s cattle and the ...  </div>   <div class=\"Date\"></div>  </div> <div class=\"tile-shadow\"></div> </div>  <div class=\"tile-footer\"> <div class=\"left-container\">  <img class=\"source-logo\" src=\"/Docviewer.aspx?DocName=ny_small.gif\" title=\"The New York Times\" />   </div> <div class=\"right-container\">        </div> </div>   </div> </div>       <div class=\"docListItem\" data-item-id=\"37\" id=\"doc37\" themeId=\"0\">   <div id=\"chbdoc-37-0\" class=\"checkbox-container selection-visible\" name=\"news&#183;20120425&#183;GDH&#183;292498772\" index=\"37\"></div>  <div class=\"docContent\"> <div class=\"docList-header\"> <span class=\"icon-logo-container\"><img src=\"/images/interface/result/ico_pressecrite_small.png\" vspace=\"10\" /></span>&nbsp;<span class=\"source-type pressecrite\">Journaux</span> <input id=\"doc-name\" type=\"hidden\" value=\"news&#183;20120425&#183;GDH&#183;292498772\" />     <span class=\"source-name\">Manila Bulletin</span>   </div> <div class=\"content-wrapper\"> <div class=\"docLink docList-body\">  <span class=\"Z3988\" style=\"display:none\" title=\"ctx_ver=Z39.88-2004&amp;rft_val_fmt=info%3Aofi%2Ffmt%3Akev%3Amtx%3Ajournal&amp;rft.genre=article&amp;rft.atitle=Tour%20To%20Visit%20Organic%20Farm.&amp;rft.jtitle=Manila%20Bulletin&amp;rft.title=Manila%20Bulletin&amp;rft.description=Those%20who%20will%20be%20joining%20the%20visit%20to%20Alfonso%20will%20be%20able%20to%20observe%20how%20Pascua%20is%20growing%20vegetables%2c%20farm%20animals%20and%20fish%20the%20organic%20way.%20He%20has%20planted%20a%20big%20...&amp;rft.date=2012-04-25&amp;rft.language=ENG&amp;rft.spage=NA&amp;rft.epage=NA&amp;rft_id=https://nouveau.europresse.com/Link/mnhnT_20211/news%c2%b720120425%c2%b7GDH%c2%b7292498772\"></span>    <a href=\"/Document/View?viewEvent=1&docRefId=0&docName=news%C2%B720120425%C2%B7GDH%C2%B7292498772&docIndex=37\"  target=\"iFrameViewDoc\" class=\"docList-links\" >Tour To Visit Organic Farm.</a>   </div> <div class=\"docList-footer\">    <div class=\"doclist-details\"> <span class=\"details\"> 2012-04-25 <span class=\"source-type-name-separator source-type-name-separator-details\">&bull;</span> 545 mots </span>    </div> <div class=\"kwicResult clearfix\">  <span class=\"tile-details\"> <span class=\"details\"> 2012-04-25  <span class=\"source-type-name-separator source-type-name-separator-details\">&bull;</span> 545 mots<span>&nbsp;-&nbsp;</span>  </span> </span>       Those who will be joining the visit to Alfonso will be able to observe how Pascua is growing vegetables, farm animals and fish the organic way. He has planted a big ...  </div>   <div class=\"Date\"></div>  </div> <div class=\"tile-shadow\"></div> </div>  <div class=\"tile-footer\"> <div class=\"left-container\">    <span class=\"source-name\">Manila Bulletin</span>  </div> <div class=\"right-container\">        </div> </div>   </div> </div>       <div class=\"docListItem\" data-item-id=\"38\" id=\"doc38\" themeId=\"0\">   <div id=\"chbdoc-38-0\" class=\"checkbox-container selection-visible\" name=\"news&#183;20120425&#183;AFRP&#183;006\" index=\"38\"></div>  <div class=\"docContent\"> <div class=\"docList-header\"> <span class=\"icon-logo-container\"><img src=\"/images/interface/result/ico_pressecrite_small.png\" vspace=\"10\" /></span>&nbsp;<span class=\"source-type pressecrite\">Journaux</span> <input id=\"doc-name\" type=\"hidden\" value=\"news&#183;20120425&#183;AFRP&#183;006\" />     <span class=\"source-name\">The Frontier Post (Pakistan)</span>   </div> <div class=\"content-wrapper\"> <div class=\"docLink docList-body\">  <span class=\"Z3988\" style=\"display:none\" title=\"ctx_ver=Z39.88-2004&amp;rft_val_fmt=info%3Aofi%2Ffmt%3Akev%3Amtx%3Ajournal&amp;rft.genre=article&amp;rft.atitle=CM%20asks%20poultrymen%20to%20generate%20power%20from%20biomass&amp;rft.jtitle=The%20Frontier%20Post%20(Pakistan)&amp;rft.title=The%20Frontier%20Post%20(Pakistan)&amp;rft.description=Punjab%20Chief%20Minister%20Muhammad%20Shahbaz%20Sharif%20has%20said%20that%20poultry%20industry%20is%20of%20vital%20importance%20for%20meeting%20food%20requirements%20of%20the%20growing%20population%20and%20besides%20provision%20of%20%20meat%20and%20eggs%20at%20...&amp;rft.au=F.P.%20Report&amp;rft.date=2012-04-25&amp;rft.language=ENG&amp;rft.volume=XXVII%2c%20No%20294&amp;rft.issue=XXVII%2c%20No%20294&amp;rft_id=https://nouveau.europresse.com/Link/mnhnT_20211/news%c2%b720120425%c2%b7AFRP%c2%b7006\"></span>    <a href=\"/Document/View?viewEvent=1&docRefId=0&docName=news%C2%B720120425%C2%B7AFRP%C2%B7006&docIndex=38\"  target=\"iFrameViewDoc\" class=\"docList-links\" >CM asks poultrymen to generate power from biomass</a>   </div> <div class=\"docList-footer\">    <div class=\"doclist-details\"> <span class=\"details\"> 2012-04-25 <span class=\"source-type-name-separator source-type-name-separator-details\">&bull;</span> 259 mots </span>    </div> <div class=\"kwicResult clearfix\">  <span class=\"tile-details\"> <span class=\"details\"> 2012-04-25  <span class=\"source-type-name-separator source-type-name-separator-details\">&bull;</span> 259 mots<span>&nbsp;-&nbsp;</span>  </span> </span>       <span class=\"doclist-author\">F.P. Report</span> -   Punjab Chief Minister Muhammad Shahbaz Sharif has said that poultry industry is of vital importance for meeting food requirements of the growing population and besides provision of <mark> meat</mark> and eggs at ...  </div>   <div class=\"Date\"></div>  </div> <div class=\"tile-shadow\"></div> </div>  <div class=\"tile-footer\"> <div class=\"left-container\">    <span class=\"source-name\">The Frontier Post (Pakistan)</span>  </div> <div class=\"right-container\">        </div> </div>   </div> </div>       <div class=\"docListItem\" data-item-id=\"39\" id=\"doc39\" themeId=\"0\">   <div id=\"chbdoc-39-0\" class=\"checkbox-container selection-visible\" name=\"news&#183;20120425&#183;NY&#183;084468\" index=\"39\"></div>  <div class=\"docContent\"> <div class=\"docList-header\"> <span class=\"icon-logo-container\"><img src=\"/images/interface/result/ico_pressecrite_small.png\" vspace=\"10\" /></span>&nbsp;<span class=\"source-type pressecrite\">Journaux</span> <input id=\"doc-name\" type=\"hidden\" value=\"news&#183;20120425&#183;NY&#183;084468\" />     <span class=\"source-name\">The New York Times - Late Edition - Final</span>   </div> <div class=\"content-wrapper\"> <div class=\"docLink docList-body\">  <span class=\"Z3988\" style=\"display:none\" title=\"ctx_ver=Z39.88-2004&amp;rft_val_fmt=info%3Aofi%2Ffmt%3Akev%3Amtx%3Ajournal&amp;rft.genre=article&amp;rft.atitle=Case%20of%20Mad%20Cow%20Disease%20Is%20Found%20in%20U.S.&amp;rft.jtitle=The%20New%20York%20Times&amp;rft.title=The%20New%20York%20Times&amp;rft.description=Dr.%20Clifford%20noted%20that%20milk%20did%20not%20transmit%20bovine%20spongiform%20encephalopathy%2c%20the%20scientific%20name%20for%20mad%20cow%20disease.%20He%20expressed%20confidence%20in%20the%20health%20of%20the%20nation%27s%20cattle%20and%20the%20...&amp;rft.au=By%20STEPHANIE%20STROM&amp;rft.date=2012-04-25&amp;rft.language=ENG&amp;rft.spage=B%208&amp;rft.epage=B%208&amp;rft_id=https://nouveau.europresse.com/Link/mnhnT_20211/news%c2%b720120425%c2%b7NY%c2%b7084468\"></span>    <a href=\"/Document/View?viewEvent=1&docRefId=0&docName=news%C2%B720120425%C2%B7NY%C2%B7084468&docIndex=39\"  target=\"iFrameViewDoc\" class=\"docList-links\" >Case of Mad Cow Disease Is Found in U.S.</a>   </div> <div class=\"docList-footer\">    <div class=\"doclist-details\"> <span class=\"details\"> 2012-04-25 <span class=\"source-type-name-separator source-type-name-separator-details\">&bull;</span> 416 mots </span>    </div> <div class=\"kwicResult clearfix\">  <span class=\"tile-details\"> <span class=\"details\"> 2012-04-25  <span class=\"source-type-name-separator source-type-name-separator-details\">&bull;</span> 416 mots<span>&nbsp;-&nbsp;</span>  </span> </span>       <span class=\"doclist-author\">By STEPHANIE STROM</span> -   Dr. Clifford noted that milk did not transmit bovine spongiform encephalopathy, the scientific name for mad cow disease. He expressed confidence in the health of the nation\\'s cattle and the ...  </div>   <div class=\"Date\"></div>  </div> <div class=\"tile-shadow\"></div> </div>  <div class=\"tile-footer\"> <div class=\"left-container\">  <img class=\"source-logo\" src=\"/Docviewer.aspx?DocName=ny_small.gif\" title=\"The New York Times\" />   </div> <div class=\"right-container\">        </div> </div>   </div> </div>       <div class=\"docListItem\" data-item-id=\"40\" id=\"doc40\" themeId=\"0\">   <div id=\"chbdoc-40-0\" class=\"checkbox-container selection-visible\" name=\"news&#183;20120425&#183;ET&#183;0084\" index=\"40\"></div>  <div class=\"docContent\"> <div class=\"docList-header\"> <span class=\"icon-logo-container\"><img src=\"/images/interface/result/ico_pressecrite_small.png\" vspace=\"10\" /></span>&nbsp;<span class=\"source-type pressecrite\">Journaux</span> <input id=\"doc-name\" type=\"hidden\" value=\"news&#183;20120425&#183;ET&#183;0084\" />     <span class=\"source-name\">The Telegram (St. John&#39;s)</span>   </div> <div class=\"content-wrapper\"> <div class=\"docLink docList-body\">  <span class=\"Z3988\" style=\"display:none\" title=\"ctx_ver=Z39.88-2004&amp;rft_val_fmt=info%3Aofi%2Ffmt%3Akev%3Amtx%3Ajournal&amp;rft.genre=article&amp;rft.atitle=New%20case%20of%20mad%20cow%20disease%20discovered%20in%20California&amp;rft.jtitle=The%20Telegram%20(St.%20John%27s)&amp;rft.title=The%20Telegram%20(St.%20John%27s)&amp;rft.description=No%20%20meat%20from%20the%20cow%20was%20bound%20for%20the%20food%20supply%2c%20said%20John%20Clifford%2c%20the%20department%27s%20chief%20veterinary%20officer.%20%22There%20is%20really%20no%20cause%20for%20alarm%20here%20with%20regard%20to%20...&amp;rft.au=Lauran%20Neergaard%7cSam%20Hananel&amp;rft.date=2012-04-25&amp;rft.language=ENG&amp;rft.spage=C11&amp;rft.epage=C11&amp;rft_id=https://nouveau.europresse.com/Link/mnhnT_20211/news%c2%b720120425%c2%b7ET%c2%b70084\"></span>    <a href=\"/Document/View?viewEvent=1&docRefId=0&docName=news%C2%B720120425%C2%B7ET%C2%B70084&docIndex=40\"  target=\"iFrameViewDoc\" class=\"docList-links\" >New case of mad cow disease discovered in California</a>   </div> <div class=\"docList-footer\">    <div class=\"doclist-details\"> <span class=\"details\"> 2012-04-25 <span class=\"source-type-name-separator source-type-name-separator-details\">&bull;</span> 333 mots </span> <span id=\"pdf-icon\"><img class=\"pdfLnk media-img-result\" title=\"PDF\" src=\"/images/interface/result/icon-pdf.svg\" name=\"pdf\\xc2\\xb720120425\\xc2\\xb7ET_P\\xc2\\xb7c11\" alt=\"news\\xc2\\xb720120425\\xc2\\xb7ET\\xc2\\xb70084\"></span>    </div> <div class=\"kwicResult clearfix\">  <span class=\"tile-details\"> <span class=\"details\"> 2012-04-25  <span class=\"source-type-name-separator source-type-name-separator-details\">&bull;</span> 333 mots<span>&nbsp;-&nbsp;</span>  </span> </span>       <span class=\"doclist-author\">Lauran Neergaard|Sam Hananel</span> -   No <mark> meat</mark> from the cow was bound for the food supply, said John Clifford, the department\\'s chief veterinary officer. \"There is really no cause for alarm here with regard to ...  </div>   <div class=\"Date\"></div>  </div> <div class=\"tile-shadow\"></div> </div>  <div class=\"tile-footer\"> <div class=\"left-container\">  <img class=\"source-logo\" src=\"/Docviewer.aspx?DocName=et_small.gif\" title=\"The Telegram (St. John&#39;s)\" />   </div> <div class=\"right-container\">    <span id=\"pdf-icon\"><img class=\"pdfLnk media-img-result\" title=\"PDF\" src=\"/images/interface/result/icon-pdf.svg\" name=\"pdf\\xc2\\xb720120425\\xc2\\xb7ET_P\\xc2\\xb7c11\" alt=\"news\\xc2\\xb720120425\\xc2\\xb7ET\\xc2\\xb70084\"></span>     </div> </div>   </div> </div>       <div class=\"docListItem\" data-item-id=\"41\" id=\"doc41\" themeId=\"0\">   <div id=\"chbdoc-41-0\" class=\"checkbox-container selection-visible\" name=\"report&#183;20120425&#183;RPP&#183;13010881\" index=\"41\"></div>  <div class=\"docContent\"> <div class=\"docList-header\"> <span class=\"icon-logo-container\"><img src=\"/images/interface/result/ico_report_small.png\" vspace=\"10\" /></span>&nbsp;<span class=\"source-type report\">\\xc3\\x89tudes et rapports</span> <input id=\"doc-name\" type=\"hidden\" value=\"report&#183;20120425&#183;RPP&#183;13010881\" />     <span class=\"source-name\">Reports (Public) - 192.156.137.192</span>   </div> <div class=\"content-wrapper\"> <div class=\"docLink docList-body\">  <span class=\"Z3988\" style=\"display:none\" title=\"ctx_ver=Z39.88-2004&amp;rft_val_fmt=info%3Aofi%2Ffmt%3Akev%3Amtx%3Abook&amp;rft.genre=unknown&amp;rft.btitle=The%20Ethiopian%20Livestock%20Market%20%3a%20Innovation%20and%20Technology%20Trends%20-%202012-04&amp;rft.title=The%20Ethiopian%20Livestock%20Market%20%3a%20Innovation%20and%20Technology%20Trends%20-%202012-04&amp;rft.pub=Reports%20(Public)%20-%20192.156.137.192&amp;rft.description=Africa%20RISING%20Early%20Wins%20Project%20Proposal%20International%20%20Livestock%20Research%20Institute%2c%2016%20April%202012%20Title%20Fodder%20and%20feed%20as%20a%20key%20opportunity%20for%20driving%20sustainable%20intensification%20of%20crop%20%20livestock%20systems%20in%20Ethiopia%20...&amp;rft.date=2012-04-25&amp;rft.language=ENG&amp;rft_id=https://nouveau.europresse.com/Link/mnhnT_20211/report%c2%b720120425%c2%b7RPP%c2%b713010881\"></span>    <a href=\"/Document/View?viewEvent=1&docRefId=0&docName=report%C2%B720120425%C2%B7RPP%C2%B713010881&docIndex=41\"  target=\"iFrameViewDoc\" class=\"docList-links\" >The Ethiopian Livestock Market : Innovation and Technology Trends - 2012-04</a>   </div> <div class=\"docList-footer\">    <div class=\"doclist-details\"><span>2012-04-25 <span class=\"source-type-name-separator source-type-name-separator-details\">&bull;</span>  3 pages</span>  </div> <div class=\"kwicResult clearfix\">       Africa RISING Early Wins Project Proposal International <mark> Livestock</mark> Research Institute, 16 April 2012 Title Fodder and feed as a key opportunity for driving sustainable intensification of crop <mark> livestock</mark> systems in Ethiopia ...  </div>   <div class=\"Date\"></div>  </div> <div class=\"tile-shadow\"></div> </div>  <div class=\"tile-footer\"> <div class=\"left-container\">  <span class=\"source-name\">Reports (Public) - 192.156.137.192</span>   </div> <div class=\"right-container\">      </div> </div>   </div> </div>       <div class=\"docListItem\" data-item-id=\"42\" id=\"doc42\" themeId=\"0\">   <div id=\"chbdoc-42-0\" class=\"checkbox-container selection-visible\" name=\"report&#183;20120425&#183;RPP&#183;13010977\" index=\"42\"></div>  <div class=\"docContent\"> <div class=\"docList-header\"> <span class=\"icon-logo-container\"><img src=\"/images/interface/result/ico_report_small.png\" vspace=\"10\" /></span>&nbsp;<span class=\"source-type report\">\\xc3\\x89tudes et rapports</span> <input id=\"doc-name\" type=\"hidden\" value=\"report&#183;20120425&#183;RPP&#183;13010977\" />     <span class=\"source-name\">Reports (Public) - www.nistads.res.in</span>   </div> <div class=\"content-wrapper\"> <div class=\"docLink docList-body\">  <span class=\"Z3988\" style=\"display:none\" title=\"ctx_ver=Z39.88-2004&amp;rft_val_fmt=info%3Aofi%2Ffmt%3Akev%3Amtx%3Abook&amp;rft.genre=unknown&amp;rft.btitle=Livestock%20in%20India%20%3a%20Innovation%20and%20Technology%20Trends%20-%202009-10&amp;rft.title=Livestock%20in%20India%20%3a%20Innovation%20and%20Technology%20Trends%20-%202009-10&amp;rft.pub=Reports%20(Public)%20-%20www.nistads.res.in&amp;rft.description=T5%20%3f%2084%20%20Livestock%20research%20and%20development%20Ramesh%20Kumar%20%20Livestock%20is%20emerging%20as%20a%20driving%20force%20in%20the%20growth%20of%20agricultural%20sector%20of%20India.%20Contribution%20of%20%20livestock%20to%20agricultural%20gross%20domestic%20product%20...&amp;rft.date=2012-04-25&amp;rft.language=ENG&amp;rft_id=https://nouveau.europresse.com/Link/mnhnT_20211/report%c2%b720120425%c2%b7RPP%c2%b713010977\"></span>    <a href=\"/Document/View?viewEvent=1&docRefId=0&docName=report%C2%B720120425%C2%B7RPP%C2%B713010977&docIndex=42\"  target=\"iFrameViewDoc\" class=\"docList-links\" >Livestock in India : Innovation and Technology Trends - 2009-10</a>   </div> <div class=\"docList-footer\">    <div class=\"doclist-details\"><span>2012-04-25 <span class=\"source-type-name-separator source-type-name-separator-details\">&bull;</span>  5 pages</span>  </div> <div class=\"kwicResult clearfix\">       T5 ? 84 <mark> Livestock</mark> research and development Ramesh Kumar <mark> Livestock</mark> is emerging as a driving force in the growth of agricultural sector of India. Contribution of <mark> livestock</mark> to agricultural gross domestic product ...  </div>   <div class=\"Date\"></div>  </div> <div class=\"tile-shadow\"></div> </div>  <div class=\"tile-footer\"> <div class=\"left-container\">  <span class=\"source-name\">Reports (Public) - www.nistads.res.in</span>   </div> <div class=\"right-container\">      </div> </div>   </div> </div>       <div class=\"docListItem\" data-item-id=\"43\" id=\"doc43\" themeId=\"0\">   <div id=\"chbdoc-43-0\" class=\"checkbox-container selection-visible adp-visible\" name=\"news&#183;20120425&#183;CD&#183;0785213001\" index=\"43\"></div>  <div class=\"docContent\"> <div class=\"docList-header\"> <span class=\"icon-logo-container\"><img src=\"/images/interface/result/ico_pressecrite_small.png\" vspace=\"10\" /></span>&nbsp;<span class=\"source-type pressecrite\">Communiqu\\xc3\\xa9s de presse</span> <input id=\"doc-name\" type=\"hidden\" value=\"news&#183;20120425&#183;CD&#183;0785213001\" />     <span class=\"source-name\">Marketwire (english)</span>   </div> <div class=\"content-wrapper\"> <div class=\"docLink docList-body\">  <span class=\"Z3988\" style=\"display:none\" title=\"ctx_ver=Z39.88-2004&amp;rft_val_fmt=info%3Aofi%2Ffmt%3Akev%3Amtx%3Ajournal&amp;rft.genre=article&amp;rft.atitle=Ridley%20Inc.%20Reports%20Financial%20Results%20for%20Fiscal%202012%20Third%20Quarter&amp;rft.jtitle=Marketwire%20(english)&amp;rft.title=Marketwire%20(english)&amp;rft.description=%20Ridley%20Inc.%20(TSX%3aRCL)%20today%20reported%20its%20financial%20results%20for%20the%20three%20and%20nine%20months%20ended%20March%2031%2c%202012.%20All%20currency%20amounts%20are%20stated%20in%20U.S.%20dollars%20unless%20otherwise%20noted%20...&amp;rft.date=2012-04-25&amp;rft.language=ENG&amp;rft_id=https://nouveau.europresse.com/Link/mnhnT_20211/news%c2%b720120425%c2%b7CD%c2%b70785213001\"></span>    <a href=\"/Document/View?viewEvent=1&docRefId=0&docName=news%C2%B720120425%C2%B7CD%C2%B70785213001&docIndex=43\"  target=\"iFrameViewDoc\" class=\"docList-links\" >Ridley Inc. Reports Financial Results for Fiscal 2012 Third Quarter</a>   </div> <div class=\"docList-footer\">    <div class=\"doclist-details\"> <span class=\"details\"> 2012-04-25 <span class=\"source-type-name-separator source-type-name-separator-details\">&bull;</span> 4326 mots </span>    </div> <div class=\"kwicResult clearfix\">  <span class=\"tile-details\"> <span class=\"details\"> 2012-04-25  <span class=\"source-type-name-separator source-type-name-separator-details\">&bull;</span> 4326 mots<span>&nbsp;-&nbsp;</span>  </span> </span>        Ridley Inc. (TSX:RCL) today reported its financial results for the three and nine months ended March 31, 2012. All currency amounts are stated in U.S. dollars unless otherwise noted ...  </div>  <a id=\"toggle-apd-carousel-43\" class=\"apd-carousel-toggle\"> Aussi paru dans <i class=\"fal fa-angle-down\" aria-hidden=\"true\"></i> </a> <div id=\"apd-carousel-43\" class=\"Apd \">    <ul class=\"apd-list\">  <li class=\"apd-list-item test\">  <a title=\"Reports (Premium)\" data-docname=\"report&#183;20161001&#183;RPL&#183;2653372\" target=\"iFrameViewDoc\" href=\"/Document/View?viewEvent=11&docRefId=0&docName=report%C2%B720161001%C2%B7RPL%C2%B72653372&docIndex=0\" class=\"apd-list-link no-click\"> <h1 class=\"apd-name\">Reports (Premium)</h1> <h2 class=\"apd-date\">01/10/2016</h2> </a>  </li>  <li class=\"apd-list-item test\">  <a title=\"M2 Communications\" data-docname=\"news&#183;20150706&#183;GMAB&#183;420638472\" target=\"iFrameViewDoc\" href=\"/Document/View?viewEvent=11&docRefId=0&docName=news%C2%B720150706%C2%B7GMAB%C2%B7420638472&docIndex=0\" class=\"apd-list-link no-click\"> <h1 class=\"apd-name\">M2 Communications</h1> <h2 class=\"apd-date\">06/07/2015</h2> </a>  </li>  <li class=\"apd-list-item test\">  <a title=\"Web sites - Economy / &#201;conomie\" data-docname=\"web&#183;20140909&#183;LAEC&#183;169719859_18892802934\" target=\"iFrameViewDoc\" href=\"/Document/View?viewEvent=11&docRefId=0&docName=web%C2%B720140909%C2%B7LAEC%C2%B7169719859_18892802934&docIndex=0\" class=\"apd-list-link no-click\"> <h1 class=\"apd-name\">Web sites - Economy / &#201;conomie</h1> <h2 class=\"apd-date\">09/09/2014</h2> </a>  </li>  </ul>  </div>   <div class=\"Date\"></div>  </div> <div class=\"tile-shadow\"></div> </div>  <div class=\"tile-footer\"> <div class=\"left-container\">  <img class=\"source-logo\" src=\"/Docviewer.aspx?DocName=cd3_small.gif\" title=\"Marketwire (english)\" />   <i class=\"fal fa-clone\"></i>  </div> <div class=\"right-container\">        </div> </div>   </div> </div>       <div class=\"docListItem\" data-item-id=\"44\" id=\"doc44\" themeId=\"0\">   <div id=\"chbdoc-44-0\" class=\"checkbox-container selection-visible\" name=\"report&#183;20120425&#183;RPP&#183;13011121\" index=\"44\"></div>  <div class=\"docContent\"> <div class=\"docList-header\"> <span class=\"icon-logo-container\"><img src=\"/images/interface/result/ico_report_small.png\" vspace=\"10\" /></span>&nbsp;<span class=\"source-type report\">\\xc3\\x89tudes et rapports</span> <input id=\"doc-name\" type=\"hidden\" value=\"report&#183;20120425&#183;RPP&#183;13011121\" />     <span class=\"source-name\">Reports (Public) - www.snvworld.org</span>   </div> <div class=\"content-wrapper\"> <div class=\"docLink docList-body\">  <span class=\"Z3988\" style=\"display:none\" title=\"ctx_ver=Z39.88-2004&amp;rft_val_fmt=info%3Aofi%2Ffmt%3Akev%3Amtx%3Abook&amp;rft.genre=unknown&amp;rft.btitle=Company%20Report%3a%20Livestock%20in%20Kenya%20for%20Year%202012%20-%202012-04&amp;rft.title=Company%20Report%3a%20Livestock%20in%20Kenya%20for%20Year%202012%20-%202012-04&amp;rft.pub=Reports%20(Public)%20-%20www.snvworld.org&amp;rft.description=1%20Pastoralist%20%20livestock%20markets%20in%20Kenya%3a%20Establishing%20thriving%20and%20reliable%20%20livestock%20markets%20through%20an%20innovative%20public-private%20arrangement%20Author%3a%20Obiero%20Thomas%20Were%20Organisation%3a%20SNV%20%3f%20Netherlands%20Development%20Organisation%20This%20case%20is%20one%20...&amp;rft.date=2012-04-25&amp;rft.language=ENG&amp;rft_id=https://nouveau.europresse.com/Link/mnhnT_20211/report%c2%b720120425%c2%b7RPP%c2%b713011121\"></span>    <a href=\"/Document/View?viewEvent=1&docRefId=0&docName=report%C2%B720120425%C2%B7RPP%C2%B713011121&docIndex=44\"  target=\"iFrameViewDoc\" class=\"docList-links\" >Company Report: Livestock in Kenya for Year 2012 - 2012-04</a>   </div> <div class=\"docList-footer\">    <div class=\"doclist-details\"><span>2012-04-25 <span class=\"source-type-name-separator source-type-name-separator-details\">&bull;</span>  6 pages</span>  </div> <div class=\"kwicResult clearfix\">       1 Pastoralist <mark> livestock</mark> markets in Kenya: Establishing thriving and reliable <mark> livestock</mark> markets through an innovative public-private arrangement Author: Obiero Thomas Were Organisation: SNV ? Netherlands Development Organisation This case is one ...  </div>   <div class=\"Date\"></div>  </div> <div class=\"tile-shadow\"></div> </div>  <div class=\"tile-footer\"> <div class=\"left-container\">  <span class=\"source-name\">Reports (Public) - www.snvworld.org</span>   </div> <div class=\"right-container\">      </div> </div>   </div> </div>       <div class=\"docListItem\" data-item-id=\"45\" id=\"doc45\" themeId=\"0\">   <div id=\"chbdoc-45-0\" class=\"checkbox-container selection-visible\" name=\"news&#183;20120425&#183;SM&#183;20120425_500824\" index=\"45\"></div>  <div class=\"docContent\"> <div class=\"docList-header\"> <span class=\"icon-logo-container\"><img src=\"/images/interface/result/ico_pressecrite_small.png\" vspace=\"10\" /></span>&nbsp;<span class=\"source-type pressecrite\">Presse web</span> <input id=\"doc-name\" type=\"hidden\" value=\"news&#183;20120425&#183;SM&#183;20120425_500824\" />     <span class=\"source-name\">Christian Science Monitor</span>   </div> <div class=\"content-wrapper\"> <div class=\"docLink docList-body\">  <span class=\"Z3988\" style=\"display:none\" title=\"ctx_ver=Z39.88-2004&amp;rft_val_fmt=info%3Aofi%2Ffmt%3Akev%3Amtx%3Ajournal&amp;rft.genre=article&amp;rft.atitle=Mad%20cow%3a%20US%20%27confident%27%20beef%20is%20safe%2c%20food-safety%20experts%20aren%27t%20sure&amp;rft.jtitle=Christian%20Science%20Monitor&amp;rft.title=Christian%20Science%20Monitor&amp;rft.description=%22USDA%20remains%20confident%20in%20the%20health%20of%20the%20national%20herd%20and%20the%20safety%20of%20beef%20and%20dairy%20products%2c%22%20John%20Clifford%2c%20the%20US%20Department%20of%20Agriculture%27s%20chief%20veterinary%20officer%2c%20said%20in%20...&amp;rft.au=Brad%20Knickerbocker%7cStaff%20writer&amp;rft.date=2012-04-25&amp;rft.language=ENG&amp;rft_id=https://nouveau.europresse.com/Link/mnhnT_20211/news%c2%b720120425%c2%b7SM%c2%b720120425_500824\"></span>    <a href=\"/Document/View?viewEvent=1&docRefId=0&docName=news%C2%B720120425%C2%B7SM%C2%B720120425_500824&docIndex=45\"  target=\"iFrameViewDoc\" class=\"docList-links\" >Mad cow: US \\'confident\\' beef is safe, food-safety experts aren\\'t sure</a>   </div> <div class=\"docList-footer\">    <div class=\"doclist-details\"> <span class=\"details\"> 2012-04-25 <span class=\"source-type-name-separator source-type-name-separator-details\">&bull;</span> 683 mots </span>    </div> <div class=\"kwicResult clearfix\">  <span class=\"tile-details\"> <span class=\"details\"> 2012-04-25  <span class=\"source-type-name-separator source-type-name-separator-details\">&bull;</span> 683 mots<span>&nbsp;-&nbsp;</span>  </span> </span>       <span class=\"doclist-author\">Brad Knickerbocker|Staff writer</span> -   \"USDA remains confident in the health of the national herd and the safety of beef and dairy products,\" John Clifford, the US Department of Agriculture\\'s chief veterinary officer, said in ...  </div>   <div class=\"Date\"></div>  </div> <div class=\"tile-shadow\"></div> </div>  <div class=\"tile-footer\"> <div class=\"left-container\">  <img class=\"source-logo\" src=\"/Docviewer.aspx?DocName=sm_small.gif\" title=\"Christian Science Monitor\" />   </div> <div class=\"right-container\">        </div> </div>   </div> </div>       <div class=\"docListItem\" data-item-id=\"46\" id=\"doc46\" themeId=\"0\">   <div id=\"chbdoc-46-0\" class=\"checkbox-container selection-visible\" name=\"report&#183;20120425&#183;RPP&#183;13007456\" index=\"46\"></div>  <div class=\"docContent\"> <div class=\"docList-header\"> <span class=\"icon-logo-container\"><img src=\"/images/interface/result/ico_report_small.png\" vspace=\"10\" /></span>&nbsp;<span class=\"source-type report\">\\xc3\\x89tudes et rapports</span> <input id=\"doc-name\" type=\"hidden\" value=\"report&#183;20120425&#183;RPP&#183;13007456\" />     <span class=\"source-name\">Reports (Public) - www.aridland.go.ke</span>   </div> <div class=\"content-wrapper\"> <div class=\"docLink docList-body\">  <span class=\"Z3988\" style=\"display:none\" title=\"ctx_ver=Z39.88-2004&amp;rft_val_fmt=info%3Aofi%2Ffmt%3Akev%3Amtx%3Abook&amp;rft.genre=unknown&amp;rft.btitle=Livestock%20Market%20in%20Kenya%20-%202011-04&amp;rft.title=Livestock%20Market%20in%20Kenya%20-%202011-04&amp;rft.pub=Reports%20(Public)%20-%20www.aridland.go.ke&amp;rft.description=REPUBLIC%20OF%20KENYA%20OFFICE%20OF%20THE%20PRIME%20MINISTER%20MINISTRY%20OF%20STATE%20FOR%20THE%20DEVELOPMENT%20OF%20NORTHERN%20KENYA%20AND%20OTHER%20ARID%20LANDS%20ARID%20LANDS%20RESOURCE%20MANAGEMENT%20PROJECT%20II%20DROUGHT%20MONTHLY%20BULLETIN%20FOR%20...&amp;rft.date=2012-04-25&amp;rft.language=ENG&amp;rft_id=https://nouveau.europresse.com/Link/mnhnT_20211/report%c2%b720120425%c2%b7RPP%c2%b713007456\"></span>    <a href=\"/Document/View?viewEvent=1&docRefId=0&docName=report%C2%B720120425%C2%B7RPP%C2%B713007456&docIndex=46\"  target=\"iFrameViewDoc\" class=\"docList-links\" >Livestock Market in Kenya - 2011-04</a>   </div> <div class=\"docList-footer\">    <div class=\"doclist-details\"><span>2012-04-25 <span class=\"source-type-name-separator source-type-name-separator-details\">&bull;</span>  19 pages</span>  </div> <div class=\"kwicResult clearfix\">       REPUBLIC OF KENYA OFFICE OF THE PRIME MINISTER MINISTRY OF STATE FOR THE DEVELOPMENT OF NORTHERN KENYA AND OTHER ARID LANDS ARID LANDS RESOURCE MANAGEMENT PROJECT II DROUGHT MONTHLY BULLETIN FOR ...  </div>   <div class=\"Date\"></div>  </div> <div class=\"tile-shadow\"></div> </div>  <div class=\"tile-footer\"> <div class=\"left-container\">  <span class=\"source-name\">Reports (Public) - www.aridland.go.ke</span>   </div> <div class=\"right-container\">      </div> </div>   </div> </div>       <div class=\"docListItem\" data-item-id=\"47\" id=\"doc47\" themeId=\"0\">   <div id=\"chbdoc-47-0\" class=\"checkbox-container selection-visible\" name=\"report&#183;20120425&#183;RPP&#183;13011123\" index=\"47\"></div>  <div class=\"docContent\"> <div class=\"docList-header\"> <span class=\"icon-logo-container\"><img src=\"/images/interface/result/ico_report_small.png\" vspace=\"10\" /></span>&nbsp;<span class=\"source-type report\">\\xc3\\x89tudes et rapports</span> <input id=\"doc-name\" type=\"hidden\" value=\"report&#183;20120425&#183;RPP&#183;13011123\" />     <span class=\"source-name\">Reports (Public) - www2.adb.org</span>   </div> <div class=\"content-wrapper\"> <div class=\"docLink docList-body\">  <span class=\"Z3988\" style=\"display:none\" title=\"ctx_ver=Z39.88-2004&amp;rft_val_fmt=info%3Aofi%2Ffmt%3Akev%3Amtx%3Abook&amp;rft.genre=unknown&amp;rft.btitle=Afghanistan%3a%20Brief%20Overview%2c%202008-2013%2c%20focus%20on%20Agriculture%20-%202008-10&amp;rft.title=Afghanistan%3a%20Brief%20Overview%2c%202008-2013%2c%20focus%20on%20Agriculture%20-%202008-10&amp;rft.pub=Reports%20(Public)%20-%20www2.adb.org&amp;rft.description=Draft%20Design%20and%20Monitoring%20Framework%20A%20design%20and%20monitoring%20framework%20is%20an%20active%20document%2c%20progressively%20updated%20and%20revised%20as%20necessary%2c%20particularly%20following%20any%20changes%20in%20project%20design%20and%20implementation.%20In%20accordance%20...&amp;rft.date=2012-04-25&amp;rft.language=ENG&amp;rft_id=https://nouveau.europresse.com/Link/mnhnT_20211/report%c2%b720120425%c2%b7RPP%c2%b713011123\"></span>    <a href=\"/Document/View?viewEvent=1&docRefId=0&docName=report%C2%B720120425%C2%B7RPP%C2%B713011123&docIndex=47\"  target=\"iFrameViewDoc\" class=\"docList-links\" >Afghanistan: Brief Overview, 2008-2013, focus on Agriculture - 2008-10</a>   </div> <div class=\"docList-footer\">    <div class=\"doclist-details\"><span>2012-04-25 <span class=\"source-type-name-separator source-type-name-separator-details\">&bull;</span>  5 pages</span>  </div> <div class=\"kwicResult clearfix\">       Draft Design and Monitoring Framework A design and monitoring framework is an active document, progressively updated and revised as necessary, particularly following any changes in project design and implementation. In accordance ...  </div>   <div class=\"Date\"></div>  </div> <div class=\"tile-shadow\"></div> </div>  <div class=\"tile-footer\"> <div class=\"left-container\">  <span class=\"source-name\">Reports (Public) - www2.adb.org</span>   </div> <div class=\"right-container\">      </div> </div>   </div> </div>       <div class=\"docListItem\" data-item-id=\"48\" id=\"doc48\" themeId=\"0\">   <div id=\"chbdoc-48-0\" class=\"checkbox-container selection-visible\" name=\"news&#183;20120425&#183;SNS&#183;1116387430\" index=\"48\"></div>  <div class=\"docContent\"> <div class=\"docList-header\"> <span class=\"icon-logo-container\"><img src=\"/images/interface/result/ico_pressecrite_small.png\" vspace=\"10\" /></span>&nbsp;<span class=\"source-type pressecrite\">Communiqu\\xc3\\xa9s de presse</span> <input id=\"doc-name\" type=\"hidden\" value=\"news&#183;20120425&#183;SNS&#183;1116387430\" />     <span class=\"source-name\">States News Services</span>   </div> <div class=\"content-wrapper\"> <div class=\"docLink docList-body\">  <span class=\"Z3988\" style=\"display:none\" title=\"ctx_ver=Z39.88-2004&amp;rft_val_fmt=info%3Aofi%2Ffmt%3Akev%3Amtx%3Ajournal&amp;rft.genre=article&amp;rft.atitle=EMERGENCIES%20ARE%20ALL%20IN%20A%20DAY%27S%20WORK%20FOR%20KONKLE&amp;rft.jtitle=States%20News%20Services&amp;rft.title=States%20News%20Services&amp;rft.description=%22I%20started%20my%20job%20during%20the%202007%20flooding%2c%20and%20on%20my%20first%20day%2c%20I%20went%20to%20the%20state%20EOC%2c%22%20Konkle%20recalls.%20That%27s%20the%20emergency%20operations%20center%2c%20where%20all%20the%20state%20...&amp;rft.date=2012-04-25&amp;rft.language=ENG&amp;rft_id=https://nouveau.europresse.com/Link/mnhnT_20211/news%c2%b720120425%c2%b7SNS%c2%b71116387430\"></span>    <a href=\"/Document/View?viewEvent=1&docRefId=0&docName=news%C2%B720120425%C2%B7SNS%C2%B71116387430&docIndex=48\"  target=\"iFrameViewDoc\" class=\"docList-links\" >EMERGENCIES ARE ALL IN A DAY\\'S WORK FOR KONKLE</a>   </div> <div class=\"docList-footer\">    <div class=\"doclist-details\"> <span class=\"details\"> 2012-04-25 <span class=\"source-type-name-separator source-type-name-separator-details\">&bull;</span> 845 mots </span>    </div> <div class=\"kwicResult clearfix\">  <span class=\"tile-details\"> <span class=\"details\"> 2012-04-25  <span class=\"source-type-name-separator source-type-name-separator-details\">&bull;</span> 845 mots<span>&nbsp;-&nbsp;</span>  </span> </span>       \"I started my job during the 2007 flooding, and on my first day, I went to the state EOC,\" Konkle recalls. That\\'s the emergency operations center, where all the state ...  </div>   <div class=\"Date\"></div>  </div> <div class=\"tile-shadow\"></div> </div>  <div class=\"tile-footer\"> <div class=\"left-container\">  <img class=\"source-logo\" src=\"/Docviewer.aspx?DocName=sns_small.gif\" title=\"States News Services\" />   </div> <div class=\"right-container\">        </div> </div>   </div> </div>       <div class=\"docListItem\" data-item-id=\"49\" id=\"doc49\" themeId=\"0\">   <div id=\"chbdoc-49-0\" class=\"checkbox-container selection-visible\" name=\"report&#183;20120425&#183;RPP&#183;13010900\" index=\"49\"></div>  <div class=\"docContent\"> <div class=\"docList-header\"> <span class=\"icon-logo-container\"><img src=\"/images/interface/result/ico_report_small.png\" vspace=\"10\" /></span>&nbsp;<span class=\"source-type report\">\\xc3\\x89tudes et rapports</span> <input id=\"doc-name\" type=\"hidden\" value=\"report&#183;20120425&#183;RPP&#183;13010900\" />     <span class=\"source-name\">Reports (Public) - www.seychelles-farmers.sc</span>   </div> <div class=\"content-wrapper\"> <div class=\"docLink docList-body\">  <span class=\"Z3988\" style=\"display:none\" title=\"ctx_ver=Z39.88-2004&amp;rft_val_fmt=info%3Aofi%2Ffmt%3Akev%3Amtx%3Abook&amp;rft.genre=unknown&amp;rft.btitle=Seychelles%3a%20Trade%20Brief%2c%20May%202008%20-%202008-05&amp;rft.title=Seychelles%3a%20Trade%20Brief%2c%20May%202008%20-%202008-05&amp;rft.pub=Reports%20(Public)%20-%20www.seychelles-farmers.sc&amp;rft.description=SeyFA%20will%20start%20implementing%20its%20Strategic%20Plan%202012-2017%20which%20was%20approved%20during%20the%20last%20AGM.%20This%20document%20presents%20the%20strategies%20and%20activities%2c%20based%20on%20the%20achievements%20and%20lesson%20learnt%20from%20...&amp;rft.date=2012-04-25&amp;rft.language=ENG&amp;rft_id=https://nouveau.europresse.com/Link/mnhnT_20211/report%c2%b720120425%c2%b7RPP%c2%b713010900\"></span>    <a href=\"/Document/View?viewEvent=1&docRefId=0&docName=report%C2%B720120425%C2%B7RPP%C2%B713010900&docIndex=49\"  target=\"iFrameViewDoc\" class=\"docList-links\" >Seychelles: Trade Brief, May 2008 - 2008-05</a>   </div> <div class=\"docList-footer\">    <div class=\"doclist-details\"><span>2012-04-25 <span class=\"source-type-name-separator source-type-name-separator-details\">&bull;</span>  4 pages</span>  </div> <div class=\"kwicResult clearfix\">       SeyFA will start implementing its Strategic Plan 2012-2017 which was approved during the last AGM. This document presents the strategies and activities, based on the achievements and lesson learnt from ...  </div>   <div class=\"Date\"></div>  </div> <div class=\"tile-shadow\"></div> </div>  <div class=\"tile-footer\"> <div class=\"left-container\">  <span class=\"source-name\">Reports (Public) - www.seychelles-farmers.sc</span>   </div> <div class=\"right-container\">      </div> </div>   </div> </div>'"
      ]
     },
     "execution_count": 101,
     "metadata": {},
     "output_type": "execute_result"
    }
   ],
   "source": [
    "import re\n",
    "reg = re.compile('checkbox-container selection-visible.*')\n",
    "all_el = soup.find_all(\"div\", {\"class\" : reg})\n",
    "len(all_el)\n",
    "all_names = [el.get('name') for el in all_el]"
   ]
  },
  {
   "cell_type": "code",
   "execution_count": 11,
   "id": "a7f19689",
   "metadata": {},
   "outputs": [],
   "source": [
    "soup = bs(res.content)                #make BeautifulSoup\n",
    "prettyHTML = soup.prettify()   #prettify the html"
   ]
  },
  {
   "cell_type": "code",
   "execution_count": 16,
   "id": "2c7fbc65",
   "metadata": {},
   "outputs": [],
   "source": [
    "with open(os.path.join('output', 'page1.html'), 'w', encoding='utf-8') as f:\n",
    "    f.write(prettyHTML)"
   ]
  },
  {
   "cell_type": "code",
   "execution_count": 37,
   "id": "1ed4c66d",
   "metadata": {},
   "outputs": [
    {
     "name": "stderr",
     "output_type": "stream",
     "text": [
      "c:\\users\\utilisateur\\miniconda3\\lib\\site-packages\\urllib3\\connectionpool.py:1013: InsecureRequestWarning: Unverified HTTPS request is being made to host 'nouveau-europresse-com.accesdistant.sorbonne-universite.fr'. Adding certificate verification is strongly advised. See: https://urllib3.readthedocs.io/en/1.26.x/advanced-usage.html#ssl-warnings\n",
      "  warnings.warn(\n"
     ]
    }
   ],
   "source": [
    "url_raw = \"https://nouveau-europresse-com.accesdistant.sorbonne-universite.fr/DocumentList/GetNextPage?listType=1&pageNo=0&docPerPage=50\"\n",
    "res = requests.get(url_raw, cookies=parse_cookies(cookie_string2), verify=False)"
   ]
  },
  {
   "cell_type": "code",
   "execution_count": 178,
   "id": "33382515",
   "metadata": {},
   "outputs": [
    {
     "name": "stdout",
     "output_type": "stream",
     "text": [
      "import requests\n",
      "from bs4 import BeautifulSoup as bs\n",
      "import os\n",
      "cookie_string = \"SUAGIMUS=TRACEAGIMUS-34029-JCNOH6BP3OTI22iN8MoisXhh3eS3TQPjZRsPunwf-auth3.ent.upmc.fr; ezproxy=kA4PX8M0bYO4Pdx\"\n",
      "def parse_cookies(c_string):\n",
      "    key_values = c_string.split(';')\n",
      "    return {key_value.split('=')[0]: key_value.split('=')[1] for key_value in key_values}\n",
      "url = \"https://nouveau-europresse-com.accesdistant.sorbonne-universite.fr/DocumentList/GetNextPage\"\n",
      "\n",
      "params = {\n",
      "    'listType': 1,\n",
      "    'pageNo': 0,\n",
      "    'docPerPage': 1000\n",
      "}\n",
      "res = requests.get('https://nouveau-europresse-com.accesdistant.sorbonne-universite.fr/DocumentList/GetNextPage', \n",
      "                   cookies=parse_cookies(cookie_string_meat), \n",
      "                   params=params, verify=False)\n",
      "url = \"https://nouveau-europresse-com.accesdistant.sorbonne-universite.fr/DocumentList/GetNextPage\"\n",
      "\n",
      "params = {\n",
      "    'listType': 1,\n",
      "    'pageNo': 0,\n",
      "    'docPerPage': 1000\n",
      "}\n",
      "res = requests.get('https://nouveau-europresse-com.accesdistant.sorbonne-universite.fr/DocumentList/GetNextPage', \n",
      "                   cookies=parse_cookies(cookie_string), \n",
      "                   params=params, verify=False)\n",
      "res.content\n",
      "url = \"https://nouveau-europresse-com.accesdistant.sorbonne-universite.fr/DocumentList/GetNextPage\"\n",
      "\n",
      "params = {\n",
      "    'listType': 1,\n",
      "    'pageNo': 0,\n",
      "    'docPerPage': 50\n",
      "}\n",
      "res = requests.get('https://nouveau-europresse-com.accesdistant.sorbonne-universite.fr/DocumentList/GetNextPage', \n",
      "                   cookies=parse_cookies(cookie_string), \n",
      "                   params=params, verify=False)\n",
      "res.content\n",
      "def parse_cookies(c_string, sep=\";\"):\n",
      "    key_values = c_string.split(sep)\n",
      "    return {key_value.split('=')[0]: key_value.split('=')[1] for key_value in key_values}\n",
      "cookie_string = \"SUAGIMUS=TRACEAGIMUS-4457-xz1WnZY1SMAdEbBaR1wDJN7pCssk5ny6bscO7znV-auth3.ent.upmc.fr; ezproxy=H9xvYcXMNFEdLJA\"\n",
      "url = \"https://nouveau-europresse-com.accesdistant.sorbonne-universite.fr/DocumentList/GetNextPage\"\n",
      "\n",
      "params = {\n",
      "    'listType': 1,\n",
      "    'pageNo': 0,\n",
      "    'docPerPage': 1000\n",
      "}\n",
      "res = requests.get('https://nouveau-europresse-com.accesdistant.sorbonne-universite.fr/DocumentList/GetNextPage', \n",
      "                   cookies=parse_cookies(cookie_string), \n",
      "                   params=params, verify=False)\n",
      "def parse_cookies(c_string, sep=\";\"):\n",
      "    key_values = c_string.split(sep)\n",
      "    return {key_value.split('=')[0]: key_value.split('=')[1] for key_value in key_values}\n",
      "def parse_body(body_str):\n",
      "    key_values = c_string.split(\"&\")\n",
      "    return {key_value.split('=')[0]: (None, key_value.split('=')[1]) for key_value in key_values}\n",
      "parse_body(body)\n",
      "body_str = \"__RequestVerificationToken=UpWES1q9QciLhoSwg0loUqHChwV62uuhVSSCuwG5PbVWzV0P8XMqQEozAw73uSHBUVh3I_EdZ81eUTIm0&Keywords=TEXT%3D+Meat+%26+Livestock&CriteriaKeys%5B0%5D.Operator=%26&CriteriaKeys%5B0%5D.Key=TIT_HEAD&CriteriaKeys%5B0%5D.Text=&CriteriaKeys%5B1%5D.Operator=%26&CriteriaKeys%5B1%5D.Key=LEAD&CriteriaKeys%5B1%5D.Text=&CriteriaKeys%5B2%5D.Operator=%26&CriteriaKeys%5B2%5D.Key=AUT_BY&CriteriaKeys%5B2%5D.Text=&sources=0&CriteriaSet=198493&sourcesFilter=&PostedFilters.FiltersIDs=8001&PostedFilters.FiltersIDs=8000&PostedFilters.FiltersIDs=403&PostedFilters.FiltersIDs=5355&PostedFilters.FiltersIDs=8002&DateFilter.DateRange=10&DateFilter.DateStart=2012-4-23&DateFilter.DateStop=2022-03-23&SourcesForm=0\"\n",
      "parse_body(body_str)\n",
      "def parse_body(body_str):\n",
      "    key_values = body_str.split(\"&\")\n",
      "    return {key_value.split('=')[0]: (None, key_value.split('=')[1]) for key_value in key_values}\n",
      "parse_body(body_str)\n",
      "url = \"https://nouveau-europresse-com.accesdistant.sorbonne-universite.fr/Search/AdvancedMobile\"\n",
      "res = requests.post(url, files=parse_body(body_str), verify=False)\n",
      "res.status_code\n",
      "body_str = \"__RequestVerificationToken=UpWES1q9QciLhoSwg0loUqHChwV62uuhVSSCuwG5PbVWzV0P8XMqQEozAw73uSHBUVh3I_EdZ81eUTIm0&Keywords=TEXT%3D+Meat+%26+Livestock&CriteriaKeys%5B0%5D.Operator=%26&CriteriaKeys%5B0%5D.Key=TIT_HEAD&CriteriaKeys%5B0%5D.Text=&CriteriaKeys%5B1%5D.Operator=%26&CriteriaKeys%5B1%5D.Key=LEAD&CriteriaKeys%5B1%5D.Text=&CriteriaKeys%5B2%5D.Operator=%26&CriteriaKeys%5B2%5D.Key=AUT_BY&CriteriaKeys%5B2%5D.Text=&sources=0&CriteriaSet=198493&sourcesFilter=&PostedFilters.FiltersIDs=8001&PostedFilters.FiltersIDs=8000&PostedFilters.FiltersIDs=403&PostedFilters.FiltersIDs=5355&PostedFilters.FiltersIDs=8002&DateFilter.DateRange=10&DateFilter.DateStart=2012-5-23&DateFilter.DateStop=2022-03-23&SourcesForm=0\"\n",
      "parse_body(body_str)\n",
      "url = \"https://nouveau-europresse-com.accesdistant.sorbonne-universite.fr/Search/AdvancedMobile\"\n",
      "res = requests.post(url, files=parse_body(body_str), verify=False)\n",
      "res.content\n",
      "url = \"https://nouveau-europresse-com.accesdistant.sorbonne-universite.fr/Search/AdvancedMobile\"\n",
      "res = requests.post(url, files=parse_body(body_str), cookies=parse_cookies(cookie_string), verify=False)\n",
      "res.content\n",
      "res.status_code\n",
      "res.content\n",
      "cookie_string = \"SUAGIMUS=TRACEAGIMUS-4457-xz1WnZY1SMAdEbBaR1wDJN7pCssk5ny6bscO7znV-auth3.ent.upmc.fr; ezproxy=H9xvYcXMNFEdLJA\"\n",
      "body_str = \"__RequestVerificationToken=NV03eJpcoUXRkIbyAO8i9mxr2dLWfyV8pyOGv8eUzMulLABrw6J4gYMb44Fy2zlcYEf8sQDKlhfcqD4G0&Keywords=Meat+AND+Livestock&CriteriaKeys%5B0%5D.Operator=%26&CriteriaKeys%5B0%5D.Key=TIT_HEAD&CriteriaKeys%5B0%5D.Text=&CriteriaKeys%5B1%5D.Operator=%26&CriteriaKeys%5B1%5D.Key=LEAD&CriteriaKeys%5B1%5D.Text=&CriteriaKeys%5B2%5D.Operator=%26&CriteriaKeys%5B2%5D.Key=AUT_BY&CriteriaKeys%5B2%5D.Text=&sources=0&CriteriaSet=198494&sourcesFilter=&PostedFilters.FiltersIDs=8001&PostedFilters.FiltersIDs=8000&PostedFilters.FiltersIDs=403&PostedFilters.FiltersIDs=5355&PostedFilters.FiltersIDs=8002&DateFilter.DateRange=10&DateFilter.DateStart=2012-3-23&DateFilter.DateStop=2022-03-23&SourcesForm=0\"\n",
      "import requests\n",
      "from bs4 import BeautifulSoup as bs\n",
      "import os\n",
      "requests.packages.urllib3.disable_warnings()\n",
      "def parse_body(body_str):\n",
      "    key_values = body_str.split(\"&\")\n",
      "    return {key_value.split('=')[0]: key_value.split('=')[1] for key_value in key_values}\n",
      "url = \"https://nouveau-europresse-com.accesdistant.sorbonne-universite.fr/Search/AdvancedMobile\"\n",
      "res = requests.post(url, data=parse_body(body_str), cookies=parse_cookies(cookie_string), verify=False)\n",
      "res.content\n",
      "res.status_code\n",
      "cookie_string = \"SUAGIMUS=TRACEAGIMUS-5941-QYX55-zqLZ3Asqbk1T1avSU0WNOEPC1faDVpgNIE-auth3.ent.upmc.fr; ezproxy=7iKtim6oW64Yf9L\"\n",
      "requests.get(\"https://nouveau-europresse-com.accesdistant.sorbonne-universite.fr/Search/AdvancedMobile\")\n",
      "requests.get(\"https://nouveau-europresse-com.accesdistant.sorbonne-universite.fr/Search/AdvancedMobile\", verify=False, cookies=parse_cookies(cookie_string))\n",
      "res.content\n",
      "res.content.split('hidden')\n",
      "res.content.decode().split('hidden')\n",
      "res.content.decode().split('hidden')[0]\n",
      "res.content.decode().split('hidden')[1]\n",
      "cookie_string = \"SUAGIMUS=TRACEAGIMUS-5941-QYX55-zqLZ3Asqbk1T1avSU0WNOEPC1faDVpgNIE-auth3.ent.upmc.fr; ezproxy=7iKtim6oW64Yf9L\"\n",
      "import requests\n",
      "from bs4 import BeautifulSoup as bs\n",
      "import os\n",
      "requests.packages.urllib3.disable_warnings()\n",
      "def get_validation_token(c_string):\n",
      "    url = \"https://nouveau-europresse-com.accesdistant.sorbonne-universite.fr/Search/AdvancedMobile\"\n",
      "    requests.get(url, verify=False, cookies=parse_cookies(c_string))\n",
      "    return res.content.decode().split('hidden\" value=')[1].split(\" />\")[0]\n",
      "get_validation_token(cookie_string)\n",
      "def get_validation_token(c_string):\n",
      "    url = \"https://nouveau-europresse-com.accesdistant.sorbonne-universite.fr/Search/AdvancedMobile\"\n",
      "    requests.get(url, verify=False, cookies=parse_cookies(c_string))\n",
      "    return res.content.decode().split('hidden\" value=\"')[1].split('\" />')[0]\n",
      "get_validation_token(cookie_string)\n",
      "def parse_body(body_str):\n",
      "    key_values = body_str.split(\"&\")\n",
      "    return {key_value.split('=')[0]: key_value.split('=')[1] for key_value in key_values}\n",
      "body_str = \"__RequestVerificationToken=NV03eJpcoUXRkIbyAO8i9mxr2dLWfyV8pyOGv8eUzMulLABrw6J4gYMb44Fy2zlcYEf8sQDKlhfcqD4G0&Keywords=Meat+AND+Livestock&CriteriaKeys%5B0%5D.Operator=%26&CriteriaKeys%5B0%5D.Key=TIT_HEAD&CriteriaKeys%5B0%5D.Text=&CriteriaKeys%5B1%5D.Operator=%26&CriteriaKeys%5B1%5D.Key=LEAD&CriteriaKeys%5B1%5D.Text=&CriteriaKeys%5B2%5D.Operator=%26&CriteriaKeys%5B2%5D.Key=AUT_BY&CriteriaKeys%5B2%5D.Text=&sources=0&CriteriaSet=198494&sourcesFilter=&PostedFilters.FiltersIDs=8001&PostedFilters.FiltersIDs=8000&PostedFilters.FiltersIDs=403&PostedFilters.FiltersIDs=5355&PostedFilters.FiltersIDs=8002&DateFilter.DateRange=10&DateFilter.DateStart=2012-3-23&DateFilter.DateStop=2022-03-23&SourcesForm=0\"\n",
      "body_str\n",
      "parse_body(body_str)\n",
      "form = {'__RequestVerificationToken': get_validation_token(cookie_string),\n",
      " 'Keywords': 'Meat+AND+Livestock',\n",
      " 'CriteriaKeys%5B0%5D.Operator': '%26',\n",
      " 'CriteriaKeys%5B0%5D.Key': 'TIT_HEAD',\n",
      " 'CriteriaKeys%5B0%5D.Text': '',\n",
      " 'CriteriaKeys%5B1%5D.Operator': '%26',\n",
      " 'CriteriaKeys%5B1%5D.Key': 'LEAD',\n",
      " 'CriteriaKeys%5B1%5D.Text': '',\n",
      " 'CriteriaKeys%5B2%5D.Operator': '%26',\n",
      " 'CriteriaKeys%5B2%5D.Key': 'AUT_BY',\n",
      " 'CriteriaKeys%5B2%5D.Text': '',\n",
      " 'sources': '0',\n",
      " 'CriteriaSet': '198494',\n",
      " 'sourcesFilter': '',\n",
      " 'PostedFilters.FiltersIDs': '8002',\n",
      " 'DateFilter.DateRange': '10',\n",
      " 'DateFilter.DateStart': '2012-04-23',\n",
      " 'DateFilter.DateStop': '2022-03-23',\n",
      " 'SourcesForm': '0'}\n",
      "url = \"https://nouveau-europresse-com.accesdistant.sorbonne-universite.fr/Search/AdvancedMobile\"\n",
      "res = requests.post(url, data=parse_body(body_str), cookies=parse_cookies(cookie_string), verify=False)\n",
      "print(res.status_code)\n",
      "form = {'__RequestVerificationToken': get_validation_token(cookie_string),\n",
      " 'Keywords': 'Meat+AND+Livestock',\n",
      " 'CriteriaKeys%5B0%5D.Operator': '%26',\n",
      " 'CriteriaKeys%5B0%5D.Key': 'TIT_HEAD',\n",
      " 'CriteriaKeys%5B0%5D.Text': '',\n",
      " 'CriteriaKeys%5B1%5D.Operator': '%26',\n",
      " 'CriteriaKeys%5B1%5D.Key': 'LEAD',\n",
      " 'CriteriaKeys%5B1%5D.Text': '',\n",
      " 'CriteriaKeys%5B2%5D.Operator': '%26',\n",
      " 'CriteriaKeys%5B2%5D.Key': 'AUT_BY',\n",
      " 'CriteriaKeys%5B2%5D.Text': '',\n",
      " 'sources': '0',\n",
      " 'CriteriaSet': '198494',\n",
      " 'sourcesFilter': '',\n",
      " 'PostedFilters.FiltersIDs': '8002',\n",
      " 'DateFilter.DateRange': '10',\n",
      " 'DateFilter.DateStart': '2012-04-23',\n",
      " 'DateFilter.DateStop': '2022-03-23',\n",
      " 'SourcesForm': '0'}\n",
      "url = \"https://nouveau-europresse-com.accesdistant.sorbonne-universite.fr/Search/AdvancedMobile\"\n",
      "res = requests.post(url, data=form, cookies=parse_cookies(cookie_string), verify=False)\n",
      "print(res.status_code)\n",
      "def get_validation_token(c_string):\n",
      "    url = \"https://nouveau-europresse-com.accesdistant.sorbonne-universite.fr/Search/AdvancedMobile\"\n",
      "    requests.get(url, verify=False, cookies=parse_cookies(c_string))\n",
      "    print(res.content.decode())\n",
      "    return res.content.decode().split('hidden\" value=\"')[1].split('\" />')[0]\n",
      "form = {'__RequestVerificationToken': get_validation_token(cookie_string),\n",
      " 'Keywords': 'Meat+AND+Livestock',\n",
      " 'CriteriaKeys%5B0%5D.Operator': '%26',\n",
      " 'CriteriaKeys%5B0%5D.Key': 'TIT_HEAD',\n",
      " 'CriteriaKeys%5B0%5D.Text': '',\n",
      " 'CriteriaKeys%5B1%5D.Operator': '%26',\n",
      " 'CriteriaKeys%5B1%5D.Key': 'LEAD',\n",
      " 'CriteriaKeys%5B1%5D.Text': '',\n",
      " 'CriteriaKeys%5B2%5D.Operator': '%26',\n",
      " 'CriteriaKeys%5B2%5D.Key': 'AUT_BY',\n",
      " 'CriteriaKeys%5B2%5D.Text': '',\n",
      " 'sources': '0',\n",
      " 'CriteriaSet': '198494',\n",
      " 'sourcesFilter': '',\n",
      " 'PostedFilters.FiltersIDs': '8002',\n",
      " 'DateFilter.DateRange': '10',\n",
      " 'DateFilter.DateStart': '2012-04-23',\n",
      " 'DateFilter.DateStop': '2022-03-23',\n",
      " 'SourcesForm': '0'}\n",
      "url = \"https://nouveau-europresse-com.accesdistant.sorbonne-universite.fr/Search/AdvancedMobile\"\n",
      "res = requests.post(url, data=form, cookies=parse_cookies(cookie_string), verify=False)\n",
      "print(res.status_code)\n",
      "cookie_string = \"SUAGIMUS=TRACEAGIMUS-5941-QYX55-zqLZ3Asqbk1T1avSU0WNOEPC1faDVpgNIE-auth3.ent.upmc.fr; ezproxy=7iKtim6oW64Yf9L\"\n",
      "get_validation_token(cookie_string)\n",
      "def get_validation_token(c_string):\n",
      "    url = \"https://nouveau-europresse-com.accesdistant.sorbonne-universite.fr/Search/AdvancedMobile\"\n",
      "    res = requests.get(url, verify=False, cookies=parse_cookies(c_string))\n",
      "    return res.content.decode().split('hidden\" value=\"')[1].split('\" />')[0]\n",
      "get_validation_token(cookie_string)\n",
      "form = {'__RequestVerificationToken': get_validation_token(cookie_string),\n",
      " 'Keywords': 'Meat+AND+Livestock',\n",
      " 'CriteriaKeys%5B0%5D.Operator': '%26',\n",
      " 'CriteriaKeys%5B0%5D.Key': 'TIT_HEAD',\n",
      " 'CriteriaKeys%5B0%5D.Text': '',\n",
      " 'CriteriaKeys%5B1%5D.Operator': '%26',\n",
      " 'CriteriaKeys%5B1%5D.Key': 'LEAD',\n",
      " 'CriteriaKeys%5B1%5D.Text': '',\n",
      " 'CriteriaKeys%5B2%5D.Operator': '%26',\n",
      " 'CriteriaKeys%5B2%5D.Key': 'AUT_BY',\n",
      " 'CriteriaKeys%5B2%5D.Text': '',\n",
      " 'sources': '0',\n",
      " 'CriteriaSet': '198494',\n",
      " 'sourcesFilter': '',\n",
      " 'PostedFilters.FiltersIDs': '8002',\n",
      " 'DateFilter.DateRange': '10',\n",
      " 'DateFilter.DateStart': '2012-04-23',\n",
      " 'DateFilter.DateStop': '2022-03-23',\n",
      " 'SourcesForm': '0'}\n",
      "url = \"https://nouveau-europresse-com.accesdistant.sorbonne-universite.fr/Search/AdvancedMobile\"\n",
      "res = requests.post(url, data=form, cookies=parse_cookies(cookie_string), verify=False)\n",
      "print(res.status_code)\n",
      "form = {'__RequestVerificationToken': get_validation_token(cookie_string),\n",
      " 'Keywords': 'Meat+AND+Livestock',\n",
      " 'CriteriaKeys%5B0%5D.Operator': '%26',\n",
      " 'CriteriaKeys%5B0%5D.Key': 'TIT_HEAD',\n",
      " 'CriteriaKeys%5B0%5D.Text': '',\n",
      " 'CriteriaKeys%5B1%5D.Operator': '%26',\n",
      " 'CriteriaKeys%5B1%5D.Key': 'LEAD',\n",
      " 'CriteriaKeys%5B1%5D.Text': '',\n",
      " 'CriteriaKeys%5B2%5D.Operator': '%26',\n",
      " 'CriteriaKeys%5B2%5D.Key': 'AUT_BY',\n",
      " 'CriteriaKeys%5B2%5D.Text': '',\n",
      " 'sources': '0',\n",
      " 'CriteriaSet': '198494',\n",
      " 'sourcesFilter': '',\n",
      " 'PostedFilters.FiltersIDs': '8002',\n",
      " 'DateFilter.DateRange': '10',\n",
      " 'DateFilter.DateStart': '2012-04-23',\n",
      " 'DateFilter.DateStop': '2022-03-23',\n",
      " 'SourcesForm': '0'}\n",
      "url = \"https://nouveau-europresse-com.accesdistant.sorbonne-universite.fr/Search/AdvancedMobile\"\n",
      "res = requests.post(url, data=form, cookies=parse_cookies(cookie_string), verify=False)\n",
      "print(res.status_code)\n",
      "res.content\n",
      "form = {'__RequestVerificationToken': get_validation_token(cookie_string),\n",
      " 'Keywords': 'Meat+AND+Livestock',\n",
      " 'CriteriaKeys%5B0%5D.Operator': '%26',\n",
      " 'CriteriaKeys%5B0%5D.Key': 'TIT_HEAD',\n",
      " 'CriteriaKeys%5B0%5D.Text': '',\n",
      " 'CriteriaKeys%5B1%5D.Operator': '%26',\n",
      " 'CriteriaKeys%5B1%5D.Key': 'LEAD',\n",
      " 'CriteriaKeys%5B1%5D.Text': '',\n",
      " 'CriteriaKeys%5B2%5D.Operator': '%26',\n",
      " 'CriteriaKeys%5B2%5D.Key': 'AUT_BY',\n",
      " 'CriteriaKeys%5B2%5D.Text': '',\n",
      " 'sources': '0',\n",
      " 'CriteriaSet': '198494',\n",
      " 'sourcesFilter': '',\n",
      " 'PostedFilters.FiltersIDs': '8002',\n",
      " 'DateFilter.DateRange': '10',\n",
      " 'DateFilter.DateStart': '2012-04-23',\n",
      " 'DateFilter.DateStop': '2022-03-23',\n",
      " 'SourcesForm': '0'}\n",
      "url = \"https://nouveau-europresse-com.accesdistant.sorbonne-universite.fr/Search/AdvancedMobile\"\n",
      "url = \"http://localhost:8000\"\n",
      "res = requests.post(url, data=form, cookies=parse_cookies(cookie_string), verify=False)\n",
      "print(res.status_code)\n",
      "res.content\n",
      "form = {'__RequestVerificationToken': get_validation_token(cookie_string),\n",
      " 'Keywords': 'Meat+AND+Livestock',\n",
      " 'CriteriaKeys%5B0%5D.Operator': '%26',\n",
      " 'CriteriaKeys%5B0%5D.Key': 'TIT_HEAD',\n",
      " 'CriteriaKeys%5B0%5D.Text': '',\n",
      " 'CriteriaKeys%5B1%5D.Operator': '%26',\n",
      " 'CriteriaKeys%5B1%5D.Key': 'LEAD',\n",
      " 'CriteriaKeys%5B1%5D.Text': '',\n",
      " 'CriteriaKeys%5B2%5D.Operator': '%26',\n",
      " 'CriteriaKeys%5B2%5D.Key': 'AUT_BY',\n",
      " 'CriteriaKeys%5B2%5D.Text': '',\n",
      " 'sources': '0',\n",
      " 'CriteriaSet': '198494',\n",
      " 'sourcesFilter': '',\n",
      " 'PostedFilters.FiltersIDs': '8002',\n",
      " 'DateFilter.DateRange': '10',\n",
      " 'DateFilter.DateStart': '2012-04-23',\n",
      " 'DateFilter.DateStop': '2022-03-23',\n",
      " 'SourcesForm': '0'}\n",
      "url = \"https://nouveau-europresse-com.accesdistant.sorbonne-universite.fr/Search/AdvancedMobile\"\n",
      "url = \"http://localhost:8000\"\n",
      "res = requests.post(url, data=form, cookies=parse_cookies(cookie_string), verify=False)\n",
      "print(res.status_code)\n",
      "res.content\n",
      "body_str = f'__RequestVerificationToken={get_validation_token(cookie_string)}&Keywords=TEXT%3D+Meat+%26+Livestock&CriteriaKeys%5B0%5D.Operator=%26&CriteriaKeys%5B0%5D.Key=TIT_HEAD&CriteriaKeys%5B0%5D.Text=&CriteriaKeys%5B1%5D.Operator=%26&CriteriaKeys%5B1%5D.Key=LEAD&CriteriaKeys%5B1%5D.Text=&CriteriaKeys%5B2%5D.Operator=%26&CriteriaKeys%5B2%5D.Key=AUT_BY&CriteriaKeys%5B2%5D.Text=&sources=0&CriteriaSet=198495&sourcesFilter=&PostedFilters.FiltersIDs=8001&PostedFilters.FiltersIDs=8000&PostedFilters.FiltersIDs=403&PostedFilters.FiltersIDs=5355&PostedFilters.FiltersIDs=8002&DateFilter.DateRange=10&DateFilter.DateStart=2012-5-23&DateFilter.DateStop=2022-03-23&SourcesForm=0'\n",
      "parse_body(body_str)\n",
      "form = {'__RequestVerificationToken': 'wBDlazGXTAj1jqy9F60YkGQ9ygnm7S1YjLf4eBkKh7R6OerQMU4pq5so05qW_5tsJtqyVvr0zLt4WgMh0',\n",
      " 'Keywords': 'TEXT%3D+Meat+%26+Livestock',\n",
      " 'CriteriaKeys%5B0%5D.Operator': '%26',\n",
      " 'CriteriaKeys%5B0%5D.Key': 'TIT_HEAD',\n",
      " 'CriteriaKeys%5B0%5D.Text': '',\n",
      " 'CriteriaKeys%5B1%5D.Operator': '%26',\n",
      " 'CriteriaKeys%5B1%5D.Key': 'LEAD',\n",
      " 'CriteriaKeys%5B1%5D.Text': '',\n",
      " 'CriteriaKeys%5B2%5D.Operator': '%26',\n",
      " 'CriteriaKeys%5B2%5D.Key': 'AUT_BY',\n",
      " 'CriteriaKeys%5B2%5D.Text': '',\n",
      " 'sources': '0',\n",
      " 'CriteriaSet': '198495',\n",
      " 'sourcesFilter': '',\n",
      " 'PostedFilters.FiltersIDs': '8002',\n",
      " 'DateFilter.DateRange': '10',\n",
      " 'DateFilter.DateStart': '2012-5-23',\n",
      " 'DateFilter.DateStop': '2022-03-23',\n",
      " 'SourcesForm': '0'}\n",
      "url = \"https://nouveau-europresse-com.accesdistant.sorbonne-universite.fr/Search/AdvancedMobile\"\n",
      "# url = \"http://localhost:8000\"\n",
      "res = requests.post(url, data=form, cookies=parse_cookies(cookie_string), verify=False)\n",
      "print(res.status_code)\n",
      "res.content\n",
      "c_string_sorbonne = \"SessionID=4c635a71-4f89-4d16-8a46-a34f861a313c; IDENTITY=64168219D8798F05A3DAEF7902BC43E93A6B82EE118AA542DE8EA211E4A23F8FCA8203A9654DFAD7FC6B3D16810C60C97064D59B13EEC6FE09C074ACB8326E40BC25E7C8E1D59FD17AF0F90B29C0D30483A144964CF38D3B8BF7D80EE052B5B54A97FBFD5512FCCF15A4BE06281D27E16DBE85F4A438D7107AFAA713BA87058AB3C82734ED9B8EE2D9917D589457B9A766F41A52056D6A039F9DC2574AF773B67F24F3E70C1C29ADBC5196F00A586A9B9E2F9916C3C125271A4016D4B949D5C62E1CCA32; Language_id=1; IsSupported=True\"\n",
      "def get_all_results(c_string):\n",
      "    url = \"https://nouveau-europresse-com.accesdistant.sorbonne-universite.fr/DocumentList/GetNextPage\"\n",
      "\n",
      "    params = {\n",
      "        'listType': 1,\n",
      "        'pageNo': 0,\n",
      "        'docPerPage': 1000\n",
      "    }\n",
      "    res = requests.get('https://nouveau-europresse-com.accesdistant.sorbonne-universite.fr/DocumentList/GetNextPage', \n",
      "                       cookies=parse_cookies(cookie_string), \n",
      "                       params=params, verify=False)\n",
      "get_all_results(c_string_sorbonne)\n",
      "def get_all_results(c_string, step=1000):\n",
      "    url = \"https://nouveau-europresse-com.accesdistant.sorbonne-universite.fr/DocumentList/GetNextPage\"\n",
      "\n",
      "    params = {\n",
      "        'listType': 1,\n",
      "        'pageNo': 0,\n",
      "        'docPerPage': step\n",
      "    }\n",
      "    res = requests.get('https://nouveau-europresse-com.accesdistant.sorbonne-universite.fr/DocumentList/GetNextPage', \n",
      "                       cookies=parse_cookies(cookie_string), \n",
      "                       params=params, verify=False)\n",
      "    return res.content\n",
      "get_all_results(c_string_sorbonne, 50)\n",
      "cookie_string = \"SUAGIMUS=TRACEAGIMUS-9358-NGKL8Z3-RN5NXoVqKLaExJp-ArFHweZt71dkUAXR-auth3.ent.upmc.fr; ezproxy=Rr1M6rGReIZljIt\"\n",
      "get_all_results(cookie_string, 50)\n",
      "from selenium import webdriver\n",
      "from selenium.webdriver.common.by import By\n",
      "from selenium.webdriver.support.ui import WebDriverWait\n",
      "from selenium.webdriver.support import expected_conditions as EC\n",
      "# create a new firefox driver\n",
      "profile = webdriver.FirefoxProfile()\n",
      "driver = webdriver.Firefox(profile)\n",
      "driver.add_cookie\n",
      "driver.add_cookie(parse_cookies(cookie_string))\n",
      "url = 'https://nouveau-europresse-com.accesdistant.sorbonne-universite.fr/Search/AdvancedMobile'\n",
      "# create a new firefox driver\n",
      "profile = webdriver.FirefoxProfile()\n",
      "driver = webdriver.Firefox(profile)\n",
      "for name, value in parse_cookies(cookie_string):\n",
      "    driver.add_cookie('name': name, 'value', value)\n",
      "for name, value in parse_cookies(cookie_string):\n",
      "    driver.add_cookie({'name': name, 'value', value})\n",
      "for name, value in parse_cookies(cookie_string):\n",
      "    driver.add_cookie({'name': name, 'value': value})\n",
      "for name, value in parse_cookies(cookie_string).items():\n",
      "    driver.add_cookie({'name': name, 'value': value})\n",
      "for name, value in parse_cookies(cookie_string).items():\n",
      "    cookie = {'name': name, 'value': value}\n",
      "    print(cookie)\n",
      "    driver.add_cookie(cookie)\n",
      "driver.get('https://nouveau-europresse-com.accesdistant.sorbonne-universite.fr/Search/AdvancedMobile')\n",
      "for name, value in parse_cookies(cookie_string).items():\n",
      "    cookie = {'name': name, 'value': value}\n",
      "    print(cookie)\n",
      "    driver.add_cookie(cookie)\n",
      "driver.get('https://accesdistant.sorbonne-universite.fr/login?url=https://nouveau.europresse.com/access/ip/default.aspx?un=UPMCT_1')\n",
      "driver.get('https://accesdistant.sorbonne-universite.fr/login?url=https://nouveau.europresse.com/access/ip/default.aspx?un=UPMCT_1')\n",
      "# create a new firefox driver\n",
      "profile = webdriver.FirefoxProfile()\n",
      "driver = webdriver.Firefox(profile)\n",
      "driver.get('https://accesdistant.sorbonne-universite.fr/login?url=https://nouveau.europresse.com/access/ip/default.aspx?un=UPMCT_1')\n",
      "# on fait les manips de connexion et la première recherche à la main\n",
      "# puis on récupère les cookies  pour stocker les  résultats\n",
      "driver.get_cookies()\n",
      "# on fait les manips de connexion et la première recherche à la main\n",
      "# puis on récupère les cookies  pour stocker les  résultats\n",
      "all_cookies = driver.get_cookies()\n",
      "cookies = {}\n",
      "for cookie in all_cookies:\n",
      "    cookies[cookie['name']] = cookie['value']\n",
      "cookies\n",
      "def get_all_results(cookies, step=1000):\n",
      "    url = \"https://nouveau-europresse-com.accesdistant.sorbonne-universite.fr/DocumentList/GetNextPage\"\n",
      "\n",
      "    params = {\n",
      "        'listType': 1,\n",
      "        'pageNo': 0,\n",
      "        'docPerPage': step\n",
      "    }\n",
      "    res = requests.get('https://nouveau-europresse-com.accesdistant.sorbonne-universite.fr/DocumentList/GetNextPage', \n",
      "                       cookies=cookies, \n",
      "                       params=params, verify=False)\n",
      "    return res.content\n",
      "get_all_results(cookies, 50)\n",
      "# ensuite on modifie la recherche\n",
      "driver.get('https://nouveau-europresse-com.accesdistant.sorbonne-universite.fr/Search/AdvancedMobile')\n",
      "from selenium import webdriver\n",
      "from selenium.webdriver.common.by import By\n",
      "from selenium.webdriver.support.ui import WebDriverWait\n",
      "from selenium.webdriver.support import expected_conditions as EC\n",
      "from selenium.webdriver.support.ui import Select\n",
      "select = Select(elems = driver.find_element(By.XPATH, '/html/body/section/form/div/div[2]/div[1]/div[5]/div[3]/div/div[2]/span[1]/span/select[2]'))\n",
      "select = Select(driver.find_element(By.XPATH, '/html/body/section/form/div/div[2]/div[1]/div[5]/div[3]/div/div[2]/span[1]/span/select[2]'))\n",
      "# select by value \n",
      "select.select_by_value('4')\n",
      "# change month\n",
      "select.select_by_value('4')\n",
      "btn = driver.find_element_by_id('btnSearch')\n",
      "btn = driver.find_element_by_id('btnSearch')\n",
      "btn.click()\n",
      "get_all_results(cookies, 50)\n",
      "def get_all_results(cookies, step=1000):\n",
      "    url = \"https://nouveau-europresse-com.accesdistant.sorbonne-universite.fr/DocumentList/GetNextPage\"\n",
      "\n",
      "    params = {\n",
      "        'listType': 1,\n",
      "        'pageNo': 0,\n",
      "        'docPerPage': step\n",
      "    }\n",
      "    res = requests.get('https://nouveau-europresse-com.accesdistant.sorbonne-universite.fr/DocumentList/GetNextPage', \n",
      "                       cookies=cookies, \n",
      "                       params=params, verify=False)\n",
      "    return res.content.decode()\n",
      "from bs4 import BeautifulSoup as bs\n",
      "# on récupère les résultats\n",
      "soup = bs(get_all_results(cookies))                #make BeautifulSoup\n",
      "prettyHTML = soup.prettify()\n",
      "prettyHTML\n",
      "# on récupère les résultats\n",
      "soup = bs(get_all_results(cookies))                #make BeautifulSoup\n",
      "prettyHTML = soup.prettify()\n",
      "prettyHTML\n",
      "mydivs = soup.find_all(\"span\", {\"class\": \"details\"})\n",
      "mydivs\n",
      "mydivs[-1]\n",
      "date = mydivs[-1].split('details\"> ')[1].split(' <span')[0]\n",
      "date\n",
      "from selenium import webdriver\n",
      "from selenium.webdriver.common.by import By\n",
      "from selenium.webdriver.support.ui import WebDriverWait\n",
      "from selenium.webdriver.support import expected_conditions as EC\n",
      "from selenium.webdriver.support.ui import Select\n",
      "# create a new firefox driver\n",
      "profile = webdriver.FirefoxProfile()\n",
      "driver = webdriver.Firefox(profile)\n",
      "driver.get('https://accesdistant.sorbonne-universite.fr/login?url=https://nouveau.europresse.com/access/ip/default.aspx?un=UPMCT_1')\n",
      "driver.get('https://accesdistant.sorbonne-universite.fr/login?url=https://nouveau.europresse.com/access/ip/default.aspx?un=UPMCT_1')\n",
      "# create a new firefox driver\n",
      "profile = webdriver.FirefoxProfile()\n",
      "driver = webdriver.Firefox(profile)\n",
      "driver.get('https://accesdistant.sorbonne-universite.fr/login?url=https://nouveau.europresse.com/access/ip/default.aspx?un=UPMCT_1')\n",
      "# on fait les manips de connexion et la première recherche à la main\n",
      "# puis on récupère les cookies  pour stocker les  résultats\n",
      "all_cookies = driver.get_cookies()\n",
      "cookies = {}\n",
      "for cookie in all_cookies:\n",
      "    cookies[cookie['name']] = cookie['value']\n",
      "cookies\n",
      "# on récupère les résultats\n",
      "soup = bs(get_all_results(cookies))                #make BeautifulSoup\n",
      "prettyHTML = soup.prettify()\n",
      "prettyHTML\n",
      "mydivs = soup.find_all(\"span\", {\"class\": \"details\"})\n",
      "mydivs\n",
      "type(mydivs[0])\n",
      "mydivs[0].contents\n",
      "mydivs[-1].contents[0]\n",
      "mydivs[-1].contents[0].strip()\n",
      "year, month, day = mydivs[-1].contents[0].strip().split('-')\n",
      "year, month, day = mydivs[-1].contents[0].strip().split('-')\n",
      "print(year, month, day)\n",
      "# ensuite on modifie la recherche\n",
      "driver.get('https://nouveau-europresse-com.accesdistant.sorbonne-universite.fr/Search/AdvancedMobile')\n",
      "year, month, day = mydivs[-1].contents[0].strip().split('-')\n",
      "print(year, int(month), day)\n",
      "year, month, day = mydivs[-1].contents[0].strip().split('-')\n",
      "print(year, str(int(month)), day)\n",
      "year, month, day = mydivs[-1].contents[0].strip().split('-')\n",
      "print(year, str(int(month)), str(int(day))\n",
      "year, month, day = mydivs[-1].contents[0].strip().split('-')\n",
      "print(year, str(int(month)), str(int(day)))\n",
      "year, month, day = mydivs[-1].contents[0].strip().split('-')\n",
      "# this gets rid of trailing 0\n",
      "month = str(int(month))\n",
      "day = str(int(month))\n",
      "select_day = Select(driver.find_element(By.XPATH, '/html/body/section/form/div/div[2]/div[1]/div[5]/div[3]/div/div[2]/span[1]/span/select[1]'))\n",
      "select_month = Select(driver.find_element(By.XPATH, '/html/body/section/form/div/div[2]/div[1]/div[5]/div[3]/div/div[2]/span[1]/span/select[2]'))\n",
      "select_year = Select(driver.find_element(By.XPATH, '/html/body/section/form/div/div[2]/div[1]/div[5]/div[3]/div/div[2]/span[1]/span/select[3]'))\n",
      "# change values\n",
      "select_day.select_by_value(day)\n",
      "select_month.select_by_value(month)\n",
      "select_year.select_by_value(year)\n",
      "# submit new form\n",
      "btn = driver.find_element_by_id('btnSearch')\n",
      "btn.click()\n",
      "year, month, day = mydivs[-1].contents[0].strip().split('-')\n",
      "# this gets rid of trailing 0\n",
      "month = str(int(month))\n",
      "day = str(int(month))\n",
      "print(year, month, day)\n",
      "# on récupère les résultats\n",
      "soup = bs(get_all_results(cookies))                #make BeautifulSoup\n",
      "prettyHTML = soup.prettify()\n",
      "prettyHTML\n",
      "mydivs = soup.find_all(\"span\", {\"class\": \"details\"})\n",
      "year, month, day = mydivs[-1].contents[0].strip().split('-')\n",
      "# this gets rid of trailing 0\n",
      "month = str(int(month))\n",
      "day = str(int(month))\n",
      "print(year, month, day)\n",
      "from selenium import webdriver\n",
      "from selenium.webdriver.common.by import By\n",
      "from selenium.webdriver.support.ui import WebDriverWait\n",
      "from selenium.webdriver.support import expected_conditions as EC\n",
      "from selenium.webdriver.support.ui import Select\n",
      "import requests\n",
      "from bs4 import BeautifulSoup as bs\n",
      "import os\n",
      "requests.packages.urllib3.disable_warnings()\n",
      "def get_all_results(cookies, step=1000):\n",
      "    url = \"https://nouveau-europresse-com.accesdistant.sorbonne-universite.fr/DocumentList/GetNextPage\"\n",
      "\n",
      "    params = {\n",
      "        'listType': 1,\n",
      "        'pageNo': 0,\n",
      "        'docPerPage': step\n",
      "    }\n",
      "    res = requests.get('https://nouveau-europresse-com.accesdistant.sorbonne-universite.fr/DocumentList/GetNextPage', \n",
      "                       cookies=cookies, \n",
      "                       params=params, verify=False)\n",
      "    return res.content.decode()\n",
      "count = driver.find_element_by_class_name('resultOperations-count')\n",
      "count\n",
      "count = driver.find_element_by_class_name('resultOperations-count')\n",
      "count.text\n",
      "count = int(driver.find_element_by_class_name('resultOperations-count'))\n",
      "count\n",
      "count = int(driver.find_element_by_class_name('resultOperations-count').text)\n",
      "count\n",
      "count = int(driver.find_element_by_class_name('resultOperations-count').text.replace(' ', ''))\n",
      "count\n",
      "all_names = soup.find_all('div', {\"class\": \"checkbox-container selection-visible\"})\n",
      "all_names\n",
      "all_names[0].name\n",
      "all_names = soup.find_all('div', {\"class\": \"checkbox-container selection-visible\", 'attr': 'name'})\n",
      "all_names[0].name\n",
      "all_names[0]\n",
      "all_names\n",
      "all_names = soup.find_all('div', {\"class\": \"checkbox-container selection-visible\"})\n",
      "all_names[0].get('name')\n",
      "all_names = [el.get('name') for el in soup.find_all('div', {\"class\": \"checkbox-container selection-visible\"})]\n",
      "all_names\n",
      "len(all_names)\n",
      "all_el = soup.find_all('div', {\"class\": \"checkbox-container selection-visible\"})\n",
      "all_el = soup.find_all('div', {\"class\": \"checkbox-container selection-visible\"})\n",
      "len(all_el)\n",
      "all_el = soup.select('div[class*=checkbox-container selection-visible]')\n",
      "len(all_el)\n",
      "import re\n",
      "reg = re.compile('checkbox-container selection-visible.*')\n",
      "all_el = soup.find_all(\"div\", {\"class\" : regex})\n",
      "len(all_el)\n",
      "import re\n",
      "reg = re.compile('checkbox-container selection-visible.*')\n",
      "all_el = soup.find_all(\"div\", {\"class\" : reg})\n",
      "len(all_el)\n",
      "all_names = [el.get('name') for el in all_el]\n",
      "len(all_names)\n",
      "from selenium import webdriver\n",
      "from selenium.webdriver.common.by import By\n",
      "from selenium.webdriver.support.ui import WebDriverWait\n",
      "from selenium.webdriver.support import expected_conditions as EC\n",
      "from selenium.webdriver.support.ui import Select\n",
      "import requests\n",
      "from bs4 import BeautifulSoup as bs\n",
      "import os\n",
      "import re\n",
      "\n",
      "requests.packages.urllib3.disable_warnings()\n",
      "s1 = set(1,2,3,4,5)\n",
      "s2 = (5,6,7)\n",
      "s2 - s1\n",
      "s1 = set([1,2,3,4,5])\n",
      "s2 = set([5,6,7])\n",
      "s2 - s1\n",
      "s1 = set([1,2,3,4,5])\n",
      "s2 = set([5,6,7])\n",
      "len(s2 - s1)\n",
      "s1 = set([1,2,3,4])\n",
      "s1 = s1.append([2,5,6])\n",
      "s1\n",
      "s1 = set([1,2,3,4])\n",
      "s1 = s1.update([2,5,6])\n",
      "s1\n",
      "s1 = set([1,2,3,4])\n",
      "s1 = s1.update([2,5,6])\n",
      "print(s1)\n",
      "s1 = set([1,2,3,4])\n",
      "s1.update([2,5,6])\n",
      "print(s1)\n",
      "i = 0\n",
      "from tqdm import tqdm\n",
      "with tqdm(total=100) as pbar:\n",
      "    i += 1\n",
      "    pbar.update(1)\n",
      "i = 0\n",
      "from tqdm import tqdm\n",
      "with tqdm(total=100) as pbar:\n",
      "    i += 1\n",
      "    pbar.update(1)\n",
      "    time.sleep(0.5)\n",
      "from selenium import webdriver\n",
      "from selenium.webdriver.common.by import By\n",
      "from selenium.webdriver.support.ui import WebDriverWait\n",
      "from selenium.webdriver.support import expected_conditions as EC\n",
      "from selenium.webdriver.support.ui import Select\n",
      "import requests\n",
      "from tqdm import tqdm\n",
      "from bs4 import BeautifulSoup as bs\n",
      "import os\n",
      "import re\n",
      "import time\n",
      "\n",
      "requests.packages.urllib3.disable_warnings()\n",
      "i = 0\n",
      "from tqdm import tqdm\n",
      "with tqdm(total=100) as pbar:\n",
      "    i += 1\n",
      "    pbar.update(1)\n",
      "    time.sleep(0.5)\n",
      "i = 0\n",
      "from tqdm import tqdm\n",
      "with tqdm(total=100) as pbar:\n",
      "    while i < 100:\n",
      "        i += 1\n",
      "        pbar.update(1)\n",
      "        time.sleep(0.5)\n",
      "from selenium import webdriver\n",
      "from selenium.webdriver.common.by import By\n",
      "from selenium.webdriver.support.ui import WebDriverWait\n",
      "from selenium.webdriver.support import expected_conditions as EC\n",
      "from selenium.webdriver.support.ui import Select\n",
      "import requests\n",
      "from tqdm import tqdm\n",
      "from bs4 import BeautifulSoup as bs\n",
      "import os\n",
      "import re\n",
      "import time\n",
      "from tqdm import tqdm\n",
      "\n",
      "requests.packages.urllib3.disable_warnings()\n",
      "from selenium import webdriver\n",
      "from selenium.webdriver.common.by import By\n",
      "from selenium.webdriver.support.ui import WebDriverWait\n",
      "from selenium.webdriver.support import expected_conditions as EC\n",
      "from selenium.webdriver.support.ui import Select\n",
      "import requests\n",
      "from tqdm import tqdm\n",
      "from bs4 import BeautifulSoup as bs\n",
      "import os\n",
      "import re\n",
      "import time\n",
      "from tqdm import tqdm\n",
      "\n",
      "requests.packages.urllib3.disable_warnings()\n",
      "def get_all_results(cookies, step=1000):\n",
      "    url = \"https://nouveau-europresse-com.accesdistant.sorbonne-universite.fr/DocumentList/GetNextPage\"\n",
      "\n",
      "    params = {\n",
      "        'listType': 1,\n",
      "        'pageNo': 0,\n",
      "        'docPerPage': step\n",
      "    }\n",
      "    res = requests.get('https://nouveau-europresse-com.accesdistant.sorbonne-universite.fr/DocumentList/GetNextPage', \n",
      "                       cookies=cookies, \n",
      "                       params=params, verify=False)\n",
      "    return res.content.decode()\n",
      "%history\n"
     ]
    }
   ],
   "source": [
    "%history"
   ]
  },
  {
   "cell_type": "markdown",
   "id": "71c0bc1c",
   "metadata": {},
   "source": [
    "### Full Script"
   ]
  },
  {
   "cell_type": "code",
   "execution_count": 7,
   "id": "82e88548",
   "metadata": {},
   "outputs": [],
   "source": [
    "import os\n",
    "from tqdm import tqdm\n",
    "import requests\n",
    "import time\n",
    "import re\n",
    "requests.packages.urllib3.disable_warnings() \n",
    "from bs4 import BeautifulSoup as bs\n",
    "from selenium import webdriver\n",
    "from selenium.webdriver.common.by import By\n",
    "from selenium.webdriver.support.ui import WebDriverWait\n",
    "from selenium.webdriver.support import expected_conditions as EC\n",
    "from selenium.webdriver.support.ui import Select"
   ]
  },
  {
   "cell_type": "code",
   "execution_count": 10,
   "id": "23709396",
   "metadata": {},
   "outputs": [],
   "source": [
    "def get_all_results(cookies, step=1000):\n",
    "    url = \"https://nouveau-europresse-com.accesdistant.sorbonne-universite.fr/DocumentList/GetNextPage\"\n",
    "\n",
    "    params = {\n",
    "        'listType': 1,\n",
    "        'pageNo': 0,\n",
    "        'docPerPage': step\n",
    "    }\n",
    "    res = requests.get('https://nouveau-europresse-com.accesdistant.sorbonne-universite.fr/DocumentList/GetNextPage', \n",
    "                       cookies=cookies, \n",
    "                       params=params, verify=False)\n",
    "    return res.content.decode()"
   ]
  },
  {
   "cell_type": "code",
   "execution_count": null,
   "id": "01de2051",
   "metadata": {},
   "outputs": [],
   "source": []
  },
  {
   "cell_type": "code",
   "execution_count": 8,
   "id": "d8bc8bf6",
   "metadata": {},
   "outputs": [
    {
     "name": "stderr",
     "output_type": "stream",
     "text": [
      "C:\\Users\\Utilisateur\\AppData\\Local\\Temp\\ipykernel_5760\\2188633158.py:7: DeprecationWarning: find_element_by_class_name is deprecated. Please use find_element(by=By.CLASS_NAME, value=name) instead\n",
      "  total_count = int(driver.find_element_by_class_name('resultOperations-count').text.replace(' ', ''))\n"
     ]
    }
   ],
   "source": [
    "reg = re.compile('checkbox-container selection-visible.*')\n",
    "\n",
    "#profile = webdriver.FirefoxProfile()\n",
    "#driver = webdriver.Firefox(profile)\n",
    "#driver.get('https://accesdistant.sorbonne-universite.fr/login?url=https://nouveau.europresse.com/access/ip/default.aspx?un=UPMCT_1')\n",
    "#input()\n",
    "total_count = int(driver.find_element_by_class_name('resultOperations-count').text.replace(' ', ''))\n",
    "current_count = 0\n",
    "all_parsed_documents = set()\n",
    "\n",
    "all_cookies = driver.get_cookies()\n",
    "cookies = {}\n",
    "for cookie in all_cookies:\n",
    "    cookies[cookie['name']] = cookie['value']"
   ]
  },
  {
   "cell_type": "code",
   "execution_count": 11,
   "id": "c4775051",
   "metadata": {},
   "outputs": [
    {
     "name": "stderr",
     "output_type": "stream",
     "text": [
      "  4%|██▊                                                                          | 1000/27328 [00:16<07:19, 59.93it/s]"
     ]
    },
    {
     "name": "stdout",
     "output_type": "stream",
     "text": [
      "Downloading f2021-01-01_2021-05-18.html\n",
      "Setting new values to search: day: 18, month: 5, year: 2021\n"
     ]
    },
    {
     "name": "stderr",
     "output_type": "stream",
     "text": [
      "  7%|█████▌                                                                       | 1986/27328 [00:43<09:32, 44.29it/s]"
     ]
    },
    {
     "name": "stdout",
     "output_type": "stream",
     "text": [
      "Downloading f2021-05-18_2021-07-23.html\n",
      "Setting new values to search: day: 23, month: 7, year: 2021\n"
     ]
    },
    {
     "name": "stderr",
     "output_type": "stream",
     "text": [
      " 11%|████████▍                                                                    | 2981/27328 [01:07<09:33, 42.48it/s]"
     ]
    },
    {
     "name": "stdout",
     "output_type": "stream",
     "text": [
      "Downloading f2021-07-23_2021-10-05.html\n",
      "Setting new values to search: day: 5, month: 10, year: 2021\n"
     ]
    },
    {
     "name": "stderr",
     "output_type": "stream",
     "text": [
      "\r",
      " 11%|████████▍                                                                    | 2981/27328 [01:23<09:33, 42.48it/s]"
     ]
    },
    {
     "name": "stdout",
     "output_type": "stream",
     "text": [
      "Downloading f2021-07-23_2021-10-05.html\n",
      "Setting new values to search: day: 5, month: 10, year: 2021\n",
      "Downloading f2021-07-23_2021-10-05.html\n",
      "Setting new values to search: day: 5, month: 10, year: 2021\n",
      "Downloading f2021-07-23_2021-10-05.html\n",
      "Setting new values to search: day: 5, month: 10, year: 2021\n"
     ]
    },
    {
     "name": "stderr",
     "output_type": "stream",
     "text": [
      "\r",
      " 14%|███████████▏                                                                 | 3960/27328 [03:00<23:12, 16.79it/s]"
     ]
    },
    {
     "name": "stdout",
     "output_type": "stream",
     "text": [
      "Downloading f2021-10-05_2021-10-16.html\n",
      "Setting new values to search: day: 16, month: 10, year: 2021\n"
     ]
    },
    {
     "name": "stderr",
     "output_type": "stream",
     "text": [
      "\r",
      " 15%|███████████▏                                                                 | 3964/27328 [03:27<28:57, 13.45it/s]"
     ]
    },
    {
     "name": "stdout",
     "output_type": "stream",
     "text": [
      "Downloading f2021-10-05_2021-10-16.html\n",
      "Setting new values to search: day: 16, month: 10, year: 2021\n"
     ]
    },
    {
     "name": "stderr",
     "output_type": "stream",
     "text": [
      "\r",
      " 15%|███████████▏                                                                 | 3967/27328 [03:58<38:54, 10.01it/s]"
     ]
    },
    {
     "name": "stdout",
     "output_type": "stream",
     "text": [
      "Downloading f2021-10-05_2021-10-16.html\n",
      "Setting new values to search: day: 16, month: 10, year: 2021\n"
     ]
    },
    {
     "name": "stderr",
     "output_type": "stream",
     "text": [
      "\r",
      " 18%|█████████████▉                                                               | 4947/27328 [04:23<22:30, 16.58it/s]"
     ]
    },
    {
     "name": "stdout",
     "output_type": "stream",
     "text": [
      "Downloading f2021-10-16_2021-10-25.html\n",
      "Setting new values to search: day: 25, month: 10, year: 2021\n"
     ]
    },
    {
     "name": "stderr",
     "output_type": "stream",
     "text": [
      " 18%|█████████████▉                                                               | 4952/27328 [04:47<29:08, 12.80it/s]"
     ]
    },
    {
     "name": "stdout",
     "output_type": "stream",
     "text": [
      "Downloading f2021-10-16_2021-10-25.html\n",
      "Setting new values to search: day: 25, month: 10, year: 2021\n",
      "Downloading f2021-10-16_2021-10-25.html\n",
      "Setting new values to search: day: 25, month: 10, year: 2021\n"
     ]
    },
    {
     "name": "stderr",
     "output_type": "stream",
     "text": [
      "\r",
      " 18%|█████████████▉                                                               | 4955/27328 [05:35<49:06,  7.59it/s]"
     ]
    },
    {
     "name": "stdout",
     "output_type": "stream",
     "text": [
      "Downloading f2021-10-16_2021-10-25.html\n",
      "Setting new values to search: day: 25, month: 10, year: 2021\n"
     ]
    },
    {
     "name": "stderr",
     "output_type": "stream",
     "text": [
      "\r",
      " 18%|█████████████▌                                                             | 4956/27328 [06:02<1:04:39,  5.77it/s]"
     ]
    },
    {
     "name": "stdout",
     "output_type": "stream",
     "text": [
      "Downloading f2021-10-16_2021-10-25.html\n",
      "Setting new values to search: day: 25, month: 10, year: 2021\n"
     ]
    },
    {
     "name": "stderr",
     "output_type": "stream",
     "text": [
      "\r",
      " 18%|█████████████▌                                                             | 4957/27328 [06:28<1:26:01,  4.33it/s]"
     ]
    },
    {
     "name": "stdout",
     "output_type": "stream",
     "text": [
      "Downloading f2021-10-16_2021-10-25.html\n",
      "Setting new values to search: day: 25, month: 10, year: 2021\n"
     ]
    },
    {
     "name": "stderr",
     "output_type": "stream",
     "text": [
      "\r",
      " 18%|█████████████▌                                                             | 4959/27328 [06:52<1:54:15,  3.26it/s]"
     ]
    },
    {
     "name": "stdout",
     "output_type": "stream",
     "text": [
      "Downloading f2021-10-16_2021-10-25.html\n",
      "Setting new values to search: day: 25, month: 10, year: 2021\n"
     ]
    },
    {
     "name": "stderr",
     "output_type": "stream",
     "text": [
      "\r",
      " 18%|█████████████▌                                                             | 4960/27328 [07:17<2:35:24,  2.40it/s]"
     ]
    },
    {
     "name": "stdout",
     "output_type": "stream",
     "text": [
      "Downloading f2021-10-16_2021-10-25.html\n",
      "Setting new values to search: day: 25, month: 10, year: 2021\n"
     ]
    },
    {
     "name": "stderr",
     "output_type": "stream",
     "text": [
      "\r",
      " 22%|████████████████▊                                                            | 5946/27328 [07:58<33:05, 10.77it/s]"
     ]
    },
    {
     "name": "stdout",
     "output_type": "stream",
     "text": [
      "Downloading f2021-10-25_2021-11-02.html\n",
      "Setting new values to search: day: 2, month: 11, year: 2021\n"
     ]
    },
    {
     "name": "stderr",
     "output_type": "stream",
     "text": [
      " 22%|████████████████▊                                                            | 5954/27328 [08:32<47:34,  7.49it/s]"
     ]
    },
    {
     "name": "stdout",
     "output_type": "stream",
     "text": [
      "Downloading f2021-10-25_2021-11-02.html\n",
      "Setting new values to search: day: 2, month: 11, year: 2021\n"
     ]
    },
    {
     "name": "stderr",
     "output_type": "stream",
     "text": [
      "\r",
      " 22%|████████████████▎                                                          | 5964/27328 [09:01<1:04:24,  5.53it/s]"
     ]
    },
    {
     "name": "stdout",
     "output_type": "stream",
     "text": [
      "Downloading f2021-10-25_2021-11-02.html\n",
      "Setting new values to search: day: 2, month: 11, year: 2021\n"
     ]
    },
    {
     "name": "stderr",
     "output_type": "stream",
     "text": [
      "\r",
      " 22%|████████████████▎                                                          | 5965/27328 [09:29<1:29:11,  3.99it/s]"
     ]
    },
    {
     "name": "stdout",
     "output_type": "stream",
     "text": [
      "Downloading f2021-10-25_2021-11-02.html\n",
      "Setting new values to search: day: 2, month: 11, year: 2021\n"
     ]
    },
    {
     "name": "stderr",
     "output_type": "stream",
     "text": [
      "\r",
      " 25%|███████████████████▌                                                         | 6945/27328 [10:04<28:25, 11.95it/s]"
     ]
    },
    {
     "name": "stdout",
     "output_type": "stream",
     "text": [
      "Downloading f2021-11-02_2021-11-10.html\n",
      "Setting new values to search: day: 10, month: 11, year: 2021\n"
     ]
    },
    {
     "name": "stderr",
     "output_type": "stream",
     "text": [
      " 25%|███████████████████▌                                                         | 6948/27328 [10:43<43:28,  7.81it/s]"
     ]
    },
    {
     "name": "stdout",
     "output_type": "stream",
     "text": [
      "Downloading f2021-11-02_2021-11-10.html\n",
      "Setting new values to search: day: 10, month: 11, year: 2021\n"
     ]
    },
    {
     "name": "stderr",
     "output_type": "stream",
     "text": [
      "\r",
      " 25%|███████████████████                                                        | 6950/27328 [11:14<1:00:01,  5.66it/s]"
     ]
    },
    {
     "name": "stdout",
     "output_type": "stream",
     "text": [
      "Downloading f2021-11-02_2021-11-10.html\n",
      "Setting new values to search: day: 10, month: 11, year: 2021\n"
     ]
    },
    {
     "name": "stderr",
     "output_type": "stream",
     "text": [
      "\r",
      " 25%|███████████████████                                                        | 6951/27328 [12:41<2:07:40,  2.66it/s]"
     ]
    },
    {
     "name": "stdout",
     "output_type": "stream",
     "text": [
      "Downloading f2021-11-10_2021-11-10.html\n",
      "Setting new values to search: day: 10, month: 11, year: 2021\n"
     ]
    },
    {
     "name": "stderr",
     "output_type": "stream",
     "text": [
      "\r",
      " 29%|██████████████████████▏                                                      | 7891/27328 [13:09<37:08,  8.72it/s]"
     ]
    },
    {
     "name": "stdout",
     "output_type": "stream",
     "text": [
      "Downloading f2021-11-10_2021-11-21.html\n",
      "Setting new values to search: day: 21, month: 11, year: 2021\n"
     ]
    },
    {
     "name": "stderr",
     "output_type": "stream",
     "text": [
      " 29%|██████████████████████▎                                                      | 7902/27328 [13:37<46:56,  6.90it/s]"
     ]
    },
    {
     "name": "stdout",
     "output_type": "stream",
     "text": [
      "Downloading f2021-11-10_2021-11-21.html\n",
      "Setting new values to search: day: 21, month: 11, year: 2021\n"
     ]
    },
    {
     "name": "stderr",
     "output_type": "stream",
     "text": [
      "\r",
      " 32%|█████████████████████████                                                    | 8875/27328 [14:15<24:35, 12.51it/s]"
     ]
    },
    {
     "name": "stdout",
     "output_type": "stream",
     "text": [
      "Downloading f2021-11-21_2021-12-03.html\n",
      "Setting new values to search: day: 3, month: 12, year: 2021\n"
     ]
    },
    {
     "name": "stderr",
     "output_type": "stream",
     "text": [
      " 36%|███████████████████████████▋                                                 | 9823/27328 [14:40<16:15, 17.95it/s]"
     ]
    },
    {
     "name": "stdout",
     "output_type": "stream",
     "text": [
      "Downloading f2021-12-03_2021-12-15.html\n"
     ]
    },
    {
     "name": "stderr",
     "output_type": "stream",
     "text": [
      "\r",
      " 36%|███████████████████████████▋                                                 | 9823/27328 [14:54<16:15, 17.95it/s]"
     ]
    },
    {
     "name": "stdout",
     "output_type": "stream",
     "text": [
      "Setting new values to search: day: 15, month: 12, year: 2021\n"
     ]
    },
    {
     "name": "stderr",
     "output_type": "stream",
     "text": [
      "\r",
      " 36%|███████████████████████████▋                                                 | 9845/27328 [15:21<24:05, 12.10it/s]"
     ]
    },
    {
     "name": "stdout",
     "output_type": "stream",
     "text": [
      "Downloading f2021-12-03_2021-12-15.html\n",
      "Setting new values to search: day: 15, month: 12, year: 2021\n"
     ]
    },
    {
     "name": "stderr",
     "output_type": "stream",
     "text": [
      "\r",
      " 36%|███████████████████████████▋                                                 | 9846/27328 [15:46<31:07,  9.36it/s]"
     ]
    },
    {
     "name": "stdout",
     "output_type": "stream",
     "text": [
      "Downloading f2021-12-03_2021-12-15.html\n",
      "Setting new values to search: day: 15, month: 12, year: 2021\n"
     ]
    },
    {
     "name": "stderr",
     "output_type": "stream",
     "text": [
      "\r",
      " 36%|███████████████████████████▊                                                 | 9851/27328 [16:06<39:04,  7.46it/s]"
     ]
    },
    {
     "name": "stdout",
     "output_type": "stream",
     "text": [
      "Downloading f2021-12-03_2021-12-15.html\n",
      "Setting new values to search: day: 15, month: 12, year: 2021\n"
     ]
    },
    {
     "name": "stderr",
     "output_type": "stream",
     "text": [
      "\r",
      " 36%|███████████████████████████▊                                                 | 9853/27328 [16:28<51:35,  5.64it/s]"
     ]
    },
    {
     "name": "stdout",
     "output_type": "stream",
     "text": [
      "Downloading f2021-12-03_2021-12-15.html\n",
      "Setting new values to search: day: 15, month: 12, year: 2021\n"
     ]
    },
    {
     "name": "stderr",
     "output_type": "stream",
     "text": [
      "\r",
      " 36%|███████████████████████████                                                | 9854/27328 [16:53<1:11:15,  4.09it/s]"
     ]
    },
    {
     "name": "stdout",
     "output_type": "stream",
     "text": [
      "Downloading f2021-12-03_2021-12-15.html\n",
      "Setting new values to search: day: 15, month: 12, year: 2021\n"
     ]
    },
    {
     "name": "stderr",
     "output_type": "stream",
     "text": [
      "\r",
      " 36%|███████████████████████████                                                | 9855/27328 [17:22<1:44:27,  2.79it/s]"
     ]
    },
    {
     "name": "stdout",
     "output_type": "stream",
     "text": [
      "Downloading f2021-12-03_2021-12-15.html\n",
      "Setting new values to search: day: 15, month: 12, year: 2021\n"
     ]
    },
    {
     "name": "stderr",
     "output_type": "stream",
     "text": [
      "\r",
      " 39%|█████████████████████████████▊                                              | 10731/27328 [17:50<23:59, 11.53it/s]"
     ]
    },
    {
     "name": "stdout",
     "output_type": "stream",
     "text": [
      "Downloading f2021-12-15_2021-12-27.html\n",
      "Setting new values to search: day: 27, month: 12, year: 2021\n"
     ]
    },
    {
     "name": "stderr",
     "output_type": "stream",
     "text": [
      " 39%|█████████████████████████████▊                                              | 10740/27328 [18:28<38:02,  7.27it/s]"
     ]
    },
    {
     "name": "stdout",
     "output_type": "stream",
     "text": [
      "Downloading f2021-12-15_2021-12-27.html\n",
      "Setting new values to search: day: 27, month: 12, year: 2021\n"
     ]
    },
    {
     "name": "stderr",
     "output_type": "stream",
     "text": [
      "\r",
      " 39%|█████████████████████████████▉                                              | 10750/27328 [18:57<52:23,  5.27it/s]"
     ]
    },
    {
     "name": "stdout",
     "output_type": "stream",
     "text": [
      "Downloading f2021-12-15_2021-12-27.html\n",
      "Setting new values to search: day: 27, month: 12, year: 2021\n"
     ]
    },
    {
     "name": "stderr",
     "output_type": "stream",
     "text": [
      "\r",
      " 43%|████████████████████████████████▍                                           | 11680/27328 [19:24<19:32, 13.35it/s]"
     ]
    },
    {
     "name": "stdout",
     "output_type": "stream",
     "text": [
      "Downloading f2021-12-27_2022-01-03.html\n",
      "Setting new values to search: day: 3, month: 1, year: 2022\n"
     ]
    },
    {
     "name": "stderr",
     "output_type": "stream",
     "text": [
      " 43%|████████████████████████████████▍                                           | 11681/27328 [19:46<25:46, 10.12it/s]"
     ]
    },
    {
     "name": "stdout",
     "output_type": "stream",
     "text": [
      "Downloading f2021-12-27_2022-01-03.html\n",
      "Setting new values to search: day: 3, month: 1, year: 2022\n"
     ]
    },
    {
     "name": "stderr",
     "output_type": "stream",
     "text": [
      "\r",
      " 43%|████████████████████████████████▍                                           | 11683/27328 [20:09<34:49,  7.49it/s]"
     ]
    },
    {
     "name": "stdout",
     "output_type": "stream",
     "text": [
      "Downloading f2021-12-27_2022-01-03.html\n",
      "Setting new values to search: day: 3, month: 1, year: 2022\n",
      "Downloading f2021-12-27_2022-01-03.html\n",
      "Setting new values to search: day: 3, month: 1, year: 2022\n",
      "Downloading f2021-12-27_2022-01-03.html\n",
      "Setting new values to search: day: 3, month: 1, year: 2022\n"
     ]
    },
    {
     "name": "stderr",
     "output_type": "stream",
     "text": [
      "\r",
      " 43%|███████████████████████████████▋                                          | 11685/27328 [21:38<1:26:14,  3.02it/s]"
     ]
    },
    {
     "name": "stdout",
     "output_type": "stream",
     "text": [
      "Downloading f2021-12-27_2022-01-03.html\n",
      "Setting new values to search: day: 3, month: 1, year: 2022\n"
     ]
    },
    {
     "name": "stderr",
     "output_type": "stream",
     "text": [
      "\r",
      " 43%|███████████████████████████████▋                                          | 11686/27328 [22:49<2:24:41,  1.80it/s]"
     ]
    },
    {
     "name": "stdout",
     "output_type": "stream",
     "text": [
      "Downloading f2021-12-27_2022-01-03.html\n",
      "Setting new values to search: day: 3, month: 1, year: 2022\n",
      "Downloading f2021-12-27_2022-01-03.html\n",
      "Setting new values to search: day: 3, month: 1, year: 2022\n"
     ]
    },
    {
     "name": "stderr",
     "output_type": "stream",
     "text": [
      "\r",
      " 46%|██████████████████████████████████▉                                         | 12578/27328 [24:17<46:26,  5.29it/s]"
     ]
    },
    {
     "name": "stdout",
     "output_type": "stream",
     "text": [
      "Downloading f2022-01-03_2022-01-12.html\n",
      "Setting new values to search: day: 12, month: 1, year: 2022\n"
     ]
    },
    {
     "name": "stderr",
     "output_type": "stream",
     "text": [
      " 49%|█████████████████████████████████████▍                                      | 13477/27328 [25:01<26:18,  8.78it/s]"
     ]
    },
    {
     "name": "stdout",
     "output_type": "stream",
     "text": [
      "Downloading f2022-01-12_2022-01-20.html\n",
      "Setting new values to search: day: 20, month: 1, year: 2022\n"
     ]
    },
    {
     "name": "stderr",
     "output_type": "stream",
     "text": [
      " 49%|█████████████████████████████████████▌                                      | 13493/27328 [25:22<30:02,  7.68it/s]"
     ]
    },
    {
     "name": "stdout",
     "output_type": "stream",
     "text": [
      "Downloading f2022-01-12_2022-01-20.html\n",
      "Setting new values to search: day: 20, month: 1, year: 2022\n"
     ]
    },
    {
     "name": "stderr",
     "output_type": "stream",
     "text": [
      "\r",
      " 49%|█████████████████████████████████████▌                                      | 13513/27328 [25:42<34:39,  6.64it/s]"
     ]
    },
    {
     "name": "stdout",
     "output_type": "stream",
     "text": [
      "Downloading f2022-01-12_2022-01-20.html\n",
      "Setting new values to search: day: 20, month: 1, year: 2022\n"
     ]
    },
    {
     "name": "stderr",
     "output_type": "stream",
     "text": [
      "\r",
      " 49%|█████████████████████████████████████▌                                      | 13518/27328 [26:05<43:03,  5.35it/s]"
     ]
    },
    {
     "name": "stdout",
     "output_type": "stream",
     "text": [
      "Downloading f2022-01-12_2022-01-20.html\n",
      "Setting new values to search: day: 20, month: 1, year: 2022\n"
     ]
    },
    {
     "name": "stderr",
     "output_type": "stream",
     "text": [
      "\r",
      " 49%|█████████████████████████████████████▌                                      | 13526/27328 [26:33<57:31,  4.00it/s]"
     ]
    },
    {
     "name": "stdout",
     "output_type": "stream",
     "text": [
      "Downloading f2022-01-12_2022-01-20.html\n",
      "Setting new values to search: day: 20, month: 1, year: 2022\n"
     ]
    },
    {
     "name": "stderr",
     "output_type": "stream",
     "text": [
      "\r",
      " 49%|████████████████████████████████████▋                                     | 13527/27328 [26:56<1:14:55,  3.07it/s]"
     ]
    },
    {
     "name": "stdout",
     "output_type": "stream",
     "text": [
      "Downloading f2022-01-12_2022-01-20.html\n",
      "Setting new values to search: day: 20, month: 1, year: 2022\n"
     ]
    },
    {
     "name": "stderr",
     "output_type": "stream",
     "text": [
      "\r",
      " 50%|████████████████████████████████████▋                                     | 13530/27328 [27:21<1:40:02,  2.30it/s]"
     ]
    },
    {
     "name": "stdout",
     "output_type": "stream",
     "text": [
      "Downloading f2022-01-12_2022-01-20.html\n",
      "Setting new values to search: day: 20, month: 1, year: 2022\n"
     ]
    },
    {
     "name": "stderr",
     "output_type": "stream",
     "text": [
      "\r",
      " 53%|████████████████████████████████████████▎                                   | 14483/27328 [27:40<16:25, 13.03it/s]"
     ]
    },
    {
     "name": "stdout",
     "output_type": "stream",
     "text": [
      "Downloading f2022-01-20_2022-01-27.html\n",
      "Setting new values to search: day: 27, month: 1, year: 2022\n"
     ]
    },
    {
     "name": "stderr",
     "output_type": "stream",
     "text": [
      " 53%|████████████████████████████████████████▎                                   | 14508/27328 [28:02<21:40,  9.86it/s]"
     ]
    },
    {
     "name": "stdout",
     "output_type": "stream",
     "text": [
      "Downloading f2022-01-20_2022-01-27.html\n",
      "Setting new values to search: day: 27, month: 1, year: 2022\n"
     ]
    },
    {
     "name": "stderr",
     "output_type": "stream",
     "text": [
      "\r",
      " 53%|████████████████████████████████████████▍                                   | 14519/27328 [28:21<28:23,  7.52it/s]"
     ]
    },
    {
     "name": "stdout",
     "output_type": "stream",
     "text": [
      "Downloading f2022-01-20_2022-01-27.html\n",
      "Setting new values to search: day: 27, month: 1, year: 2022\n"
     ]
    },
    {
     "name": "stderr",
     "output_type": "stream",
     "text": [
      "\r",
      " 53%|████████████████████████████████████████▍                                   | 14527/27328 [28:40<38:12,  5.58it/s]"
     ]
    },
    {
     "name": "stdout",
     "output_type": "stream",
     "text": [
      "Downloading f2022-01-20_2022-01-27.html\n",
      "Setting new values to search: day: 27, month: 1, year: 2022\n"
     ]
    },
    {
     "name": "stderr",
     "output_type": "stream",
     "text": [
      "\r",
      " 53%|████████████████████████████████████████▍                                   | 14531/27328 [29:01<53:01,  4.02it/s]"
     ]
    },
    {
     "name": "stdout",
     "output_type": "stream",
     "text": [
      "Downloading f2022-01-20_2022-01-27.html\n",
      "Setting new values to search: day: 27, month: 1, year: 2022\n"
     ]
    },
    {
     "name": "stderr",
     "output_type": "stream",
     "text": [
      "\r",
      " 56%|██████████████████████████████████████████▊                                 | 15390/27328 [29:25<13:57, 14.25it/s]"
     ]
    },
    {
     "name": "stdout",
     "output_type": "stream",
     "text": [
      "Downloading f2022-01-27_2022-02-03.html\n",
      "Setting new values to search: day: 3, month: 2, year: 2022\n"
     ]
    },
    {
     "name": "stderr",
     "output_type": "stream",
     "text": [
      " 56%|██████████████████████████████████████████▊                                 | 15408/27328 [29:50<20:01,  9.92it/s]"
     ]
    },
    {
     "name": "stdout",
     "output_type": "stream",
     "text": [
      "Downloading f2022-01-27_2022-02-03.html\n",
      "Setting new values to search: day: 3, month: 2, year: 2022\n"
     ]
    },
    {
     "name": "stderr",
     "output_type": "stream",
     "text": [
      "\r",
      " 60%|█████████████████████████████████████████████▎                              | 16295/27328 [30:16<10:19, 17.82it/s]"
     ]
    },
    {
     "name": "stdout",
     "output_type": "stream",
     "text": [
      "Downloading f2022-02-03_2022-02-11.html\n",
      "Setting new values to search: day: 11, month: 2, year: 2022\n"
     ]
    },
    {
     "name": "stderr",
     "output_type": "stream",
     "text": [
      " 63%|███████████████████████████████████████████████▊                            | 17204/27328 [30:45<07:31, 22.44it/s]"
     ]
    },
    {
     "name": "stdout",
     "output_type": "stream",
     "text": [
      "Downloading f2022-02-11_2022-02-20.html\n",
      "Setting new values to search: day: 20, month: 2, year: 2022\n"
     ]
    },
    {
     "name": "stderr",
     "output_type": "stream",
     "text": [
      " 63%|███████████████████████████████████████████████▉                            | 17221/27328 [31:06<10:05, 16.69it/s]"
     ]
    },
    {
     "name": "stdout",
     "output_type": "stream",
     "text": [
      "Downloading f2022-02-11_2022-02-20.html\n",
      "Setting new values to search: day: 20, month: 2, year: 2022\n"
     ]
    },
    {
     "name": "stderr",
     "output_type": "stream",
     "text": [
      "\r",
      " 63%|███████████████████████████████████████████████▉                            | 17228/27328 [31:34<14:49, 11.36it/s]"
     ]
    },
    {
     "name": "stdout",
     "output_type": "stream",
     "text": [
      "Downloading f2022-02-11_2022-02-20.html\n",
      "Setting new values to search: day: 20, month: 2, year: 2022\n"
     ]
    },
    {
     "name": "stderr",
     "output_type": "stream",
     "text": [
      "\r",
      " 63%|███████████████████████████████████████████████▉                            | 17237/27328 [32:02<21:40,  7.76it/s]"
     ]
    },
    {
     "name": "stdout",
     "output_type": "stream",
     "text": [
      "Downloading f2022-02-11_2022-02-20.html\n",
      "Setting new values to search: day: 20, month: 2, year: 2022\n"
     ]
    },
    {
     "name": "stderr",
     "output_type": "stream",
     "text": [
      "\r",
      " 67%|██████████████████████████████████████████████████▋                         | 18214/27328 [32:29<09:14, 16.43it/s]"
     ]
    },
    {
     "name": "stdout",
     "output_type": "stream",
     "text": [
      "Downloading f2022-02-20_2022-02-26.html\n",
      "Setting new values to search: day: 26, month: 2, year: 2022\n"
     ]
    },
    {
     "name": "stderr",
     "output_type": "stream",
     "text": [
      " 70%|█████████████████████████████████████████████████████▏                      | 19147/27328 [32:55<06:06, 22.33it/s]"
     ]
    },
    {
     "name": "stdout",
     "output_type": "stream",
     "text": [
      "Downloading f2022-02-26_2022-03-05.html\n",
      "Setting new values to search: day: 5, month: 3, year: 2022\n"
     ]
    },
    {
     "name": "stderr",
     "output_type": "stream",
     "text": [
      " 70%|█████████████████████████████████████████████████████▎                      | 19152/27328 [33:25<09:07, 14.94it/s]"
     ]
    },
    {
     "name": "stdout",
     "output_type": "stream",
     "text": [
      "Downloading f2022-02-26_2022-03-05.html\n",
      "Setting new values to search: day: 5, month: 3, year: 2022\n"
     ]
    },
    {
     "name": "stderr",
     "output_type": "stream",
     "text": [
      "\r",
      " 70%|█████████████████████████████████████████████████████▎                      | 19154/27328 [33:54<13:07, 10.38it/s]"
     ]
    },
    {
     "name": "stdout",
     "output_type": "stream",
     "text": [
      "Downloading f2022-02-26_2022-03-05.html\n",
      "Setting new values to search: day: 5, month: 3, year: 2022\n",
      "Downloading f2022-02-26_2022-03-05.html\n",
      "Setting new values to search: day: 5, month: 3, year: 2022\n",
      "Downloading f2022-02-26_2022-03-05.html\n",
      "Setting new values to search: day: 5, month: 3, year: 2022\n",
      "Downloading f2022-02-26_2022-03-05.html\n",
      "Setting new values to search: day: 5, month: 3, year: 2022\n"
     ]
    },
    {
     "name": "stderr",
     "output_type": "stream",
     "text": [
      "\r",
      " 74%|███████████████████████████████████████████████████████▉                    | 20116/27328 [35:43<12:46,  9.41it/s]"
     ]
    },
    {
     "name": "stdout",
     "output_type": "stream",
     "text": [
      "Downloading f2022-03-05_2022-03-09.html\n",
      "Setting new values to search: day: 9, month: 3, year: 2022\n"
     ]
    },
    {
     "name": "stderr",
     "output_type": "stream",
     "text": [
      "\r",
      " 74%|███████████████████████████████████████████████████████▉                    | 20127/27328 [36:10<15:26,  7.77it/s]"
     ]
    },
    {
     "name": "stdout",
     "output_type": "stream",
     "text": [
      "Downloading f2022-03-05_2022-03-09.html\n",
      "Setting new values to search: day: 9, month: 3, year: 2022\n"
     ]
    },
    {
     "name": "stderr",
     "output_type": "stream",
     "text": [
      "\r",
      " 74%|███████████████████████████████████████████████████████▉                    | 20128/27328 [36:35<19:12,  6.24it/s]"
     ]
    },
    {
     "name": "stdout",
     "output_type": "stream",
     "text": [
      "Downloading f2022-03-05_2022-03-09.html\n",
      "Setting new values to search: day: 9, month: 3, year: 2022\n"
     ]
    },
    {
     "name": "stderr",
     "output_type": "stream",
     "text": [
      "\r",
      " 74%|███████████████████████████████████████████████████████▉                    | 20129/27328 [37:01<24:43,  4.85it/s]"
     ]
    },
    {
     "name": "stdout",
     "output_type": "stream",
     "text": [
      "Downloading f2022-03-05_2022-03-09.html\n",
      "Setting new values to search: day: 9, month: 3, year: 2022\n"
     ]
    },
    {
     "name": "stderr",
     "output_type": "stream",
     "text": [
      "\r",
      " 76%|██████████████████████████████████████████████████████████                  | 20875/27328 [37:30<10:20, 10.40it/s]"
     ]
    },
    {
     "name": "stdout",
     "output_type": "stream",
     "text": [
      "Downloading f2022-03-09_2022-03-13.html\n",
      "Setting new values to search: day: 13, month: 3, year: 2022\n"
     ]
    },
    {
     "name": "stderr",
     "output_type": "stream",
     "text": [
      " 76%|██████████████████████████████████████████████████████████                  | 20879/27328 [37:54<13:30,  7.95it/s]"
     ]
    },
    {
     "name": "stdout",
     "output_type": "stream",
     "text": [
      "Downloading f2022-03-09_2022-03-13.html\n",
      "Setting new values to search: day: 13, month: 3, year: 2022\n",
      "Downloading f2022-03-09_2022-03-13.html\n",
      "Setting new values to search: day: 13, month: 3, year: 2022\n"
     ]
    },
    {
     "name": "stderr",
     "output_type": "stream",
     "text": [
      "\r",
      " 76%|██████████████████████████████████████████████████████████                  | 20883/27328 [38:49<23:53,  4.50it/s]"
     ]
    },
    {
     "name": "stdout",
     "output_type": "stream",
     "text": [
      "Downloading f2022-03-09_2022-03-13.html\n",
      "Setting new values to search: day: 13, month: 3, year: 2022\n",
      "Downloading f2022-03-09_2022-03-13.html\n",
      "Setting new values to search: day: 13, month: 3, year: 2022\n"
     ]
    },
    {
     "name": "stderr",
     "output_type": "stream",
     "text": [
      "\r",
      " 76%|██████████████████████████████████████████████████████████                  | 20884/27328 [39:41<37:54,  2.83it/s]"
     ]
    },
    {
     "name": "stdout",
     "output_type": "stream",
     "text": [
      "Downloading f2022-03-09_2022-03-13.html\n",
      "Setting new values to search: day: 13, month: 3, year: 2022\n"
     ]
    },
    {
     "name": "stderr",
     "output_type": "stream",
     "text": [
      "\r",
      " 80%|████████████████████████████████████████████████████████████▌               | 21768/27328 [40:13<10:22,  8.93it/s]"
     ]
    },
    {
     "name": "stdout",
     "output_type": "stream",
     "text": [
      "Downloading f2022-03-13_2022-03-18.html\n",
      "Setting new values to search: day: 18, month: 3, year: 2022\n"
     ]
    },
    {
     "name": "stderr",
     "output_type": "stream",
     "text": [
      " 80%|████████████████████████████████████████████████████████████▌               | 21775/27328 [40:41<13:28,  6.87it/s]"
     ]
    },
    {
     "name": "stdout",
     "output_type": "stream",
     "text": [
      "Downloading f2022-03-13_2022-03-18.html\n",
      "Setting new values to search: day: 18, month: 3, year: 2022\n"
     ]
    },
    {
     "name": "stderr",
     "output_type": "stream",
     "text": [
      "\r",
      " 80%|████████████████████████████████████████████████████████████▌               | 21779/27328 [41:08<17:38,  5.24it/s]"
     ]
    },
    {
     "name": "stdout",
     "output_type": "stream",
     "text": [
      "Downloading f2022-03-13_2022-03-18.html\n",
      "Setting new values to search: day: 18, month: 3, year: 2022\n"
     ]
    },
    {
     "name": "stderr",
     "output_type": "stream",
     "text": [
      "\r",
      " 80%|████████████████████████████████████████████████████████████▌               | 21780/27328 [41:35<23:44,  3.89it/s]"
     ]
    },
    {
     "name": "stdout",
     "output_type": "stream",
     "text": [
      "Downloading f2022-03-13_2022-03-18.html\n",
      "Setting new values to search: day: 18, month: 3, year: 2022\n"
     ]
    },
    {
     "name": "stderr",
     "output_type": "stream",
     "text": [
      "\r",
      " 80%|████████████████████████████████████████████████████████████▌               | 21785/27328 [42:00<31:16,  2.95it/s]"
     ]
    },
    {
     "name": "stdout",
     "output_type": "stream",
     "text": [
      "Downloading f2022-03-13_2022-03-18.html\n",
      "Setting new values to search: day: 18, month: 3, year: 2022\n"
     ]
    },
    {
     "name": "stderr",
     "output_type": "stream",
     "text": [
      "\r",
      " 80%|████████████████████████████████████████████████████████████▌               | 21788/27328 [42:42<49:26,  1.87it/s]"
     ]
    },
    {
     "name": "stdout",
     "output_type": "stream",
     "text": [
      "Downloading f2022-03-13_2022-03-18.html\n",
      "Setting new values to search: day: 18, month: 3, year: 2022\n"
     ]
    },
    {
     "name": "stderr",
     "output_type": "stream",
     "text": [
      "\r",
      " 80%|███████████████████████████████████████████████████████████               | 21790/27328 [43:23<1:14:46,  1.23it/s]"
     ]
    },
    {
     "name": "stdout",
     "output_type": "stream",
     "text": [
      "Downloading f2022-03-13_2022-03-18.html\n",
      "Setting new values to search: day: 18, month: 3, year: 2022\n",
      "Downloading f2022-03-13_2022-03-18.html\n",
      "Setting new values to search: day: 18, month: 3, year: 2022\n"
     ]
    },
    {
     "name": "stderr",
     "output_type": "stream",
     "text": [
      "\r",
      " 83%|███████████████████████████████████████████████████████████████             | 22692/27328 [44:30<11:30,  6.71it/s]"
     ]
    },
    {
     "name": "stdout",
     "output_type": "stream",
     "text": [
      "Downloading f2022-03-18_2022-03-24.html\n",
      "Setting new values to search: day: 24, month: 3, year: 2022\n"
     ]
    },
    {
     "name": "stderr",
     "output_type": "stream",
     "text": [
      " 83%|███████████████████████████████████████████████████████████████▏            | 22705/27328 [44:59<14:27,  5.33it/s]"
     ]
    },
    {
     "name": "stdout",
     "output_type": "stream",
     "text": [
      "Downloading f2022-03-18_2022-03-24.html\n",
      "Setting new values to search: day: 24, month: 3, year: 2022\n"
     ]
    },
    {
     "name": "stderr",
     "output_type": "stream",
     "text": [
      "\r",
      " 83%|███████████████████████████████████████████████████████████████▏            | 22712/27328 [45:30<18:58,  4.06it/s]"
     ]
    },
    {
     "name": "stdout",
     "output_type": "stream",
     "text": [
      "Downloading f2022-03-18_2022-03-24.html\n",
      "Setting new values to search: day: 24, month: 3, year: 2022\n"
     ]
    },
    {
     "name": "stderr",
     "output_type": "stream",
     "text": [
      "\r",
      " 83%|███████████████████████████████████████████████████████████████▏            | 22713/27328 [46:03<25:54,  2.97it/s]"
     ]
    },
    {
     "name": "stdout",
     "output_type": "stream",
     "text": [
      "Downloading f2022-03-18_2022-03-24.html\n",
      "Setting new values to search: day: 24, month: 3, year: 2022\n"
     ]
    },
    {
     "name": "stderr",
     "output_type": "stream",
     "text": [
      "\r",
      " 83%|███████████████████████████████████████████████████████████████▏            | 22714/27328 [46:37<36:19,  2.12it/s]"
     ]
    },
    {
     "name": "stdout",
     "output_type": "stream",
     "text": [
      "Downloading f2022-03-18_2022-03-24.html\n",
      "Setting new values to search: day: 24, month: 3, year: 2022\n",
      "Downloading f2022-03-18_2022-03-24.html\n",
      "Setting new values to search: day: 24, month: 3, year: 2022\n"
     ]
    },
    {
     "name": "stderr",
     "output_type": "stream",
     "text": [
      "\r",
      " 86%|█████████████████████████████████████████████████████████████████▎          | 23504/27328 [47:45<09:58,  6.39it/s]"
     ]
    },
    {
     "name": "stdout",
     "output_type": "stream",
     "text": [
      "Downloading f2022-03-24_2022-03-29.html\n",
      "Setting new values to search: day: 29, month: 3, year: 2022\n"
     ]
    },
    {
     "name": "stderr",
     "output_type": "stream",
     "text": [
      " 89%|███████████████████████████████████████████████████████████████████▊        | 24393/27328 [48:34<04:48, 10.17it/s]"
     ]
    },
    {
     "name": "stdout",
     "output_type": "stream",
     "text": [
      "Downloading f2022-03-29_2022-04-03.html\n",
      "Setting new values to search: day: 3, month: 4, year: 2022\n"
     ]
    },
    {
     "name": "stderr",
     "output_type": "stream",
     "text": [
      " 89%|███████████████████████████████████████████████████████████████████▊        | 24399/27328 [49:03<06:05,  8.01it/s]"
     ]
    },
    {
     "name": "stdout",
     "output_type": "stream",
     "text": [
      "Downloading f2022-03-29_2022-04-03.html\n",
      "Setting new values to search: day: 3, month: 4, year: 2022\n"
     ]
    },
    {
     "name": "stderr",
     "output_type": "stream",
     "text": [
      "\r",
      " 89%|███████████████████████████████████████████████████████████████████▊        | 24405/27328 [49:37<08:08,  5.98it/s]"
     ]
    },
    {
     "name": "stdout",
     "output_type": "stream",
     "text": [
      "Downloading f2022-03-29_2022-04-03.html\n",
      "Setting new values to search: day: 3, month: 4, year: 2022\n"
     ]
    },
    {
     "name": "stderr",
     "output_type": "stream",
     "text": [
      "\r",
      " 92%|██████████████████████████████████████████████████████████████████████      | 25180/27328 [50:05<03:13, 11.10it/s]"
     ]
    },
    {
     "name": "stdout",
     "output_type": "stream",
     "text": [
      "Downloading f2022-04-03_2022-04-07.html\n",
      "Setting new values to search: day: 7, month: 4, year: 2022\n",
      "Downloading f2022-04-07_2022-04-07.html\n",
      "Setting new values to search: day: 7, month: 4, year: 2022\n"
     ]
    },
    {
     "name": "stderr",
     "output_type": "stream",
     "text": [
      "\r",
      " 92%|██████████████████████████████████████████████████████████████████████      | 25180/27328 [50:16<03:13, 11.10it/s]"
     ]
    },
    {
     "name": "stdout",
     "output_type": "stream",
     "text": [
      "Downloading f2022-04-07_2022-04-07.html\n",
      "Setting new values to search: day: 7, month: 4, year: 2022\n",
      "Downloading f2022-04-07_2022-04-07.html\n",
      "Setting new values to search: day: 7, month: 4, year: 2022\n",
      "Downloading f2022-04-07_2022-04-07.html\n",
      "Setting new values to search: day: 7, month: 4, year: 2022\n",
      "Downloading f2022-04-07_2022-04-07.html\n",
      "Setting new values to search: day: 7, month: 4, year: 2022\n",
      "Downloading f2022-04-07_2022-04-07.html\n",
      "Setting new values to search: day: 7, month: 4, year: 2022\n",
      "Downloading f2022-04-07_2022-04-07.html\n",
      "Setting new values to search: day: 7, month: 4, year: 2022\n"
     ]
    },
    {
     "name": "stderr",
     "output_type": "stream",
     "text": [
      "\r",
      " 92%|██████████████████████████████████████████████████████████████████████      | 25181/27328 [51:15<05:56,  6.03it/s]"
     ]
    },
    {
     "name": "stdout",
     "output_type": "stream",
     "text": [
      "Downloading f2022-04-07_2022-04-07.html\n",
      "Setting new values to search: day: 7, month: 4, year: 2022\n",
      "Downloading f2022-04-07_2022-04-07.html\n",
      "Setting new values to search: day: 7, month: 4, year: 2022\n",
      "Downloading f2022-04-07_2022-04-07.html\n",
      "Setting new values to search: day: 7, month: 4, year: 2022\n",
      "Downloading f2022-04-07_2022-04-07.html\n",
      "Setting new values to search: day: 7, month: 4, year: 2022\n",
      "Downloading f2022-04-07_2022-04-07.html\n",
      "Setting new values to search: day: 7, month: 4, year: 2022\n",
      "Downloading f2022-04-07_2022-04-07.html\n",
      "Setting new values to search: day: 7, month: 4, year: 2022\n",
      "Downloading f2022-04-07_2022-04-07.html\n",
      "Setting new values to search: day: 7, month: 4, year: 2022\n",
      "Downloading f2022-04-07_2022-04-07.html\n",
      "Setting new values to search: day: 7, month: 4, year: 2022\n",
      "Downloading f2022-04-07_2022-04-07.html\n",
      "Setting new values to search: day: 7, month: 4, year: 2022\n",
      "Downloading f2022-04-07_2022-04-07.html\n",
      "Setting new values to search: day: 7, month: 4, year: 2022\n",
      "Downloading f2022-04-07_2022-04-07.html\n",
      "Setting new values to search: day: 7, month: 4, year: 2022\n",
      "Downloading f2022-04-07_2022-04-07.html\n",
      "Setting new values to search: day: 7, month: 4, year: 2022\n",
      "Downloading f2022-04-07_2022-04-07.html\n",
      "Setting new values to search: day: 7, month: 4, year: 2022\n"
     ]
    },
    {
     "name": "stderr",
     "output_type": "stream",
     "text": [
      " 92%|██████████████████████████████████████████████████████████████████████      | 25181/27328 [53:22<04:33,  7.86it/s]\n"
     ]
    },
    {
     "ename": "KeyboardInterrupt",
     "evalue": "",
     "output_type": "error",
     "traceback": [
      "\u001b[1;31m---------------------------------------------------------------------------\u001b[0m",
      "\u001b[1;31mKeyboardInterrupt\u001b[0m                         Traceback (most recent call last)",
      "Input \u001b[1;32mIn [11]\u001b[0m, in \u001b[0;36m<module>\u001b[1;34m\u001b[0m\n\u001b[0;32m      1\u001b[0m \u001b[38;5;28;01mwith\u001b[39;00m tqdm(total\u001b[38;5;241m=\u001b[39mtotal_count, position\u001b[38;5;241m=\u001b[39m\u001b[38;5;241m0\u001b[39m, leave\u001b[38;5;241m=\u001b[39m\u001b[38;5;28;01mTrue\u001b[39;00m) \u001b[38;5;28;01mas\u001b[39;00m pbar:\n\u001b[0;32m      2\u001b[0m     \u001b[38;5;28;01mwhile\u001b[39;00m current_count \u001b[38;5;241m<\u001b[39m total_count:\n\u001b[1;32m----> 3\u001b[0m         soup \u001b[38;5;241m=\u001b[39m bs(\u001b[43mget_all_results\u001b[49m\u001b[43m(\u001b[49m\u001b[43mcookies\u001b[49m\u001b[43m)\u001b[49m)\n\u001b[0;32m      4\u001b[0m         prettyHTML \u001b[38;5;241m=\u001b[39m soup\u001b[38;5;241m.\u001b[39mprettify()\n\u001b[0;32m      5\u001b[0m         all_dates \u001b[38;5;241m=\u001b[39m [el\u001b[38;5;241m.\u001b[39mcontents[\u001b[38;5;241m0\u001b[39m]\u001b[38;5;241m.\u001b[39mstrip() \u001b[38;5;28;01mfor\u001b[39;00m el \u001b[38;5;129;01min\u001b[39;00m soup\u001b[38;5;241m.\u001b[39mfind_all(\u001b[38;5;124m\"\u001b[39m\u001b[38;5;124mspan\u001b[39m\u001b[38;5;124m\"\u001b[39m, {\u001b[38;5;124m\"\u001b[39m\u001b[38;5;124mclass\u001b[39m\u001b[38;5;124m\"\u001b[39m: \u001b[38;5;124m\"\u001b[39m\u001b[38;5;124mdetails\u001b[39m\u001b[38;5;124m\"\u001b[39m})]\n",
      "Input \u001b[1;32mIn [10]\u001b[0m, in \u001b[0;36mget_all_results\u001b[1;34m(cookies, step)\u001b[0m\n\u001b[0;32m      2\u001b[0m url \u001b[38;5;241m=\u001b[39m \u001b[38;5;124m\"\u001b[39m\u001b[38;5;124mhttps://nouveau-europresse-com.accesdistant.sorbonne-universite.fr/DocumentList/GetNextPage\u001b[39m\u001b[38;5;124m\"\u001b[39m\n\u001b[0;32m      4\u001b[0m params \u001b[38;5;241m=\u001b[39m {\n\u001b[0;32m      5\u001b[0m     \u001b[38;5;124m'\u001b[39m\u001b[38;5;124mlistType\u001b[39m\u001b[38;5;124m'\u001b[39m: \u001b[38;5;241m1\u001b[39m,\n\u001b[0;32m      6\u001b[0m     \u001b[38;5;124m'\u001b[39m\u001b[38;5;124mpageNo\u001b[39m\u001b[38;5;124m'\u001b[39m: \u001b[38;5;241m0\u001b[39m,\n\u001b[0;32m      7\u001b[0m     \u001b[38;5;124m'\u001b[39m\u001b[38;5;124mdocPerPage\u001b[39m\u001b[38;5;124m'\u001b[39m: step\n\u001b[0;32m      8\u001b[0m }\n\u001b[1;32m----> 9\u001b[0m res \u001b[38;5;241m=\u001b[39m \u001b[43mrequests\u001b[49m\u001b[38;5;241;43m.\u001b[39;49m\u001b[43mget\u001b[49m\u001b[43m(\u001b[49m\u001b[38;5;124;43m'\u001b[39;49m\u001b[38;5;124;43mhttps://nouveau-europresse-com.accesdistant.sorbonne-universite.fr/DocumentList/GetNextPage\u001b[39;49m\u001b[38;5;124;43m'\u001b[39;49m\u001b[43m,\u001b[49m\u001b[43m \u001b[49m\n\u001b[0;32m     10\u001b[0m \u001b[43m                   \u001b[49m\u001b[43mcookies\u001b[49m\u001b[38;5;241;43m=\u001b[39;49m\u001b[43mcookies\u001b[49m\u001b[43m,\u001b[49m\u001b[43m \u001b[49m\n\u001b[0;32m     11\u001b[0m \u001b[43m                   \u001b[49m\u001b[43mparams\u001b[49m\u001b[38;5;241;43m=\u001b[39;49m\u001b[43mparams\u001b[49m\u001b[43m,\u001b[49m\u001b[43m \u001b[49m\u001b[43mverify\u001b[49m\u001b[38;5;241;43m=\u001b[39;49m\u001b[38;5;28;43;01mFalse\u001b[39;49;00m\u001b[43m)\u001b[49m\n\u001b[0;32m     12\u001b[0m \u001b[38;5;28;01mreturn\u001b[39;00m res\u001b[38;5;241m.\u001b[39mcontent\u001b[38;5;241m.\u001b[39mdecode()\n",
      "File \u001b[1;32mc:\\users\\utilisateur\\miniconda3\\lib\\site-packages\\requests\\api.py:76\u001b[0m, in \u001b[0;36mget\u001b[1;34m(url, params, **kwargs)\u001b[0m\n\u001b[0;32m     65\u001b[0m \u001b[38;5;124mr\u001b[39m\u001b[38;5;124;03m\"\"\"Sends a GET request.\u001b[39;00m\n\u001b[0;32m     66\u001b[0m \n\u001b[0;32m     67\u001b[0m \u001b[38;5;124;03m:param url: URL for the new :class:`Request` object.\u001b[39;00m\n\u001b[1;32m   (...)\u001b[0m\n\u001b[0;32m     72\u001b[0m \u001b[38;5;124;03m:rtype: requests.Response\u001b[39;00m\n\u001b[0;32m     73\u001b[0m \u001b[38;5;124;03m\"\"\"\u001b[39;00m\n\u001b[0;32m     75\u001b[0m kwargs\u001b[38;5;241m.\u001b[39msetdefault(\u001b[38;5;124m'\u001b[39m\u001b[38;5;124mallow_redirects\u001b[39m\u001b[38;5;124m'\u001b[39m, \u001b[38;5;28;01mTrue\u001b[39;00m)\n\u001b[1;32m---> 76\u001b[0m \u001b[38;5;28;01mreturn\u001b[39;00m request(\u001b[38;5;124m'\u001b[39m\u001b[38;5;124mget\u001b[39m\u001b[38;5;124m'\u001b[39m, url, params\u001b[38;5;241m=\u001b[39mparams, \u001b[38;5;241m*\u001b[39m\u001b[38;5;241m*\u001b[39mkwargs)\n",
      "File \u001b[1;32mc:\\users\\utilisateur\\miniconda3\\lib\\site-packages\\requests\\api.py:61\u001b[0m, in \u001b[0;36mrequest\u001b[1;34m(method, url, **kwargs)\u001b[0m\n\u001b[0;32m     57\u001b[0m \u001b[38;5;66;03m# By using the 'with' statement we are sure the session is closed, thus we\u001b[39;00m\n\u001b[0;32m     58\u001b[0m \u001b[38;5;66;03m# avoid leaving sockets open which can trigger a ResourceWarning in some\u001b[39;00m\n\u001b[0;32m     59\u001b[0m \u001b[38;5;66;03m# cases, and look like a memory leak in others.\u001b[39;00m\n\u001b[0;32m     60\u001b[0m \u001b[38;5;28;01mwith\u001b[39;00m sessions\u001b[38;5;241m.\u001b[39mSession() \u001b[38;5;28;01mas\u001b[39;00m session:\n\u001b[1;32m---> 61\u001b[0m     \u001b[38;5;28;01mreturn\u001b[39;00m session\u001b[38;5;241m.\u001b[39mrequest(method\u001b[38;5;241m=\u001b[39mmethod, url\u001b[38;5;241m=\u001b[39murl, \u001b[38;5;241m*\u001b[39m\u001b[38;5;241m*\u001b[39mkwargs)\n",
      "File \u001b[1;32mc:\\users\\utilisateur\\miniconda3\\lib\\site-packages\\requests\\sessions.py:542\u001b[0m, in \u001b[0;36mSession.request\u001b[1;34m(self, method, url, params, data, headers, cookies, files, auth, timeout, allow_redirects, proxies, hooks, stream, verify, cert, json)\u001b[0m\n\u001b[0;32m    537\u001b[0m send_kwargs \u001b[38;5;241m=\u001b[39m {\n\u001b[0;32m    538\u001b[0m     \u001b[38;5;124m'\u001b[39m\u001b[38;5;124mtimeout\u001b[39m\u001b[38;5;124m'\u001b[39m: timeout,\n\u001b[0;32m    539\u001b[0m     \u001b[38;5;124m'\u001b[39m\u001b[38;5;124mallow_redirects\u001b[39m\u001b[38;5;124m'\u001b[39m: allow_redirects,\n\u001b[0;32m    540\u001b[0m }\n\u001b[0;32m    541\u001b[0m send_kwargs\u001b[38;5;241m.\u001b[39mupdate(settings)\n\u001b[1;32m--> 542\u001b[0m resp \u001b[38;5;241m=\u001b[39m \u001b[38;5;28mself\u001b[39m\u001b[38;5;241m.\u001b[39msend(prep, \u001b[38;5;241m*\u001b[39m\u001b[38;5;241m*\u001b[39msend_kwargs)\n\u001b[0;32m    544\u001b[0m \u001b[38;5;28;01mreturn\u001b[39;00m resp\n",
      "File \u001b[1;32mc:\\users\\utilisateur\\miniconda3\\lib\\site-packages\\requests\\sessions.py:655\u001b[0m, in \u001b[0;36mSession.send\u001b[1;34m(self, request, **kwargs)\u001b[0m\n\u001b[0;32m    652\u001b[0m start \u001b[38;5;241m=\u001b[39m preferred_clock()\n\u001b[0;32m    654\u001b[0m \u001b[38;5;66;03m# Send the request\u001b[39;00m\n\u001b[1;32m--> 655\u001b[0m r \u001b[38;5;241m=\u001b[39m adapter\u001b[38;5;241m.\u001b[39msend(request, \u001b[38;5;241m*\u001b[39m\u001b[38;5;241m*\u001b[39mkwargs)\n\u001b[0;32m    657\u001b[0m \u001b[38;5;66;03m# Total elapsed time of the request (approximately)\u001b[39;00m\n\u001b[0;32m    658\u001b[0m elapsed \u001b[38;5;241m=\u001b[39m preferred_clock() \u001b[38;5;241m-\u001b[39m start\n",
      "File \u001b[1;32mc:\\users\\utilisateur\\miniconda3\\lib\\site-packages\\requests\\adapters.py:439\u001b[0m, in \u001b[0;36mHTTPAdapter.send\u001b[1;34m(self, request, stream, timeout, verify, cert, proxies)\u001b[0m\n\u001b[0;32m    437\u001b[0m \u001b[38;5;28;01mtry\u001b[39;00m:\n\u001b[0;32m    438\u001b[0m     \u001b[38;5;28;01mif\u001b[39;00m \u001b[38;5;129;01mnot\u001b[39;00m chunked:\n\u001b[1;32m--> 439\u001b[0m         resp \u001b[38;5;241m=\u001b[39m \u001b[43mconn\u001b[49m\u001b[38;5;241;43m.\u001b[39;49m\u001b[43murlopen\u001b[49m\u001b[43m(\u001b[49m\n\u001b[0;32m    440\u001b[0m \u001b[43m            \u001b[49m\u001b[43mmethod\u001b[49m\u001b[38;5;241;43m=\u001b[39;49m\u001b[43mrequest\u001b[49m\u001b[38;5;241;43m.\u001b[39;49m\u001b[43mmethod\u001b[49m\u001b[43m,\u001b[49m\n\u001b[0;32m    441\u001b[0m \u001b[43m            \u001b[49m\u001b[43murl\u001b[49m\u001b[38;5;241;43m=\u001b[39;49m\u001b[43murl\u001b[49m\u001b[43m,\u001b[49m\n\u001b[0;32m    442\u001b[0m \u001b[43m            \u001b[49m\u001b[43mbody\u001b[49m\u001b[38;5;241;43m=\u001b[39;49m\u001b[43mrequest\u001b[49m\u001b[38;5;241;43m.\u001b[39;49m\u001b[43mbody\u001b[49m\u001b[43m,\u001b[49m\n\u001b[0;32m    443\u001b[0m \u001b[43m            \u001b[49m\u001b[43mheaders\u001b[49m\u001b[38;5;241;43m=\u001b[39;49m\u001b[43mrequest\u001b[49m\u001b[38;5;241;43m.\u001b[39;49m\u001b[43mheaders\u001b[49m\u001b[43m,\u001b[49m\n\u001b[0;32m    444\u001b[0m \u001b[43m            \u001b[49m\u001b[43mredirect\u001b[49m\u001b[38;5;241;43m=\u001b[39;49m\u001b[38;5;28;43;01mFalse\u001b[39;49;00m\u001b[43m,\u001b[49m\n\u001b[0;32m    445\u001b[0m \u001b[43m            \u001b[49m\u001b[43massert_same_host\u001b[49m\u001b[38;5;241;43m=\u001b[39;49m\u001b[38;5;28;43;01mFalse\u001b[39;49;00m\u001b[43m,\u001b[49m\n\u001b[0;32m    446\u001b[0m \u001b[43m            \u001b[49m\u001b[43mpreload_content\u001b[49m\u001b[38;5;241;43m=\u001b[39;49m\u001b[38;5;28;43;01mFalse\u001b[39;49;00m\u001b[43m,\u001b[49m\n\u001b[0;32m    447\u001b[0m \u001b[43m            \u001b[49m\u001b[43mdecode_content\u001b[49m\u001b[38;5;241;43m=\u001b[39;49m\u001b[38;5;28;43;01mFalse\u001b[39;49;00m\u001b[43m,\u001b[49m\n\u001b[0;32m    448\u001b[0m \u001b[43m            \u001b[49m\u001b[43mretries\u001b[49m\u001b[38;5;241;43m=\u001b[39;49m\u001b[38;5;28;43mself\u001b[39;49m\u001b[38;5;241;43m.\u001b[39;49m\u001b[43mmax_retries\u001b[49m\u001b[43m,\u001b[49m\n\u001b[0;32m    449\u001b[0m \u001b[43m            \u001b[49m\u001b[43mtimeout\u001b[49m\u001b[38;5;241;43m=\u001b[39;49m\u001b[43mtimeout\u001b[49m\n\u001b[0;32m    450\u001b[0m \u001b[43m        \u001b[49m\u001b[43m)\u001b[49m\n\u001b[0;32m    452\u001b[0m     \u001b[38;5;66;03m# Send the request.\u001b[39;00m\n\u001b[0;32m    453\u001b[0m     \u001b[38;5;28;01melse\u001b[39;00m:\n\u001b[0;32m    454\u001b[0m         \u001b[38;5;28;01mif\u001b[39;00m \u001b[38;5;28mhasattr\u001b[39m(conn, \u001b[38;5;124m'\u001b[39m\u001b[38;5;124mproxy_pool\u001b[39m\u001b[38;5;124m'\u001b[39m):\n",
      "File \u001b[1;32mc:\\users\\utilisateur\\miniconda3\\lib\\site-packages\\urllib3\\connectionpool.py:699\u001b[0m, in \u001b[0;36mHTTPConnectionPool.urlopen\u001b[1;34m(self, method, url, body, headers, retries, redirect, assert_same_host, timeout, pool_timeout, release_conn, chunked, body_pos, **response_kw)\u001b[0m\n\u001b[0;32m    696\u001b[0m     \u001b[38;5;28mself\u001b[39m\u001b[38;5;241m.\u001b[39m_prepare_proxy(conn)\n\u001b[0;32m    698\u001b[0m \u001b[38;5;66;03m# Make the request on the httplib connection object.\u001b[39;00m\n\u001b[1;32m--> 699\u001b[0m httplib_response \u001b[38;5;241m=\u001b[39m \u001b[38;5;28;43mself\u001b[39;49m\u001b[38;5;241;43m.\u001b[39;49m\u001b[43m_make_request\u001b[49m\u001b[43m(\u001b[49m\n\u001b[0;32m    700\u001b[0m \u001b[43m    \u001b[49m\u001b[43mconn\u001b[49m\u001b[43m,\u001b[49m\n\u001b[0;32m    701\u001b[0m \u001b[43m    \u001b[49m\u001b[43mmethod\u001b[49m\u001b[43m,\u001b[49m\n\u001b[0;32m    702\u001b[0m \u001b[43m    \u001b[49m\u001b[43murl\u001b[49m\u001b[43m,\u001b[49m\n\u001b[0;32m    703\u001b[0m \u001b[43m    \u001b[49m\u001b[43mtimeout\u001b[49m\u001b[38;5;241;43m=\u001b[39;49m\u001b[43mtimeout_obj\u001b[49m\u001b[43m,\u001b[49m\n\u001b[0;32m    704\u001b[0m \u001b[43m    \u001b[49m\u001b[43mbody\u001b[49m\u001b[38;5;241;43m=\u001b[39;49m\u001b[43mbody\u001b[49m\u001b[43m,\u001b[49m\n\u001b[0;32m    705\u001b[0m \u001b[43m    \u001b[49m\u001b[43mheaders\u001b[49m\u001b[38;5;241;43m=\u001b[39;49m\u001b[43mheaders\u001b[49m\u001b[43m,\u001b[49m\n\u001b[0;32m    706\u001b[0m \u001b[43m    \u001b[49m\u001b[43mchunked\u001b[49m\u001b[38;5;241;43m=\u001b[39;49m\u001b[43mchunked\u001b[49m\u001b[43m,\u001b[49m\n\u001b[0;32m    707\u001b[0m \u001b[43m\u001b[49m\u001b[43m)\u001b[49m\n\u001b[0;32m    709\u001b[0m \u001b[38;5;66;03m# If we're going to release the connection in ``finally:``, then\u001b[39;00m\n\u001b[0;32m    710\u001b[0m \u001b[38;5;66;03m# the response doesn't need to know about the connection. Otherwise\u001b[39;00m\n\u001b[0;32m    711\u001b[0m \u001b[38;5;66;03m# it will also try to release it and we'll have a double-release\u001b[39;00m\n\u001b[0;32m    712\u001b[0m \u001b[38;5;66;03m# mess.\u001b[39;00m\n\u001b[0;32m    713\u001b[0m response_conn \u001b[38;5;241m=\u001b[39m conn \u001b[38;5;28;01mif\u001b[39;00m \u001b[38;5;129;01mnot\u001b[39;00m release_conn \u001b[38;5;28;01melse\u001b[39;00m \u001b[38;5;28;01mNone\u001b[39;00m\n",
      "File \u001b[1;32mc:\\users\\utilisateur\\miniconda3\\lib\\site-packages\\urllib3\\connectionpool.py:445\u001b[0m, in \u001b[0;36mHTTPConnectionPool._make_request\u001b[1;34m(self, conn, method, url, timeout, chunked, **httplib_request_kw)\u001b[0m\n\u001b[0;32m    440\u001b[0m             httplib_response \u001b[38;5;241m=\u001b[39m conn\u001b[38;5;241m.\u001b[39mgetresponse()\n\u001b[0;32m    441\u001b[0m         \u001b[38;5;28;01mexcept\u001b[39;00m \u001b[38;5;167;01mBaseException\u001b[39;00m \u001b[38;5;28;01mas\u001b[39;00m e:\n\u001b[0;32m    442\u001b[0m             \u001b[38;5;66;03m# Remove the TypeError from the exception chain in\u001b[39;00m\n\u001b[0;32m    443\u001b[0m             \u001b[38;5;66;03m# Python 3 (including for exceptions like SystemExit).\u001b[39;00m\n\u001b[0;32m    444\u001b[0m             \u001b[38;5;66;03m# Otherwise it looks like a bug in the code.\u001b[39;00m\n\u001b[1;32m--> 445\u001b[0m             \u001b[43msix\u001b[49m\u001b[38;5;241;43m.\u001b[39;49m\u001b[43mraise_from\u001b[49m\u001b[43m(\u001b[49m\u001b[43me\u001b[49m\u001b[43m,\u001b[49m\u001b[43m \u001b[49m\u001b[38;5;28;43;01mNone\u001b[39;49;00m\u001b[43m)\u001b[49m\n\u001b[0;32m    446\u001b[0m \u001b[38;5;28;01mexcept\u001b[39;00m (SocketTimeout, BaseSSLError, SocketError) \u001b[38;5;28;01mas\u001b[39;00m e:\n\u001b[0;32m    447\u001b[0m     \u001b[38;5;28mself\u001b[39m\u001b[38;5;241m.\u001b[39m_raise_timeout(err\u001b[38;5;241m=\u001b[39me, url\u001b[38;5;241m=\u001b[39murl, timeout_value\u001b[38;5;241m=\u001b[39mread_timeout)\n",
      "File \u001b[1;32m<string>:3\u001b[0m, in \u001b[0;36mraise_from\u001b[1;34m(value, from_value)\u001b[0m\n",
      "File \u001b[1;32mc:\\users\\utilisateur\\miniconda3\\lib\\site-packages\\urllib3\\connectionpool.py:440\u001b[0m, in \u001b[0;36mHTTPConnectionPool._make_request\u001b[1;34m(self, conn, method, url, timeout, chunked, **httplib_request_kw)\u001b[0m\n\u001b[0;32m    437\u001b[0m \u001b[38;5;28;01mexcept\u001b[39;00m \u001b[38;5;167;01mTypeError\u001b[39;00m:\n\u001b[0;32m    438\u001b[0m     \u001b[38;5;66;03m# Python 3\u001b[39;00m\n\u001b[0;32m    439\u001b[0m     \u001b[38;5;28;01mtry\u001b[39;00m:\n\u001b[1;32m--> 440\u001b[0m         httplib_response \u001b[38;5;241m=\u001b[39m \u001b[43mconn\u001b[49m\u001b[38;5;241;43m.\u001b[39;49m\u001b[43mgetresponse\u001b[49m\u001b[43m(\u001b[49m\u001b[43m)\u001b[49m\n\u001b[0;32m    441\u001b[0m     \u001b[38;5;28;01mexcept\u001b[39;00m \u001b[38;5;167;01mBaseException\u001b[39;00m \u001b[38;5;28;01mas\u001b[39;00m e:\n\u001b[0;32m    442\u001b[0m         \u001b[38;5;66;03m# Remove the TypeError from the exception chain in\u001b[39;00m\n\u001b[0;32m    443\u001b[0m         \u001b[38;5;66;03m# Python 3 (including for exceptions like SystemExit).\u001b[39;00m\n\u001b[0;32m    444\u001b[0m         \u001b[38;5;66;03m# Otherwise it looks like a bug in the code.\u001b[39;00m\n\u001b[0;32m    445\u001b[0m         six\u001b[38;5;241m.\u001b[39mraise_from(e, \u001b[38;5;28;01mNone\u001b[39;00m)\n",
      "File \u001b[1;32mc:\\users\\utilisateur\\miniconda3\\lib\\http\\client.py:1345\u001b[0m, in \u001b[0;36mHTTPConnection.getresponse\u001b[1;34m(self)\u001b[0m\n\u001b[0;32m   1343\u001b[0m \u001b[38;5;28;01mtry\u001b[39;00m:\n\u001b[0;32m   1344\u001b[0m     \u001b[38;5;28;01mtry\u001b[39;00m:\n\u001b[1;32m-> 1345\u001b[0m         \u001b[43mresponse\u001b[49m\u001b[38;5;241;43m.\u001b[39;49m\u001b[43mbegin\u001b[49m\u001b[43m(\u001b[49m\u001b[43m)\u001b[49m\n\u001b[0;32m   1346\u001b[0m     \u001b[38;5;28;01mexcept\u001b[39;00m \u001b[38;5;167;01mConnectionError\u001b[39;00m:\n\u001b[0;32m   1347\u001b[0m         \u001b[38;5;28mself\u001b[39m\u001b[38;5;241m.\u001b[39mclose()\n",
      "File \u001b[1;32mc:\\users\\utilisateur\\miniconda3\\lib\\http\\client.py:307\u001b[0m, in \u001b[0;36mHTTPResponse.begin\u001b[1;34m(self)\u001b[0m\n\u001b[0;32m    305\u001b[0m \u001b[38;5;66;03m# read until we get a non-100 response\u001b[39;00m\n\u001b[0;32m    306\u001b[0m \u001b[38;5;28;01mwhile\u001b[39;00m \u001b[38;5;28;01mTrue\u001b[39;00m:\n\u001b[1;32m--> 307\u001b[0m     version, status, reason \u001b[38;5;241m=\u001b[39m \u001b[38;5;28;43mself\u001b[39;49m\u001b[38;5;241;43m.\u001b[39;49m\u001b[43m_read_status\u001b[49m\u001b[43m(\u001b[49m\u001b[43m)\u001b[49m\n\u001b[0;32m    308\u001b[0m     \u001b[38;5;28;01mif\u001b[39;00m status \u001b[38;5;241m!=\u001b[39m CONTINUE:\n\u001b[0;32m    309\u001b[0m         \u001b[38;5;28;01mbreak\u001b[39;00m\n",
      "File \u001b[1;32mc:\\users\\utilisateur\\miniconda3\\lib\\http\\client.py:268\u001b[0m, in \u001b[0;36mHTTPResponse._read_status\u001b[1;34m(self)\u001b[0m\n\u001b[0;32m    267\u001b[0m \u001b[38;5;28;01mdef\u001b[39;00m \u001b[38;5;21m_read_status\u001b[39m(\u001b[38;5;28mself\u001b[39m):\n\u001b[1;32m--> 268\u001b[0m     line \u001b[38;5;241m=\u001b[39m \u001b[38;5;28mstr\u001b[39m(\u001b[38;5;28;43mself\u001b[39;49m\u001b[38;5;241;43m.\u001b[39;49m\u001b[43mfp\u001b[49m\u001b[38;5;241;43m.\u001b[39;49m\u001b[43mreadline\u001b[49m\u001b[43m(\u001b[49m\u001b[43m_MAXLINE\u001b[49m\u001b[43m \u001b[49m\u001b[38;5;241;43m+\u001b[39;49m\u001b[43m \u001b[49m\u001b[38;5;241;43m1\u001b[39;49m\u001b[43m)\u001b[49m, \u001b[38;5;124m\"\u001b[39m\u001b[38;5;124miso-8859-1\u001b[39m\u001b[38;5;124m\"\u001b[39m)\n\u001b[0;32m    269\u001b[0m     \u001b[38;5;28;01mif\u001b[39;00m \u001b[38;5;28mlen\u001b[39m(line) \u001b[38;5;241m>\u001b[39m _MAXLINE:\n\u001b[0;32m    270\u001b[0m         \u001b[38;5;28;01mraise\u001b[39;00m LineTooLong(\u001b[38;5;124m\"\u001b[39m\u001b[38;5;124mstatus line\u001b[39m\u001b[38;5;124m\"\u001b[39m)\n",
      "File \u001b[1;32mc:\\users\\utilisateur\\miniconda3\\lib\\socket.py:704\u001b[0m, in \u001b[0;36mSocketIO.readinto\u001b[1;34m(self, b)\u001b[0m\n\u001b[0;32m    702\u001b[0m \u001b[38;5;28;01mwhile\u001b[39;00m \u001b[38;5;28;01mTrue\u001b[39;00m:\n\u001b[0;32m    703\u001b[0m     \u001b[38;5;28;01mtry\u001b[39;00m:\n\u001b[1;32m--> 704\u001b[0m         \u001b[38;5;28;01mreturn\u001b[39;00m \u001b[38;5;28;43mself\u001b[39;49m\u001b[38;5;241;43m.\u001b[39;49m\u001b[43m_sock\u001b[49m\u001b[38;5;241;43m.\u001b[39;49m\u001b[43mrecv_into\u001b[49m\u001b[43m(\u001b[49m\u001b[43mb\u001b[49m\u001b[43m)\u001b[49m\n\u001b[0;32m    705\u001b[0m     \u001b[38;5;28;01mexcept\u001b[39;00m timeout:\n\u001b[0;32m    706\u001b[0m         \u001b[38;5;28mself\u001b[39m\u001b[38;5;241m.\u001b[39m_timeout_occurred \u001b[38;5;241m=\u001b[39m \u001b[38;5;28;01mTrue\u001b[39;00m\n",
      "File \u001b[1;32mc:\\users\\utilisateur\\miniconda3\\lib\\ssl.py:1241\u001b[0m, in \u001b[0;36mSSLSocket.recv_into\u001b[1;34m(self, buffer, nbytes, flags)\u001b[0m\n\u001b[0;32m   1237\u001b[0m     \u001b[38;5;28;01mif\u001b[39;00m flags \u001b[38;5;241m!=\u001b[39m \u001b[38;5;241m0\u001b[39m:\n\u001b[0;32m   1238\u001b[0m         \u001b[38;5;28;01mraise\u001b[39;00m \u001b[38;5;167;01mValueError\u001b[39;00m(\n\u001b[0;32m   1239\u001b[0m           \u001b[38;5;124m\"\u001b[39m\u001b[38;5;124mnon-zero flags not allowed in calls to recv_into() on \u001b[39m\u001b[38;5;132;01m%s\u001b[39;00m\u001b[38;5;124m\"\u001b[39m \u001b[38;5;241m%\u001b[39m\n\u001b[0;32m   1240\u001b[0m           \u001b[38;5;28mself\u001b[39m\u001b[38;5;241m.\u001b[39m\u001b[38;5;18m__class__\u001b[39m)\n\u001b[1;32m-> 1241\u001b[0m     \u001b[38;5;28;01mreturn\u001b[39;00m \u001b[38;5;28;43mself\u001b[39;49m\u001b[38;5;241;43m.\u001b[39;49m\u001b[43mread\u001b[49m\u001b[43m(\u001b[49m\u001b[43mnbytes\u001b[49m\u001b[43m,\u001b[49m\u001b[43m \u001b[49m\u001b[43mbuffer\u001b[49m\u001b[43m)\u001b[49m\n\u001b[0;32m   1242\u001b[0m \u001b[38;5;28;01melse\u001b[39;00m:\n\u001b[0;32m   1243\u001b[0m     \u001b[38;5;28;01mreturn\u001b[39;00m \u001b[38;5;28msuper\u001b[39m()\u001b[38;5;241m.\u001b[39mrecv_into(buffer, nbytes, flags)\n",
      "File \u001b[1;32mc:\\users\\utilisateur\\miniconda3\\lib\\ssl.py:1099\u001b[0m, in \u001b[0;36mSSLSocket.read\u001b[1;34m(self, len, buffer)\u001b[0m\n\u001b[0;32m   1097\u001b[0m \u001b[38;5;28;01mtry\u001b[39;00m:\n\u001b[0;32m   1098\u001b[0m     \u001b[38;5;28;01mif\u001b[39;00m buffer \u001b[38;5;129;01mis\u001b[39;00m \u001b[38;5;129;01mnot\u001b[39;00m \u001b[38;5;28;01mNone\u001b[39;00m:\n\u001b[1;32m-> 1099\u001b[0m         \u001b[38;5;28;01mreturn\u001b[39;00m \u001b[38;5;28;43mself\u001b[39;49m\u001b[38;5;241;43m.\u001b[39;49m\u001b[43m_sslobj\u001b[49m\u001b[38;5;241;43m.\u001b[39;49m\u001b[43mread\u001b[49m\u001b[43m(\u001b[49m\u001b[38;5;28;43mlen\u001b[39;49m\u001b[43m,\u001b[49m\u001b[43m \u001b[49m\u001b[43mbuffer\u001b[49m\u001b[43m)\u001b[49m\n\u001b[0;32m   1100\u001b[0m     \u001b[38;5;28;01melse\u001b[39;00m:\n\u001b[0;32m   1101\u001b[0m         \u001b[38;5;28;01mreturn\u001b[39;00m \u001b[38;5;28mself\u001b[39m\u001b[38;5;241m.\u001b[39m_sslobj\u001b[38;5;241m.\u001b[39mread(\u001b[38;5;28mlen\u001b[39m)\n",
      "\u001b[1;31mKeyboardInterrupt\u001b[0m: "
     ]
    }
   ],
   "source": [
    "with tqdm(total=total_count, position=0, leave=True) as pbar:\n",
    "    while current_count < total_count:\n",
    "        soup = bs(get_all_results(cookies))\n",
    "        prettyHTML = soup.prettify()\n",
    "        all_dates = [el.contents[0].strip() for el in soup.find_all(\"span\", {\"class\": \"details\"})]\n",
    "        all_documents = [el.get('name') for el in soup.find_all(\"div\", {\"class\" : reg})]\n",
    "        file_name = f'{all_dates[0]}_{all_dates[-1]}.html'\n",
    "        print(f\"Downloading f{file_name}\")\n",
    "        with open(os.path.join('output', file_name), 'w', encoding='utf-8') as f:\n",
    "            f.write(prettyHTML)\n",
    "        nb_new_documents = len(set(all_documents) - all_parsed_documents)\n",
    "        current_count += nb_new_documents\n",
    "        pbar.update(nb_new_documents)\n",
    "        all_parsed_documents.update(all_documents)\n",
    "\n",
    "        year, month, day = all_dates[-1].split('-')\n",
    "        # this gets rid of trailing 0\n",
    "        month = str(int(month))\n",
    "        day = str(int(day))\n",
    "\n",
    "        driver.get('https://nouveau-europresse-com.accesdistant.sorbonne-universite.fr/Search/AdvancedMobile')\n",
    "\n",
    "        select_day = Select(driver.find_element(By.XPATH, '/html/body/section/form/div/div[2]/div[1]/div[5]/div[3]/div/div[2]/span[1]/span/select[1]'))\n",
    "        select_month = Select(driver.find_element(By.XPATH, '/html/body/section/form/div/div[2]/div[1]/div[5]/div[3]/div/div[2]/span[1]/span/select[2]'))\n",
    "        select_year = Select(driver.find_element(By.XPATH, '/html/body/section/form/div/div[2]/div[1]/div[5]/div[3]/div/div[2]/span[1]/span/select[3]'))\n",
    "\n",
    "        print(f'Setting new values to search: day: {day}, month: {month}, year: {year}')\n",
    "        select_day.select_by_value(day)\n",
    "        select_month.select_by_value(month)\n",
    "        select_year.select_by_value(year)\n",
    "\n",
    "        btn = driver.find_element(By.ID, 'btnSearch')\n",
    "        btn.click()\n",
    "\n",
    "        time.sleep(1)"
   ]
  },
  {
   "cell_type": "code",
   "execution_count": 11,
   "id": "d08f5d5f",
   "metadata": {},
   "outputs": [],
   "source": [
    "soup = bs(get_all_results(cookies))\n",
    "prettyHTML = soup.prettify()\n",
    "all_dates = [el.contents[0].strip() for el in soup.find_all(\"span\", {\"class\": \"details\"})]\n",
    "all_documents = [el.get('name') for el in soup.find_all(\"div\", {\"class\" : reg})] \n",
    "file_name = f'{all_dates[0]}_{all_dates[-1]}.html'\n",
    "with open(os.path.join('output', file_name), 'w', encoding='utf-8') as f:\n",
    "    f.write(prettyHTML)\n",
    "nb_new_documents = len(set(all_documents) - all_parsed_documents)\n",
    "current_count += nb_new_documents\n",
    "pbar.update(current_count)\n",
    "all_parsed_documents.update(all_documents)\n",
    "\n",
    "year, month, day = all_dates[-1].split('-')\n",
    "# this gets rid of trailing 0\n",
    "month = str(int(month))\n",
    "day = str(int(month))"
   ]
  },
  {
   "cell_type": "code",
   "execution_count": 10,
   "id": "cd923a21",
   "metadata": {},
   "outputs": [
    {
     "name": "stdout",
     "output_type": "stream",
     "text": [
      "2022-01-07_2022-02-04.html\n",
      "['2022', '02', '04']\n",
      "2022 2 2\n"
     ]
    }
   ],
   "source": [
    "print(file_name)\n",
    "print(all_dates[-1].split('-'))\n",
    "print(year, month, day)"
   ]
  },
  {
   "cell_type": "code",
   "execution_count": 187,
   "id": "47dccbd9",
   "metadata": {},
   "outputs": [
    {
     "name": "stderr",
     "output_type": "stream",
     "text": [
      "C:\\Users\\Utilisateur\\AppData\\Local\\Temp\\ipykernel_6312\\2748041495.py:11: DeprecationWarning: find_element_by_* commands are deprecated. Please use find_element() instead\n",
      "  btn = driver.find_element_by_id('btnSearch')\n"
     ]
    }
   ],
   "source": [
    "driver.get('https://nouveau-europresse-com.accesdistant.sorbonne-universite.fr/Search/AdvancedMobile')\n",
    "\n",
    "select_day = Select(driver.find_element(By.XPATH, '/html/body/section/form/div/div[2]/div[1]/div[5]/div[3]/div/div[2]/span[1]/span/select[1]'))\n",
    "select_month = Select(driver.find_element(By.XPATH, '/html/body/section/form/div/div[2]/div[1]/div[5]/div[3]/div/div[2]/span[1]/span/select[2]'))\n",
    "select_year = Select(driver.find_element(By.XPATH, '/html/body/section/form/div/div[2]/div[1]/div[5]/div[3]/div/div[2]/span[1]/span/select[3]'))\n",
    "\n",
    "select_day.select_by_value(day)\n",
    "select_month.select_by_value(month)\n",
    "select_year.select_by_value(year)\n",
    "\n",
    "btn = driver.find_element_by_id('btnSearch')\n",
    "btn.click()\n",
    "\n",
    "time.sleep(1)"
   ]
  }
 ],
 "metadata": {
  "kernelspec": {
   "display_name": "Python 3 (ipykernel)",
   "language": "python",
   "name": "python3"
  },
  "language_info": {
   "codemirror_mode": {
    "name": "ipython",
    "version": 3
   },
   "file_extension": ".py",
   "mimetype": "text/x-python",
   "name": "python",
   "nbconvert_exporter": "python",
   "pygments_lexer": "ipython3",
   "version": "3.9.5"
  }
 },
 "nbformat": 4,
 "nbformat_minor": 5
}
